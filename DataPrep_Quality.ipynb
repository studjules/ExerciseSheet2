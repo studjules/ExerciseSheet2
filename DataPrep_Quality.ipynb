{
 "cells": [
  {
   "cell_type": "markdown",
   "source": [
    "# Exercise sheet 2\n",
    "\n",
    "## Exercise 1\n",
    "> a) You will notice that this format is not particularly suited for data analysis. Bring the data into a better format, transform and reshape the data.\n",
    "\n",
    "### Approach:\n",
    "> \n",
    "> First of all i import the necessary packages\n",
    "> \n"
   ],
   "metadata": {
    "collapsed": false
   },
   "id": "e629e60824933c3"
  },
  {
   "cell_type": "code",
   "execution_count": null,
   "outputs": [],
   "source": [
    "import pandas as pd\n",
    "import numpy as np\n",
    "import matplotlib.pyplot as plt\n",
    "import seaborn as sns\n",
    "import json"
   ],
   "metadata": {
    "collapsed": false
   },
   "id": "73be290e03ebccb0"
  },
  {
   "cell_type": "code",
   "execution_count": null,
   "outputs": [],
   "source": [
    "#load the jsonfile into a dictionary\n",
    "with open(\"snakes.json\", \"r\") as json_file:\n",
    "\n",
    "       json_data = json_load(json_file)"
   ],
   "metadata": {
    "collapsed": false
   },
   "id": "4b607ee7ff812a28"
  }
 ],
 "metadata": {
  "kernelspec": {
   "display_name": "Python 3",
   "language": "python",
   "name": "python3"
  },
  "language_info": {
   "codemirror_mode": {
    "name": "ipython",
    "version": 2
   },
   "file_extension": ".py",
   "mimetype": "text/x-python",
   "name": "python",
   "nbconvert_exporter": "python",
   "pygments_lexer": "ipython2",
   "version": "2.7.6"
  }
 },
 "nbformat": 4,
 "nbformat_minor": 5
}
