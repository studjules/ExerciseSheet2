{
 "cells": [
  {
   "cell_type": "markdown",
   "source": [
    "# Exercise sheet 2\n",
    "\n",
    "## Exercise 1\n",
    "> a) You will notice that this format is not particularly suited for data analysis. Bring the data into a better format, transform and reshape the data.\n",
    "\n",
    "### Approach:\n",
    "> \n",
    "> First of all i import the necessary packages\n",
    "\n"
   ],
   "metadata": {
    "collapsed": false
   },
   "id": "e629e60824933c3"
  },
  {
   "cell_type": "code",
   "execution_count": 92,
   "outputs": [],
   "source": [
    "import pandas as pd\n",
    "from scipy import stats\n",
    "import numpy as np\n",
    "import matplotlib.pyplot as plt\n",
    "import seaborn as sns\n",
    "import json\n",
    "import ipywidgets as widgets\n",
    "import plotly.express as px\n",
    "import missingno as msno\n",
    "from sklearn.cluster import DBSCAN\n"
   ],
   "metadata": {
    "collapsed": false,
    "ExecuteTime": {
     "end_time": "2023-10-19T15:32:56.213485Z",
     "start_time": "2023-10-19T15:32:55.918741Z"
    }
   },
   "id": "73be290e03ebccb0"
  },
  {
   "cell_type": "markdown",
   "source": [
    "Next I am  loading the json file into a dictionary and then transform the dictionary into a dataframe."
   ],
   "metadata": {
    "collapsed": false
   },
   "id": "5276c77c3318ef9d"
  },
  {
   "cell_type": "code",
   "execution_count": 63,
   "outputs": [],
   "source": [
    "#load the jsonfile into a dictionary\n",
    "with open(\"spotify_modified.json\", \"r\") as json_file:\n",
    "\n",
    "       json_data = json.load(json_file)"
   ],
   "metadata": {
    "collapsed": false,
    "ExecuteTime": {
     "end_time": "2023-10-19T14:48:05.188323Z",
     "start_time": "2023-10-19T14:48:05.175073Z"
    }
   },
   "id": "4b607ee7ff812a28"
  },
  {
   "cell_type": "code",
   "execution_count": 64,
   "outputs": [],
   "source": [
    "#transform the dictionary into a dataframe\n",
    "spotify_df = pd.DataFrame(json_data)"
   ],
   "metadata": {
    "collapsed": false,
    "ExecuteTime": {
     "end_time": "2023-10-19T14:48:05.793090Z",
     "start_time": "2023-10-19T14:48:05.788962Z"
    }
   },
   "id": "97a36b981fa39dda"
  },
  {
   "cell_type": "code",
   "execution_count": 65,
   "outputs": [
    {
     "data": {
      "text/plain": "                              track_name                artist(s)_name  \\\n0    Seven (feat. Latto) (Explicit Ver.)              Latto, Jung Kook   \n1                                   LALA                   Myke Towers   \n2                                vampire                Olivia Rodrigo   \n3                           Cruel Summer                  Taylor Swift   \n4                         WHERE SHE GOES                     Bad Bunny   \n..                                   ...                           ...   \n953                        Sweet Nothing                  Taylor Swift   \n954                         Cruel Summer                  Taylor Swift   \n955                                QUEMA  Sog, Ryan Castro, Peso Pluma   \n956                      Titi Me Pregunt                     Bad Bunny   \n957                            Rich Flex              Drake, 21 Savage   \n\n    artist_count release_date in_spotify_playlists in_spotify_charts  \\\n0              2     07/14/23                  553               147   \n1              1     03/23/23                 1474                48   \n2              1     06/30/23                 1397               113   \n3              1     08/23/19                 7858               100   \n4              1     05/18/23                 3133                50   \n..           ...          ...                  ...               ...   \n953            1     10/21/22                 1747                 0   \n954            1     08/23/19                 7858               100   \n955            3     07/13/23                  437                31   \n956            1     05/06/22                 9037                42   \n957            2     11/04/22                 4657                18   \n\n        streams  in_apple_playlists  in_apple_charts  in_deezer_playlists  \\\n0     141381703                  43              263                   45   \n1     133716286                  48              126                   58   \n2     140003974                  94              207                   91   \n3     800840817                 116              207                  125   \n4     303236322                  84              133                   87   \n..          ...                 ...              ...                  ...   \n953   186104310                   9                6                   13   \n954   800840817                 116              207                  125   \n955    11599388                  17               29                   26   \n956  1264310836                 124              133                  139   \n957   573633020                  84               84                   42   \n\n     in_deezer_charts in_shazam_charts  bpm key   mode  \\\n0                  10              826  125   B  Major   \n1                  14              382   92  C#  Major   \n2                  14              949  138   F  Major   \n3                  12              548  170   A  Major   \n4                  15              425  144   A  Major   \n..                ...              ...  ...  ..    ...   \n953                 0                2  177      Major   \n954                12              548  170   A  Major   \n955                 3              208   97      Major   \n956                14              166  107   F  Minor   \n957                 0               23  153   B  Major   \n\n                                               ranking  \n0    {'danceability_%': 80, 'valence_%': 89, 'energ...  \n1    {'danceability_%': 71, 'valence_%': 61, 'energ...  \n2    {'danceability_%': 51, 'valence_%': 32, 'energ...  \n3    {'danceability_%': 55, 'valence_%': 58, 'energ...  \n4    {'danceability_%': 65, 'valence_%': 23, 'energ...  \n..                                                 ...  \n953  {'danceability_%': 34, 'valence_%': 39, 'energ...  \n954  {'danceability_%': 55, 'valence_%': 58, 'energ...  \n955  {'danceability_%': 79, 'valence_%': 92, 'energ...  \n956  {'danceability_%': 65, 'valence_%': 19, 'energ...  \n957  {'danceability_%': 56, 'valence_%': 42, 'energ...  \n\n[958 rows x 16 columns]",
      "text/html": "<div>\n<style scoped>\n    .dataframe tbody tr th:only-of-type {\n        vertical-align: middle;\n    }\n\n    .dataframe tbody tr th {\n        vertical-align: top;\n    }\n\n    .dataframe thead th {\n        text-align: right;\n    }\n</style>\n<table border=\"1\" class=\"dataframe\">\n  <thead>\n    <tr style=\"text-align: right;\">\n      <th></th>\n      <th>track_name</th>\n      <th>artist(s)_name</th>\n      <th>artist_count</th>\n      <th>release_date</th>\n      <th>in_spotify_playlists</th>\n      <th>in_spotify_charts</th>\n      <th>streams</th>\n      <th>in_apple_playlists</th>\n      <th>in_apple_charts</th>\n      <th>in_deezer_playlists</th>\n      <th>in_deezer_charts</th>\n      <th>in_shazam_charts</th>\n      <th>bpm</th>\n      <th>key</th>\n      <th>mode</th>\n      <th>ranking</th>\n    </tr>\n  </thead>\n  <tbody>\n    <tr>\n      <th>0</th>\n      <td>Seven (feat. Latto) (Explicit Ver.)</td>\n      <td>Latto, Jung Kook</td>\n      <td>2</td>\n      <td>07/14/23</td>\n      <td>553</td>\n      <td>147</td>\n      <td>141381703</td>\n      <td>43</td>\n      <td>263</td>\n      <td>45</td>\n      <td>10</td>\n      <td>826</td>\n      <td>125</td>\n      <td>B</td>\n      <td>Major</td>\n      <td>{'danceability_%': 80, 'valence_%': 89, 'energ...</td>\n    </tr>\n    <tr>\n      <th>1</th>\n      <td>LALA</td>\n      <td>Myke Towers</td>\n      <td>1</td>\n      <td>03/23/23</td>\n      <td>1474</td>\n      <td>48</td>\n      <td>133716286</td>\n      <td>48</td>\n      <td>126</td>\n      <td>58</td>\n      <td>14</td>\n      <td>382</td>\n      <td>92</td>\n      <td>C#</td>\n      <td>Major</td>\n      <td>{'danceability_%': 71, 'valence_%': 61, 'energ...</td>\n    </tr>\n    <tr>\n      <th>2</th>\n      <td>vampire</td>\n      <td>Olivia Rodrigo</td>\n      <td>1</td>\n      <td>06/30/23</td>\n      <td>1397</td>\n      <td>113</td>\n      <td>140003974</td>\n      <td>94</td>\n      <td>207</td>\n      <td>91</td>\n      <td>14</td>\n      <td>949</td>\n      <td>138</td>\n      <td>F</td>\n      <td>Major</td>\n      <td>{'danceability_%': 51, 'valence_%': 32, 'energ...</td>\n    </tr>\n    <tr>\n      <th>3</th>\n      <td>Cruel Summer</td>\n      <td>Taylor Swift</td>\n      <td>1</td>\n      <td>08/23/19</td>\n      <td>7858</td>\n      <td>100</td>\n      <td>800840817</td>\n      <td>116</td>\n      <td>207</td>\n      <td>125</td>\n      <td>12</td>\n      <td>548</td>\n      <td>170</td>\n      <td>A</td>\n      <td>Major</td>\n      <td>{'danceability_%': 55, 'valence_%': 58, 'energ...</td>\n    </tr>\n    <tr>\n      <th>4</th>\n      <td>WHERE SHE GOES</td>\n      <td>Bad Bunny</td>\n      <td>1</td>\n      <td>05/18/23</td>\n      <td>3133</td>\n      <td>50</td>\n      <td>303236322</td>\n      <td>84</td>\n      <td>133</td>\n      <td>87</td>\n      <td>15</td>\n      <td>425</td>\n      <td>144</td>\n      <td>A</td>\n      <td>Major</td>\n      <td>{'danceability_%': 65, 'valence_%': 23, 'energ...</td>\n    </tr>\n    <tr>\n      <th>...</th>\n      <td>...</td>\n      <td>...</td>\n      <td>...</td>\n      <td>...</td>\n      <td>...</td>\n      <td>...</td>\n      <td>...</td>\n      <td>...</td>\n      <td>...</td>\n      <td>...</td>\n      <td>...</td>\n      <td>...</td>\n      <td>...</td>\n      <td>...</td>\n      <td>...</td>\n      <td>...</td>\n    </tr>\n    <tr>\n      <th>953</th>\n      <td>Sweet Nothing</td>\n      <td>Taylor Swift</td>\n      <td>1</td>\n      <td>10/21/22</td>\n      <td>1747</td>\n      <td>0</td>\n      <td>186104310</td>\n      <td>9</td>\n      <td>6</td>\n      <td>13</td>\n      <td>0</td>\n      <td>2</td>\n      <td>177</td>\n      <td></td>\n      <td>Major</td>\n      <td>{'danceability_%': 34, 'valence_%': 39, 'energ...</td>\n    </tr>\n    <tr>\n      <th>954</th>\n      <td>Cruel Summer</td>\n      <td>Taylor Swift</td>\n      <td>1</td>\n      <td>08/23/19</td>\n      <td>7858</td>\n      <td>100</td>\n      <td>800840817</td>\n      <td>116</td>\n      <td>207</td>\n      <td>125</td>\n      <td>12</td>\n      <td>548</td>\n      <td>170</td>\n      <td>A</td>\n      <td>Major</td>\n      <td>{'danceability_%': 55, 'valence_%': 58, 'energ...</td>\n    </tr>\n    <tr>\n      <th>955</th>\n      <td>QUEMA</td>\n      <td>Sog, Ryan Castro, Peso Pluma</td>\n      <td>3</td>\n      <td>07/13/23</td>\n      <td>437</td>\n      <td>31</td>\n      <td>11599388</td>\n      <td>17</td>\n      <td>29</td>\n      <td>26</td>\n      <td>3</td>\n      <td>208</td>\n      <td>97</td>\n      <td></td>\n      <td>Major</td>\n      <td>{'danceability_%': 79, 'valence_%': 92, 'energ...</td>\n    </tr>\n    <tr>\n      <th>956</th>\n      <td>Titi Me Pregunt</td>\n      <td>Bad Bunny</td>\n      <td>1</td>\n      <td>05/06/22</td>\n      <td>9037</td>\n      <td>42</td>\n      <td>1264310836</td>\n      <td>124</td>\n      <td>133</td>\n      <td>139</td>\n      <td>14</td>\n      <td>166</td>\n      <td>107</td>\n      <td>F</td>\n      <td>Minor</td>\n      <td>{'danceability_%': 65, 'valence_%': 19, 'energ...</td>\n    </tr>\n    <tr>\n      <th>957</th>\n      <td>Rich Flex</td>\n      <td>Drake, 21 Savage</td>\n      <td>2</td>\n      <td>11/04/22</td>\n      <td>4657</td>\n      <td>18</td>\n      <td>573633020</td>\n      <td>84</td>\n      <td>84</td>\n      <td>42</td>\n      <td>0</td>\n      <td>23</td>\n      <td>153</td>\n      <td>B</td>\n      <td>Major</td>\n      <td>{'danceability_%': 56, 'valence_%': 42, 'energ...</td>\n    </tr>\n  </tbody>\n</table>\n<p>958 rows × 16 columns</p>\n</div>"
     },
     "execution_count": 65,
     "metadata": {},
     "output_type": "execute_result"
    }
   ],
   "source": [
    "#Have a look at the dataframe\n",
    "spotify_df\n"
   ],
   "metadata": {
    "collapsed": false,
    "ExecuteTime": {
     "end_time": "2023-10-19T14:48:06.386468Z",
     "start_time": "2023-10-19T14:48:06.339076Z"
    }
   },
   "id": "6339cf7853ecbc5b"
  },
  {
   "cell_type": "markdown",
   "source": [
    "Looking at the created dataframe I created one column ranking with a dictionary.\n",
    "No I would like to make a single column for each measure in the dictionary. "
   ],
   "metadata": {
    "collapsed": false
   },
   "id": "756b8cd5841cfaa2"
  },
  {
   "cell_type": "code",
   "execution_count": 66,
   "outputs": [
    {
     "data": {
      "text/plain": "Index(['track_name', 'artist(s)_name', 'artist_count', 'release_date',\n       'in_spotify_playlists', 'in_spotify_charts', 'streams',\n       'in_apple_playlists', 'in_apple_charts', 'in_deezer_playlists',\n       'in_deezer_charts', 'in_shazam_charts', 'bpm', 'key', 'mode',\n       'danceability_%', 'valence_%', 'energy_%', 'acousticness_%',\n       'instrumentalness_%', 'liveness_%', 'speechiness_%'],\n      dtype='object')"
     },
     "execution_count": 66,
     "metadata": {},
     "output_type": "execute_result"
    }
   ],
   "source": [
    "#Create columns: \"danceability_%\", \"valence_%\", \"energy_%\", \"acousticness_%\", \"instrumentalness_%\",\"liveness_%\", speechiness_%\"\n",
    "#I am using the apply function to create a new column for each measure in the dictionary and drop the old column\n",
    "spotify_df = pd.concat([spotify_df.drop(['ranking'], axis=1), spotify_df['ranking'].apply(pd.Series)], axis=1)\n",
    "#I have a look at the columns\n",
    "spotify_df.columns\n"
   ],
   "metadata": {
    "collapsed": false,
    "ExecuteTime": {
     "end_time": "2023-10-19T14:48:07.800076Z",
     "start_time": "2023-10-19T14:48:07.659052Z"
    }
   },
   "id": "38d5d6d8abcf1a7"
  },
  {
   "cell_type": "markdown",
   "source": [
    "After having a look at the columns adding the new columns worked out. I added the columns: 'danceability_%', 'valence_%', 'energy_%', 'acousticness_%', 'instrumentalness_%','liveness_%' and 'speechiness_%'."
   ],
   "metadata": {
    "collapsed": false
   },
   "id": "c7b62bd954e0034e"
  },
  {
   "cell_type": "code",
   "execution_count": 67,
   "outputs": [
    {
     "data": {
      "text/plain": "                              track_name                artist(s)_name  \\\n0    Seven (feat. Latto) (Explicit Ver.)              Latto, Jung Kook   \n1                                   LALA                   Myke Towers   \n2                                vampire                Olivia Rodrigo   \n3                           Cruel Summer                  Taylor Swift   \n4                         WHERE SHE GOES                     Bad Bunny   \n..                                   ...                           ...   \n953                        Sweet Nothing                  Taylor Swift   \n954                         Cruel Summer                  Taylor Swift   \n955                                QUEMA  Sog, Ryan Castro, Peso Pluma   \n956                      Titi Me Pregunt                     Bad Bunny   \n957                            Rich Flex              Drake, 21 Savage   \n\n    artist_count release_date in_spotify_playlists in_spotify_charts  \\\n0              2     07/14/23                  553               147   \n1              1     03/23/23                 1474                48   \n2              1     06/30/23                 1397               113   \n3              1     08/23/19                 7858               100   \n4              1     05/18/23                 3133                50   \n..           ...          ...                  ...               ...   \n953            1     10/21/22                 1747                 0   \n954            1     08/23/19                 7858               100   \n955            3     07/13/23                  437                31   \n956            1     05/06/22                 9037                42   \n957            2     11/04/22                 4657                18   \n\n        streams  in_apple_playlists  in_apple_charts  in_deezer_playlists  \\\n0     141381703                  43              263                   45   \n1     133716286                  48              126                   58   \n2     140003974                  94              207                   91   \n3     800840817                 116              207                  125   \n4     303236322                  84              133                   87   \n..          ...                 ...              ...                  ...   \n953   186104310                   9                6                   13   \n954   800840817                 116              207                  125   \n955    11599388                  17               29                   26   \n956  1264310836                 124              133                  139   \n957   573633020                  84               84                   42   \n\n     ...  bpm key   mode danceability_% valence_%  energy_%  acousticness_%  \\\n0    ...  125   B  Major             80        89        83              31   \n1    ...   92  C#  Major             71        61        74               7   \n2    ...  138   F  Major             51        32        53              17   \n3    ...  170   A  Major             55        58        72              11   \n4    ...  144   A  Major             65        23        80              14   \n..   ...  ...  ..    ...            ...       ...       ...             ...   \n953  ...  177      Major             34        39        16              97   \n954  ...  170   A  Major             55        58        72              11   \n955  ...   97      Major             79        92        89               5   \n956  ...  107   F  Minor             65        19        72              10   \n957  ...  153   B  Major             56        42        52               5   \n\n     instrumentalness_%  liveness_%  speechiness_%  \n0                     0           8              4  \n1                     0          10              4  \n2                     0          31              6  \n3                     0          11             15  \n4                    63          11              6  \n..                  ...         ...            ...  \n953                   0          12              5  \n954                   0          11             15  \n955                   0           6              5  \n956                   0          13             25  \n957                   0          36             24  \n\n[958 rows x 22 columns]",
      "text/html": "<div>\n<style scoped>\n    .dataframe tbody tr th:only-of-type {\n        vertical-align: middle;\n    }\n\n    .dataframe tbody tr th {\n        vertical-align: top;\n    }\n\n    .dataframe thead th {\n        text-align: right;\n    }\n</style>\n<table border=\"1\" class=\"dataframe\">\n  <thead>\n    <tr style=\"text-align: right;\">\n      <th></th>\n      <th>track_name</th>\n      <th>artist(s)_name</th>\n      <th>artist_count</th>\n      <th>release_date</th>\n      <th>in_spotify_playlists</th>\n      <th>in_spotify_charts</th>\n      <th>streams</th>\n      <th>in_apple_playlists</th>\n      <th>in_apple_charts</th>\n      <th>in_deezer_playlists</th>\n      <th>...</th>\n      <th>bpm</th>\n      <th>key</th>\n      <th>mode</th>\n      <th>danceability_%</th>\n      <th>valence_%</th>\n      <th>energy_%</th>\n      <th>acousticness_%</th>\n      <th>instrumentalness_%</th>\n      <th>liveness_%</th>\n      <th>speechiness_%</th>\n    </tr>\n  </thead>\n  <tbody>\n    <tr>\n      <th>0</th>\n      <td>Seven (feat. Latto) (Explicit Ver.)</td>\n      <td>Latto, Jung Kook</td>\n      <td>2</td>\n      <td>07/14/23</td>\n      <td>553</td>\n      <td>147</td>\n      <td>141381703</td>\n      <td>43</td>\n      <td>263</td>\n      <td>45</td>\n      <td>...</td>\n      <td>125</td>\n      <td>B</td>\n      <td>Major</td>\n      <td>80</td>\n      <td>89</td>\n      <td>83</td>\n      <td>31</td>\n      <td>0</td>\n      <td>8</td>\n      <td>4</td>\n    </tr>\n    <tr>\n      <th>1</th>\n      <td>LALA</td>\n      <td>Myke Towers</td>\n      <td>1</td>\n      <td>03/23/23</td>\n      <td>1474</td>\n      <td>48</td>\n      <td>133716286</td>\n      <td>48</td>\n      <td>126</td>\n      <td>58</td>\n      <td>...</td>\n      <td>92</td>\n      <td>C#</td>\n      <td>Major</td>\n      <td>71</td>\n      <td>61</td>\n      <td>74</td>\n      <td>7</td>\n      <td>0</td>\n      <td>10</td>\n      <td>4</td>\n    </tr>\n    <tr>\n      <th>2</th>\n      <td>vampire</td>\n      <td>Olivia Rodrigo</td>\n      <td>1</td>\n      <td>06/30/23</td>\n      <td>1397</td>\n      <td>113</td>\n      <td>140003974</td>\n      <td>94</td>\n      <td>207</td>\n      <td>91</td>\n      <td>...</td>\n      <td>138</td>\n      <td>F</td>\n      <td>Major</td>\n      <td>51</td>\n      <td>32</td>\n      <td>53</td>\n      <td>17</td>\n      <td>0</td>\n      <td>31</td>\n      <td>6</td>\n    </tr>\n    <tr>\n      <th>3</th>\n      <td>Cruel Summer</td>\n      <td>Taylor Swift</td>\n      <td>1</td>\n      <td>08/23/19</td>\n      <td>7858</td>\n      <td>100</td>\n      <td>800840817</td>\n      <td>116</td>\n      <td>207</td>\n      <td>125</td>\n      <td>...</td>\n      <td>170</td>\n      <td>A</td>\n      <td>Major</td>\n      <td>55</td>\n      <td>58</td>\n      <td>72</td>\n      <td>11</td>\n      <td>0</td>\n      <td>11</td>\n      <td>15</td>\n    </tr>\n    <tr>\n      <th>4</th>\n      <td>WHERE SHE GOES</td>\n      <td>Bad Bunny</td>\n      <td>1</td>\n      <td>05/18/23</td>\n      <td>3133</td>\n      <td>50</td>\n      <td>303236322</td>\n      <td>84</td>\n      <td>133</td>\n      <td>87</td>\n      <td>...</td>\n      <td>144</td>\n      <td>A</td>\n      <td>Major</td>\n      <td>65</td>\n      <td>23</td>\n      <td>80</td>\n      <td>14</td>\n      <td>63</td>\n      <td>11</td>\n      <td>6</td>\n    </tr>\n    <tr>\n      <th>...</th>\n      <td>...</td>\n      <td>...</td>\n      <td>...</td>\n      <td>...</td>\n      <td>...</td>\n      <td>...</td>\n      <td>...</td>\n      <td>...</td>\n      <td>...</td>\n      <td>...</td>\n      <td>...</td>\n      <td>...</td>\n      <td>...</td>\n      <td>...</td>\n      <td>...</td>\n      <td>...</td>\n      <td>...</td>\n      <td>...</td>\n      <td>...</td>\n      <td>...</td>\n      <td>...</td>\n    </tr>\n    <tr>\n      <th>953</th>\n      <td>Sweet Nothing</td>\n      <td>Taylor Swift</td>\n      <td>1</td>\n      <td>10/21/22</td>\n      <td>1747</td>\n      <td>0</td>\n      <td>186104310</td>\n      <td>9</td>\n      <td>6</td>\n      <td>13</td>\n      <td>...</td>\n      <td>177</td>\n      <td></td>\n      <td>Major</td>\n      <td>34</td>\n      <td>39</td>\n      <td>16</td>\n      <td>97</td>\n      <td>0</td>\n      <td>12</td>\n      <td>5</td>\n    </tr>\n    <tr>\n      <th>954</th>\n      <td>Cruel Summer</td>\n      <td>Taylor Swift</td>\n      <td>1</td>\n      <td>08/23/19</td>\n      <td>7858</td>\n      <td>100</td>\n      <td>800840817</td>\n      <td>116</td>\n      <td>207</td>\n      <td>125</td>\n      <td>...</td>\n      <td>170</td>\n      <td>A</td>\n      <td>Major</td>\n      <td>55</td>\n      <td>58</td>\n      <td>72</td>\n      <td>11</td>\n      <td>0</td>\n      <td>11</td>\n      <td>15</td>\n    </tr>\n    <tr>\n      <th>955</th>\n      <td>QUEMA</td>\n      <td>Sog, Ryan Castro, Peso Pluma</td>\n      <td>3</td>\n      <td>07/13/23</td>\n      <td>437</td>\n      <td>31</td>\n      <td>11599388</td>\n      <td>17</td>\n      <td>29</td>\n      <td>26</td>\n      <td>...</td>\n      <td>97</td>\n      <td></td>\n      <td>Major</td>\n      <td>79</td>\n      <td>92</td>\n      <td>89</td>\n      <td>5</td>\n      <td>0</td>\n      <td>6</td>\n      <td>5</td>\n    </tr>\n    <tr>\n      <th>956</th>\n      <td>Titi Me Pregunt</td>\n      <td>Bad Bunny</td>\n      <td>1</td>\n      <td>05/06/22</td>\n      <td>9037</td>\n      <td>42</td>\n      <td>1264310836</td>\n      <td>124</td>\n      <td>133</td>\n      <td>139</td>\n      <td>...</td>\n      <td>107</td>\n      <td>F</td>\n      <td>Minor</td>\n      <td>65</td>\n      <td>19</td>\n      <td>72</td>\n      <td>10</td>\n      <td>0</td>\n      <td>13</td>\n      <td>25</td>\n    </tr>\n    <tr>\n      <th>957</th>\n      <td>Rich Flex</td>\n      <td>Drake, 21 Savage</td>\n      <td>2</td>\n      <td>11/04/22</td>\n      <td>4657</td>\n      <td>18</td>\n      <td>573633020</td>\n      <td>84</td>\n      <td>84</td>\n      <td>42</td>\n      <td>...</td>\n      <td>153</td>\n      <td>B</td>\n      <td>Major</td>\n      <td>56</td>\n      <td>42</td>\n      <td>52</td>\n      <td>5</td>\n      <td>0</td>\n      <td>36</td>\n      <td>24</td>\n    </tr>\n  </tbody>\n</table>\n<p>958 rows × 22 columns</p>\n</div>"
     },
     "execution_count": 67,
     "metadata": {},
     "output_type": "execute_result"
    }
   ],
   "source": [
    "spotify_df"
   ],
   "metadata": {
    "collapsed": false,
    "ExecuteTime": {
     "end_time": "2023-10-19T14:48:09.556443Z",
     "start_time": "2023-10-19T14:48:09.473334Z"
    }
   },
   "id": "c8f852726b2d9365"
  },
  {
   "cell_type": "markdown",
   "source": [
    "###  Exercis 1\n",
    "> b) Are there outliers in the danceability (danceability_%)?\n",
    "> • Please use several outlier detection methods to justify your answer. \n",
    "> • How do the outlier-detection algorithms and their results differ??\n",
    "#### Approach:\n",
    "> First of all I have a look at the danceability_% column and its values, using the describe function."
   ],
   "metadata": {
    "collapsed": false
   },
   "id": "964f4affbacc18eb"
  },
  {
   "cell_type": "code",
   "execution_count": 68,
   "outputs": [
    {
     "data": {
      "text/plain": "count    958.000000\nmean      66.862213\nstd       16.034765\nmin      -60.000000\n25%       57.000000\n50%       69.000000\n75%       78.000000\nmax      199.000000\nName: danceability_%, dtype: float64"
     },
     "execution_count": 68,
     "metadata": {},
     "output_type": "execute_result"
    }
   ],
   "source": [
    "#Get information about the danceability_% column\n",
    "spotify_df[\"danceability_%\"].describe()\n"
   ],
   "metadata": {
    "collapsed": false,
    "ExecuteTime": {
     "end_time": "2023-10-19T14:48:11.651904Z",
     "start_time": "2023-10-19T14:48:11.642775Z"
    }
   },
   "id": "528fe0088547ee04"
  },
  {
   "cell_type": "markdown",
   "source": [
    "The results indicate that there are outliers since the minimum and maximum value of danceability are to low/high.\n",
    "Next I will visualize the data, using a boxplot to see if I can detect any outliers, using the interquartile range."
   ],
   "metadata": {
    "collapsed": false
   },
   "id": "184284bbb8f252cf"
  },
  {
   "cell_type": "code",
   "execution_count": 69,
   "outputs": [
    {
     "data": {
      "application/vnd.plotly.v1+json": {
       "data": [
        {
         "alignmentgroup": "True",
         "hovertemplate": "danceability_%=%{y}<extra></extra>",
         "legendgroup": "",
         "marker": {
          "color": "#636efa"
         },
         "name": "",
         "notched": false,
         "offsetgroup": "",
         "orientation": "v",
         "showlegend": false,
         "x0": " ",
         "xaxis": "x",
         "y": [
          80,
          71,
          51,
          55,
          65,
          92,
          67,
          67,
          85,
          81,
          57,
          78,
          71,
          51,
          52,
          64,
          78,
          44,
          86,
          63,
          65,
          69,
          48,
          85,
          85,
          79,
          80,
          81,
          52,
          67,
          74,
          56,
          71,
          64,
          72,
          81,
          61,
          75,
          60,
          79,
          56,
          76,
          56,
          56,
          77,
          67,
          110,
          59,
          68,
          53,
          72,
          60,
          92,
          67,
          45,
          50,
          64,
          84,
          86,
          61,
          86,
          70,
          88,
          77,
          90,
          43,
          64,
          59,
          56,
          51,
          77,
          76,
          51,
          61,
          62,
          49,
          58,
          71,
          78,
          68,
          48,
          34,
          63,
          50,
          59,
          78,
          50,
          91,
          82,
          63,
          71,
          74,
          -12,
          62,
          53,
          83,
          49,
          56,
          56,
          62,
          43,
          68,
          50,
          62,
          81,
          54,
          80,
          61,
          77,
          61,
          74,
          51,
          77,
          65,
          64,
          70,
          55,
          84,
          82,
          51,
          75,
          64,
          74,
          49,
          81,
          87,
          63,
          55,
          35,
          78,
          82,
          80,
          42,
          78,
          52,
          63,
          75,
          76,
          60,
          56,
          77,
          84,
          93,
          92,
          79,
          59,
          65,
          45,
          60,
          74,
          81,
          78,
          47,
          69,
          73,
          50,
          54,
          66,
          61,
          73,
          78,
          86,
          77,
          45,
          68,
          68,
          82,
          45,
          73,
          60,
          65,
          60,
          55,
          33,
          57,
          71,
          65,
          70,
          56,
          83,
          67,
          70,
          53,
          34,
          37,
          74,
          54,
          70,
          63,
          57,
          54,
          63,
          65,
          50,
          48,
          74,
          84,
          62,
          81,
          57,
          61,
          53,
          75,
          77,
          56,
          89,
          67,
          85,
          78,
          82,
          70,
          80,
          73,
          84,
          77,
          78,
          54,
          71,
          62,
          72,
          78,
          74,
          66,
          66,
          199,
          80,
          76,
          71,
          59,
          63,
          69,
          78,
          43,
          79,
          82,
          82,
          78,
          73,
          92,
          80,
          59,
          91,
          49,
          47,
          34,
          56,
          60,
          84,
          83,
          67,
          95,
          84,
          65,
          44,
          62,
          50,
          80,
          70,
          77,
          52,
          44,
          79,
          51,
          77,
          68,
          74,
          93,
          77,
          94,
          60,
          72,
          87,
          90,
          57,
          79,
          76,
          76,
          70,
          92,
          84,
          69,
          59,
          75,
          56,
          59,
          80,
          70,
          59,
          32,
          54,
          82,
          89,
          45,
          62,
          70,
          77,
          70,
          80,
          82,
          73,
          65,
          72,
          71,
          70,
          48,
          73,
          78,
          67,
          71,
          74,
          65,
          59,
          72,
          70,
          64,
          90,
          73,
          76,
          81,
          71,
          63,
          95,
          58,
          60,
          40,
          36,
          90,
          71,
          77,
          83,
          70,
          50,
          64,
          68,
          61,
          59,
          64,
          66,
          84,
          56,
          57,
          74,
          56,
          68,
          59,
          73,
          79,
          50,
          70,
          58,
          36,
          86,
          59,
          59,
          87,
          49,
          72,
          53,
          55,
          81,
          82,
          74,
          88,
          76,
          53,
          72,
          75,
          65,
          75,
          73,
          66,
          66,
          84,
          53,
          60,
          74,
          70,
          80,
          58,
          53,
          56,
          70,
          64,
          88,
          66,
          79,
          82,
          25,
          64,
          57,
          65,
          92,
          81,
          82,
          44,
          51,
          71,
          70,
          68,
          41,
          68,
          47,
          77,
          79,
          71,
          80,
          46,
          79,
          58,
          64,
          74,
          41,
          40,
          87,
          87,
          40,
          46,
          47,
          91,
          90,
          81,
          49,
          64,
          95,
          63,
          39,
          80,
          67,
          58,
          81,
          58,
          70,
          46,
          70,
          82,
          65,
          84,
          69,
          58,
          65,
          74,
          34,
          74,
          70,
          74,
          35,
          46,
          24,
          45,
          72,
          51,
          50,
          65,
          67,
          53,
          65,
          71,
          33,
          73,
          67,
          36,
          75,
          60,
          62,
          60,
          72,
          60,
          51,
          67,
          23,
          51,
          34,
          43,
          53,
          72,
          59,
          73,
          67,
          70,
          49,
          54,
          80,
          70,
          69,
          47,
          79,
          66,
          64,
          89,
          70,
          80,
          63,
          87,
          45,
          83,
          69,
          51,
          61,
          33,
          63,
          70,
          70,
          70,
          60,
          65,
          85,
          58,
          76,
          80,
          74,
          67,
          53,
          70,
          56,
          41,
          49,
          77,
          75,
          66,
          61,
          74,
          27,
          65,
          28,
          74,
          68,
          71,
          75,
          64,
          83,
          75,
          31,
          56,
          29,
          59,
          59,
          82,
          63,
          77,
          53,
          70,
          46,
          65,
          79,
          40,
          57,
          83,
          73,
          81,
          58,
          63,
          77,
          44,
          75,
          63,
          73,
          66,
          56,
          73,
          72,
          70,
          86,
          79,
          77,
          83,
          44,
          75,
          74,
          66,
          67,
          66,
          59,
          85,
          77,
          53,
          77,
          59,
          46,
          42,
          35,
          77,
          59,
          68,
          83,
          70,
          72,
          86,
          63,
          39,
          80,
          91,
          45,
          79,
          73,
          76,
          96,
          40,
          67,
          80,
          73,
          75,
          46,
          81,
          61,
          74,
          79,
          73,
          78,
          60,
          45,
          78,
          76,
          63,
          52,
          64,
          53,
          75,
          80,
          77,
          73,
          82,
          44,
          89,
          42,
          52,
          45,
          67,
          52,
          41,
          71,
          35,
          60,
          74,
          75,
          57,
          74,
          72,
          70,
          82,
          79,
          55,
          77,
          56,
          90,
          69,
          80,
          85,
          63,
          84,
          81,
          51,
          35,
          53,
          92,
          69,
          47,
          52,
          91,
          90,
          61,
          60,
          37,
          31,
          57,
          46,
          84,
          -60,
          67,
          77,
          93,
          31,
          76,
          91,
          78,
          81,
          67,
          86,
          74,
          79,
          73,
          89,
          65,
          89,
          51,
          47,
          78,
          31,
          44,
          73,
          39,
          84,
          56,
          92,
          76,
          62,
          68,
          74,
          44,
          81,
          76,
          87,
          81,
          95,
          64,
          28,
          78,
          81,
          59,
          80,
          65,
          55,
          72,
          59,
          77,
          80,
          42,
          76,
          41,
          59,
          69,
          53,
          70,
          69,
          67,
          61,
          75,
          39,
          86,
          68,
          91,
          58,
          45,
          81,
          60,
          68,
          76,
          70,
          83,
          72,
          59,
          63,
          56,
          78,
          79,
          70,
          86,
          71,
          71,
          69,
          93,
          57,
          89,
          87,
          58,
          86,
          78,
          45,
          79,
          86,
          91,
          68,
          61,
          61,
          81,
          84,
          78,
          56,
          79,
          52,
          55,
          87,
          85,
          50,
          71,
          92,
          66,
          78,
          80,
          82,
          65,
          61,
          84,
          78,
          56,
          86,
          57,
          50,
          80,
          81,
          63,
          61,
          83,
          85,
          51,
          73,
          91,
          36,
          44,
          64,
          83,
          38,
          37,
          43,
          88,
          66,
          84,
          61,
          66,
          71,
          49,
          68,
          77,
          71,
          82,
          87,
          73,
          86,
          54,
          47,
          53,
          32,
          76,
          58,
          47,
          37,
          70,
          56,
          72,
          72,
          51,
          63,
          69,
          80,
          88,
          82,
          60,
          56,
          80,
          71,
          58,
          73,
          82,
          56,
          65,
          63,
          85,
          72,
          83,
          81,
          57,
          51,
          71,
          91,
          83,
          56,
          60,
          52,
          81,
          42,
          68,
          49,
          70,
          54,
          70,
          91,
          51,
          73,
          81,
          80,
          44,
          78,
          45,
          80,
          56,
          88,
          88,
          95,
          85,
          44,
          58,
          71,
          63,
          77,
          72,
          70,
          74,
          61,
          55,
          47,
          81,
          90,
          56,
          79,
          79,
          81,
          77,
          70,
          82,
          77,
          67,
          67,
          68,
          37,
          74,
          77,
          90,
          70,
          65,
          65,
          34,
          56,
          37,
          70,
          81,
          64,
          82,
          78,
          70,
          52,
          65,
          84,
          73,
          66,
          57,
          72,
          57,
          92,
          49,
          74,
          80,
          59,
          91,
          75,
          80,
          75,
          84,
          66,
          73,
          48,
          77,
          34,
          48,
          62,
          93,
          54,
          85,
          64,
          57,
          60,
          42,
          80,
          82,
          61,
          34,
          55,
          79,
          65,
          56
         ],
         "y0": " ",
         "yaxis": "y",
         "type": "box"
        }
       ],
       "layout": {
        "template": {
         "data": {
          "histogram2dcontour": [
           {
            "type": "histogram2dcontour",
            "colorbar": {
             "outlinewidth": 0,
             "ticks": ""
            },
            "colorscale": [
             [
              0.0,
              "#0d0887"
             ],
             [
              0.1111111111111111,
              "#46039f"
             ],
             [
              0.2222222222222222,
              "#7201a8"
             ],
             [
              0.3333333333333333,
              "#9c179e"
             ],
             [
              0.4444444444444444,
              "#bd3786"
             ],
             [
              0.5555555555555556,
              "#d8576b"
             ],
             [
              0.6666666666666666,
              "#ed7953"
             ],
             [
              0.7777777777777778,
              "#fb9f3a"
             ],
             [
              0.8888888888888888,
              "#fdca26"
             ],
             [
              1.0,
              "#f0f921"
             ]
            ]
           }
          ],
          "choropleth": [
           {
            "type": "choropleth",
            "colorbar": {
             "outlinewidth": 0,
             "ticks": ""
            }
           }
          ],
          "histogram2d": [
           {
            "type": "histogram2d",
            "colorbar": {
             "outlinewidth": 0,
             "ticks": ""
            },
            "colorscale": [
             [
              0.0,
              "#0d0887"
             ],
             [
              0.1111111111111111,
              "#46039f"
             ],
             [
              0.2222222222222222,
              "#7201a8"
             ],
             [
              0.3333333333333333,
              "#9c179e"
             ],
             [
              0.4444444444444444,
              "#bd3786"
             ],
             [
              0.5555555555555556,
              "#d8576b"
             ],
             [
              0.6666666666666666,
              "#ed7953"
             ],
             [
              0.7777777777777778,
              "#fb9f3a"
             ],
             [
              0.8888888888888888,
              "#fdca26"
             ],
             [
              1.0,
              "#f0f921"
             ]
            ]
           }
          ],
          "heatmap": [
           {
            "type": "heatmap",
            "colorbar": {
             "outlinewidth": 0,
             "ticks": ""
            },
            "colorscale": [
             [
              0.0,
              "#0d0887"
             ],
             [
              0.1111111111111111,
              "#46039f"
             ],
             [
              0.2222222222222222,
              "#7201a8"
             ],
             [
              0.3333333333333333,
              "#9c179e"
             ],
             [
              0.4444444444444444,
              "#bd3786"
             ],
             [
              0.5555555555555556,
              "#d8576b"
             ],
             [
              0.6666666666666666,
              "#ed7953"
             ],
             [
              0.7777777777777778,
              "#fb9f3a"
             ],
             [
              0.8888888888888888,
              "#fdca26"
             ],
             [
              1.0,
              "#f0f921"
             ]
            ]
           }
          ],
          "heatmapgl": [
           {
            "type": "heatmapgl",
            "colorbar": {
             "outlinewidth": 0,
             "ticks": ""
            },
            "colorscale": [
             [
              0.0,
              "#0d0887"
             ],
             [
              0.1111111111111111,
              "#46039f"
             ],
             [
              0.2222222222222222,
              "#7201a8"
             ],
             [
              0.3333333333333333,
              "#9c179e"
             ],
             [
              0.4444444444444444,
              "#bd3786"
             ],
             [
              0.5555555555555556,
              "#d8576b"
             ],
             [
              0.6666666666666666,
              "#ed7953"
             ],
             [
              0.7777777777777778,
              "#fb9f3a"
             ],
             [
              0.8888888888888888,
              "#fdca26"
             ],
             [
              1.0,
              "#f0f921"
             ]
            ]
           }
          ],
          "contourcarpet": [
           {
            "type": "contourcarpet",
            "colorbar": {
             "outlinewidth": 0,
             "ticks": ""
            }
           }
          ],
          "contour": [
           {
            "type": "contour",
            "colorbar": {
             "outlinewidth": 0,
             "ticks": ""
            },
            "colorscale": [
             [
              0.0,
              "#0d0887"
             ],
             [
              0.1111111111111111,
              "#46039f"
             ],
             [
              0.2222222222222222,
              "#7201a8"
             ],
             [
              0.3333333333333333,
              "#9c179e"
             ],
             [
              0.4444444444444444,
              "#bd3786"
             ],
             [
              0.5555555555555556,
              "#d8576b"
             ],
             [
              0.6666666666666666,
              "#ed7953"
             ],
             [
              0.7777777777777778,
              "#fb9f3a"
             ],
             [
              0.8888888888888888,
              "#fdca26"
             ],
             [
              1.0,
              "#f0f921"
             ]
            ]
           }
          ],
          "surface": [
           {
            "type": "surface",
            "colorbar": {
             "outlinewidth": 0,
             "ticks": ""
            },
            "colorscale": [
             [
              0.0,
              "#0d0887"
             ],
             [
              0.1111111111111111,
              "#46039f"
             ],
             [
              0.2222222222222222,
              "#7201a8"
             ],
             [
              0.3333333333333333,
              "#9c179e"
             ],
             [
              0.4444444444444444,
              "#bd3786"
             ],
             [
              0.5555555555555556,
              "#d8576b"
             ],
             [
              0.6666666666666666,
              "#ed7953"
             ],
             [
              0.7777777777777778,
              "#fb9f3a"
             ],
             [
              0.8888888888888888,
              "#fdca26"
             ],
             [
              1.0,
              "#f0f921"
             ]
            ]
           }
          ],
          "mesh3d": [
           {
            "type": "mesh3d",
            "colorbar": {
             "outlinewidth": 0,
             "ticks": ""
            }
           }
          ],
          "scatter": [
           {
            "fillpattern": {
             "fillmode": "overlay",
             "size": 10,
             "solidity": 0.2
            },
            "type": "scatter"
           }
          ],
          "parcoords": [
           {
            "type": "parcoords",
            "line": {
             "colorbar": {
              "outlinewidth": 0,
              "ticks": ""
             }
            }
           }
          ],
          "scatterpolargl": [
           {
            "type": "scatterpolargl",
            "marker": {
             "colorbar": {
              "outlinewidth": 0,
              "ticks": ""
             }
            }
           }
          ],
          "bar": [
           {
            "error_x": {
             "color": "#2a3f5f"
            },
            "error_y": {
             "color": "#2a3f5f"
            },
            "marker": {
             "line": {
              "color": "#E5ECF6",
              "width": 0.5
             },
             "pattern": {
              "fillmode": "overlay",
              "size": 10,
              "solidity": 0.2
             }
            },
            "type": "bar"
           }
          ],
          "scattergeo": [
           {
            "type": "scattergeo",
            "marker": {
             "colorbar": {
              "outlinewidth": 0,
              "ticks": ""
             }
            }
           }
          ],
          "scatterpolar": [
           {
            "type": "scatterpolar",
            "marker": {
             "colorbar": {
              "outlinewidth": 0,
              "ticks": ""
             }
            }
           }
          ],
          "histogram": [
           {
            "marker": {
             "pattern": {
              "fillmode": "overlay",
              "size": 10,
              "solidity": 0.2
             }
            },
            "type": "histogram"
           }
          ],
          "scattergl": [
           {
            "type": "scattergl",
            "marker": {
             "colorbar": {
              "outlinewidth": 0,
              "ticks": ""
             }
            }
           }
          ],
          "scatter3d": [
           {
            "type": "scatter3d",
            "line": {
             "colorbar": {
              "outlinewidth": 0,
              "ticks": ""
             }
            },
            "marker": {
             "colorbar": {
              "outlinewidth": 0,
              "ticks": ""
             }
            }
           }
          ],
          "scattermapbox": [
           {
            "type": "scattermapbox",
            "marker": {
             "colorbar": {
              "outlinewidth": 0,
              "ticks": ""
             }
            }
           }
          ],
          "scatterternary": [
           {
            "type": "scatterternary",
            "marker": {
             "colorbar": {
              "outlinewidth": 0,
              "ticks": ""
             }
            }
           }
          ],
          "scattercarpet": [
           {
            "type": "scattercarpet",
            "marker": {
             "colorbar": {
              "outlinewidth": 0,
              "ticks": ""
             }
            }
           }
          ],
          "carpet": [
           {
            "aaxis": {
             "endlinecolor": "#2a3f5f",
             "gridcolor": "white",
             "linecolor": "white",
             "minorgridcolor": "white",
             "startlinecolor": "#2a3f5f"
            },
            "baxis": {
             "endlinecolor": "#2a3f5f",
             "gridcolor": "white",
             "linecolor": "white",
             "minorgridcolor": "white",
             "startlinecolor": "#2a3f5f"
            },
            "type": "carpet"
           }
          ],
          "table": [
           {
            "cells": {
             "fill": {
              "color": "#EBF0F8"
             },
             "line": {
              "color": "white"
             }
            },
            "header": {
             "fill": {
              "color": "#C8D4E3"
             },
             "line": {
              "color": "white"
             }
            },
            "type": "table"
           }
          ],
          "barpolar": [
           {
            "marker": {
             "line": {
              "color": "#E5ECF6",
              "width": 0.5
             },
             "pattern": {
              "fillmode": "overlay",
              "size": 10,
              "solidity": 0.2
             }
            },
            "type": "barpolar"
           }
          ],
          "pie": [
           {
            "automargin": true,
            "type": "pie"
           }
          ]
         },
         "layout": {
          "autotypenumbers": "strict",
          "colorway": [
           "#636efa",
           "#EF553B",
           "#00cc96",
           "#ab63fa",
           "#FFA15A",
           "#19d3f3",
           "#FF6692",
           "#B6E880",
           "#FF97FF",
           "#FECB52"
          ],
          "font": {
           "color": "#2a3f5f"
          },
          "hovermode": "closest",
          "hoverlabel": {
           "align": "left"
          },
          "paper_bgcolor": "white",
          "plot_bgcolor": "#E5ECF6",
          "polar": {
           "bgcolor": "#E5ECF6",
           "angularaxis": {
            "gridcolor": "white",
            "linecolor": "white",
            "ticks": ""
           },
           "radialaxis": {
            "gridcolor": "white",
            "linecolor": "white",
            "ticks": ""
           }
          },
          "ternary": {
           "bgcolor": "#E5ECF6",
           "aaxis": {
            "gridcolor": "white",
            "linecolor": "white",
            "ticks": ""
           },
           "baxis": {
            "gridcolor": "white",
            "linecolor": "white",
            "ticks": ""
           },
           "caxis": {
            "gridcolor": "white",
            "linecolor": "white",
            "ticks": ""
           }
          },
          "coloraxis": {
           "colorbar": {
            "outlinewidth": 0,
            "ticks": ""
           }
          },
          "colorscale": {
           "sequential": [
            [
             0.0,
             "#0d0887"
            ],
            [
             0.1111111111111111,
             "#46039f"
            ],
            [
             0.2222222222222222,
             "#7201a8"
            ],
            [
             0.3333333333333333,
             "#9c179e"
            ],
            [
             0.4444444444444444,
             "#bd3786"
            ],
            [
             0.5555555555555556,
             "#d8576b"
            ],
            [
             0.6666666666666666,
             "#ed7953"
            ],
            [
             0.7777777777777778,
             "#fb9f3a"
            ],
            [
             0.8888888888888888,
             "#fdca26"
            ],
            [
             1.0,
             "#f0f921"
            ]
           ],
           "sequentialminus": [
            [
             0.0,
             "#0d0887"
            ],
            [
             0.1111111111111111,
             "#46039f"
            ],
            [
             0.2222222222222222,
             "#7201a8"
            ],
            [
             0.3333333333333333,
             "#9c179e"
            ],
            [
             0.4444444444444444,
             "#bd3786"
            ],
            [
             0.5555555555555556,
             "#d8576b"
            ],
            [
             0.6666666666666666,
             "#ed7953"
            ],
            [
             0.7777777777777778,
             "#fb9f3a"
            ],
            [
             0.8888888888888888,
             "#fdca26"
            ],
            [
             1.0,
             "#f0f921"
            ]
           ],
           "diverging": [
            [
             0,
             "#8e0152"
            ],
            [
             0.1,
             "#c51b7d"
            ],
            [
             0.2,
             "#de77ae"
            ],
            [
             0.3,
             "#f1b6da"
            ],
            [
             0.4,
             "#fde0ef"
            ],
            [
             0.5,
             "#f7f7f7"
            ],
            [
             0.6,
             "#e6f5d0"
            ],
            [
             0.7,
             "#b8e186"
            ],
            [
             0.8,
             "#7fbc41"
            ],
            [
             0.9,
             "#4d9221"
            ],
            [
             1,
             "#276419"
            ]
           ]
          },
          "xaxis": {
           "gridcolor": "white",
           "linecolor": "white",
           "ticks": "",
           "title": {
            "standoff": 15
           },
           "zerolinecolor": "white",
           "automargin": true,
           "zerolinewidth": 2
          },
          "yaxis": {
           "gridcolor": "white",
           "linecolor": "white",
           "ticks": "",
           "title": {
            "standoff": 15
           },
           "zerolinecolor": "white",
           "automargin": true,
           "zerolinewidth": 2
          },
          "scene": {
           "xaxis": {
            "backgroundcolor": "#E5ECF6",
            "gridcolor": "white",
            "linecolor": "white",
            "showbackground": true,
            "ticks": "",
            "zerolinecolor": "white",
            "gridwidth": 2
           },
           "yaxis": {
            "backgroundcolor": "#E5ECF6",
            "gridcolor": "white",
            "linecolor": "white",
            "showbackground": true,
            "ticks": "",
            "zerolinecolor": "white",
            "gridwidth": 2
           },
           "zaxis": {
            "backgroundcolor": "#E5ECF6",
            "gridcolor": "white",
            "linecolor": "white",
            "showbackground": true,
            "ticks": "",
            "zerolinecolor": "white",
            "gridwidth": 2
           }
          },
          "shapedefaults": {
           "line": {
            "color": "#2a3f5f"
           }
          },
          "annotationdefaults": {
           "arrowcolor": "#2a3f5f",
           "arrowhead": 0,
           "arrowwidth": 1
          },
          "geo": {
           "bgcolor": "white",
           "landcolor": "#E5ECF6",
           "subunitcolor": "white",
           "showland": true,
           "showlakes": true,
           "lakecolor": "white"
          },
          "title": {
           "x": 0.05
          },
          "mapbox": {
           "style": "light"
          }
         }
        },
        "xaxis": {
         "anchor": "y",
         "domain": [
          0.0,
          1.0
         ]
        },
        "yaxis": {
         "anchor": "x",
         "domain": [
          0.0,
          1.0
         ],
         "title": {
          "text": "danceability"
         }
        },
        "legend": {
         "tracegroupgap": 0
        },
        "title": {
         "text": "Boxplot of danceability"
        },
        "boxmode": "group"
       },
       "config": {
        "plotlyServerURL": "https://plot.ly"
       }
      },
      "text/html": "<div>                            <div id=\"6c45c261-13d3-4b45-b186-b395af3b7378\" class=\"plotly-graph-div\" style=\"height:525px; width:100%;\"></div>            <script type=\"text/javascript\">                require([\"plotly\"], function(Plotly) {                    window.PLOTLYENV=window.PLOTLYENV || {};                                    if (document.getElementById(\"6c45c261-13d3-4b45-b186-b395af3b7378\")) {                    Plotly.newPlot(                        \"6c45c261-13d3-4b45-b186-b395af3b7378\",                        [{\"alignmentgroup\":\"True\",\"hovertemplate\":\"danceability_%=%{y}\\u003cextra\\u003e\\u003c\\u002fextra\\u003e\",\"legendgroup\":\"\",\"marker\":{\"color\":\"#636efa\"},\"name\":\"\",\"notched\":false,\"offsetgroup\":\"\",\"orientation\":\"v\",\"showlegend\":false,\"x0\":\" \",\"xaxis\":\"x\",\"y\":[80,71,51,55,65,92,67,67,85,81,57,78,71,51,52,64,78,44,86,63,65,69,48,85,85,79,80,81,52,67,74,56,71,64,72,81,61,75,60,79,56,76,56,56,77,67,110,59,68,53,72,60,92,67,45,50,64,84,86,61,86,70,88,77,90,43,64,59,56,51,77,76,51,61,62,49,58,71,78,68,48,34,63,50,59,78,50,91,82,63,71,74,-12,62,53,83,49,56,56,62,43,68,50,62,81,54,80,61,77,61,74,51,77,65,64,70,55,84,82,51,75,64,74,49,81,87,63,55,35,78,82,80,42,78,52,63,75,76,60,56,77,84,93,92,79,59,65,45,60,74,81,78,47,69,73,50,54,66,61,73,78,86,77,45,68,68,82,45,73,60,65,60,55,33,57,71,65,70,56,83,67,70,53,34,37,74,54,70,63,57,54,63,65,50,48,74,84,62,81,57,61,53,75,77,56,89,67,85,78,82,70,80,73,84,77,78,54,71,62,72,78,74,66,66,199,80,76,71,59,63,69,78,43,79,82,82,78,73,92,80,59,91,49,47,34,56,60,84,83,67,95,84,65,44,62,50,80,70,77,52,44,79,51,77,68,74,93,77,94,60,72,87,90,57,79,76,76,70,92,84,69,59,75,56,59,80,70,59,32,54,82,89,45,62,70,77,70,80,82,73,65,72,71,70,48,73,78,67,71,74,65,59,72,70,64,90,73,76,81,71,63,95,58,60,40,36,90,71,77,83,70,50,64,68,61,59,64,66,84,56,57,74,56,68,59,73,79,50,70,58,36,86,59,59,87,49,72,53,55,81,82,74,88,76,53,72,75,65,75,73,66,66,84,53,60,74,70,80,58,53,56,70,64,88,66,79,82,25,64,57,65,92,81,82,44,51,71,70,68,41,68,47,77,79,71,80,46,79,58,64,74,41,40,87,87,40,46,47,91,90,81,49,64,95,63,39,80,67,58,81,58,70,46,70,82,65,84,69,58,65,74,34,74,70,74,35,46,24,45,72,51,50,65,67,53,65,71,33,73,67,36,75,60,62,60,72,60,51,67,23,51,34,43,53,72,59,73,67,70,49,54,80,70,69,47,79,66,64,89,70,80,63,87,45,83,69,51,61,33,63,70,70,70,60,65,85,58,76,80,74,67,53,70,56,41,49,77,75,66,61,74,27,65,28,74,68,71,75,64,83,75,31,56,29,59,59,82,63,77,53,70,46,65,79,40,57,83,73,81,58,63,77,44,75,63,73,66,56,73,72,70,86,79,77,83,44,75,74,66,67,66,59,85,77,53,77,59,46,42,35,77,59,68,83,70,72,86,63,39,80,91,45,79,73,76,96,40,67,80,73,75,46,81,61,74,79,73,78,60,45,78,76,63,52,64,53,75,80,77,73,82,44,89,42,52,45,67,52,41,71,35,60,74,75,57,74,72,70,82,79,55,77,56,90,69,80,85,63,84,81,51,35,53,92,69,47,52,91,90,61,60,37,31,57,46,84,-60,67,77,93,31,76,91,78,81,67,86,74,79,73,89,65,89,51,47,78,31,44,73,39,84,56,92,76,62,68,74,44,81,76,87,81,95,64,28,78,81,59,80,65,55,72,59,77,80,42,76,41,59,69,53,70,69,67,61,75,39,86,68,91,58,45,81,60,68,76,70,83,72,59,63,56,78,79,70,86,71,71,69,93,57,89,87,58,86,78,45,79,86,91,68,61,61,81,84,78,56,79,52,55,87,85,50,71,92,66,78,80,82,65,61,84,78,56,86,57,50,80,81,63,61,83,85,51,73,91,36,44,64,83,38,37,43,88,66,84,61,66,71,49,68,77,71,82,87,73,86,54,47,53,32,76,58,47,37,70,56,72,72,51,63,69,80,88,82,60,56,80,71,58,73,82,56,65,63,85,72,83,81,57,51,71,91,83,56,60,52,81,42,68,49,70,54,70,91,51,73,81,80,44,78,45,80,56,88,88,95,85,44,58,71,63,77,72,70,74,61,55,47,81,90,56,79,79,81,77,70,82,77,67,67,68,37,74,77,90,70,65,65,34,56,37,70,81,64,82,78,70,52,65,84,73,66,57,72,57,92,49,74,80,59,91,75,80,75,84,66,73,48,77,34,48,62,93,54,85,64,57,60,42,80,82,61,34,55,79,65,56],\"y0\":\" \",\"yaxis\":\"y\",\"type\":\"box\"}],                        {\"template\":{\"data\":{\"histogram2dcontour\":[{\"type\":\"histogram2dcontour\",\"colorbar\":{\"outlinewidth\":0,\"ticks\":\"\"},\"colorscale\":[[0.0,\"#0d0887\"],[0.1111111111111111,\"#46039f\"],[0.2222222222222222,\"#7201a8\"],[0.3333333333333333,\"#9c179e\"],[0.4444444444444444,\"#bd3786\"],[0.5555555555555556,\"#d8576b\"],[0.6666666666666666,\"#ed7953\"],[0.7777777777777778,\"#fb9f3a\"],[0.8888888888888888,\"#fdca26\"],[1.0,\"#f0f921\"]]}],\"choropleth\":[{\"type\":\"choropleth\",\"colorbar\":{\"outlinewidth\":0,\"ticks\":\"\"}}],\"histogram2d\":[{\"type\":\"histogram2d\",\"colorbar\":{\"outlinewidth\":0,\"ticks\":\"\"},\"colorscale\":[[0.0,\"#0d0887\"],[0.1111111111111111,\"#46039f\"],[0.2222222222222222,\"#7201a8\"],[0.3333333333333333,\"#9c179e\"],[0.4444444444444444,\"#bd3786\"],[0.5555555555555556,\"#d8576b\"],[0.6666666666666666,\"#ed7953\"],[0.7777777777777778,\"#fb9f3a\"],[0.8888888888888888,\"#fdca26\"],[1.0,\"#f0f921\"]]}],\"heatmap\":[{\"type\":\"heatmap\",\"colorbar\":{\"outlinewidth\":0,\"ticks\":\"\"},\"colorscale\":[[0.0,\"#0d0887\"],[0.1111111111111111,\"#46039f\"],[0.2222222222222222,\"#7201a8\"],[0.3333333333333333,\"#9c179e\"],[0.4444444444444444,\"#bd3786\"],[0.5555555555555556,\"#d8576b\"],[0.6666666666666666,\"#ed7953\"],[0.7777777777777778,\"#fb9f3a\"],[0.8888888888888888,\"#fdca26\"],[1.0,\"#f0f921\"]]}],\"heatmapgl\":[{\"type\":\"heatmapgl\",\"colorbar\":{\"outlinewidth\":0,\"ticks\":\"\"},\"colorscale\":[[0.0,\"#0d0887\"],[0.1111111111111111,\"#46039f\"],[0.2222222222222222,\"#7201a8\"],[0.3333333333333333,\"#9c179e\"],[0.4444444444444444,\"#bd3786\"],[0.5555555555555556,\"#d8576b\"],[0.6666666666666666,\"#ed7953\"],[0.7777777777777778,\"#fb9f3a\"],[0.8888888888888888,\"#fdca26\"],[1.0,\"#f0f921\"]]}],\"contourcarpet\":[{\"type\":\"contourcarpet\",\"colorbar\":{\"outlinewidth\":0,\"ticks\":\"\"}}],\"contour\":[{\"type\":\"contour\",\"colorbar\":{\"outlinewidth\":0,\"ticks\":\"\"},\"colorscale\":[[0.0,\"#0d0887\"],[0.1111111111111111,\"#46039f\"],[0.2222222222222222,\"#7201a8\"],[0.3333333333333333,\"#9c179e\"],[0.4444444444444444,\"#bd3786\"],[0.5555555555555556,\"#d8576b\"],[0.6666666666666666,\"#ed7953\"],[0.7777777777777778,\"#fb9f3a\"],[0.8888888888888888,\"#fdca26\"],[1.0,\"#f0f921\"]]}],\"surface\":[{\"type\":\"surface\",\"colorbar\":{\"outlinewidth\":0,\"ticks\":\"\"},\"colorscale\":[[0.0,\"#0d0887\"],[0.1111111111111111,\"#46039f\"],[0.2222222222222222,\"#7201a8\"],[0.3333333333333333,\"#9c179e\"],[0.4444444444444444,\"#bd3786\"],[0.5555555555555556,\"#d8576b\"],[0.6666666666666666,\"#ed7953\"],[0.7777777777777778,\"#fb9f3a\"],[0.8888888888888888,\"#fdca26\"],[1.0,\"#f0f921\"]]}],\"mesh3d\":[{\"type\":\"mesh3d\",\"colorbar\":{\"outlinewidth\":0,\"ticks\":\"\"}}],\"scatter\":[{\"fillpattern\":{\"fillmode\":\"overlay\",\"size\":10,\"solidity\":0.2},\"type\":\"scatter\"}],\"parcoords\":[{\"type\":\"parcoords\",\"line\":{\"colorbar\":{\"outlinewidth\":0,\"ticks\":\"\"}}}],\"scatterpolargl\":[{\"type\":\"scatterpolargl\",\"marker\":{\"colorbar\":{\"outlinewidth\":0,\"ticks\":\"\"}}}],\"bar\":[{\"error_x\":{\"color\":\"#2a3f5f\"},\"error_y\":{\"color\":\"#2a3f5f\"},\"marker\":{\"line\":{\"color\":\"#E5ECF6\",\"width\":0.5},\"pattern\":{\"fillmode\":\"overlay\",\"size\":10,\"solidity\":0.2}},\"type\":\"bar\"}],\"scattergeo\":[{\"type\":\"scattergeo\",\"marker\":{\"colorbar\":{\"outlinewidth\":0,\"ticks\":\"\"}}}],\"scatterpolar\":[{\"type\":\"scatterpolar\",\"marker\":{\"colorbar\":{\"outlinewidth\":0,\"ticks\":\"\"}}}],\"histogram\":[{\"marker\":{\"pattern\":{\"fillmode\":\"overlay\",\"size\":10,\"solidity\":0.2}},\"type\":\"histogram\"}],\"scattergl\":[{\"type\":\"scattergl\",\"marker\":{\"colorbar\":{\"outlinewidth\":0,\"ticks\":\"\"}}}],\"scatter3d\":[{\"type\":\"scatter3d\",\"line\":{\"colorbar\":{\"outlinewidth\":0,\"ticks\":\"\"}},\"marker\":{\"colorbar\":{\"outlinewidth\":0,\"ticks\":\"\"}}}],\"scattermapbox\":[{\"type\":\"scattermapbox\",\"marker\":{\"colorbar\":{\"outlinewidth\":0,\"ticks\":\"\"}}}],\"scatterternary\":[{\"type\":\"scatterternary\",\"marker\":{\"colorbar\":{\"outlinewidth\":0,\"ticks\":\"\"}}}],\"scattercarpet\":[{\"type\":\"scattercarpet\",\"marker\":{\"colorbar\":{\"outlinewidth\":0,\"ticks\":\"\"}}}],\"carpet\":[{\"aaxis\":{\"endlinecolor\":\"#2a3f5f\",\"gridcolor\":\"white\",\"linecolor\":\"white\",\"minorgridcolor\":\"white\",\"startlinecolor\":\"#2a3f5f\"},\"baxis\":{\"endlinecolor\":\"#2a3f5f\",\"gridcolor\":\"white\",\"linecolor\":\"white\",\"minorgridcolor\":\"white\",\"startlinecolor\":\"#2a3f5f\"},\"type\":\"carpet\"}],\"table\":[{\"cells\":{\"fill\":{\"color\":\"#EBF0F8\"},\"line\":{\"color\":\"white\"}},\"header\":{\"fill\":{\"color\":\"#C8D4E3\"},\"line\":{\"color\":\"white\"}},\"type\":\"table\"}],\"barpolar\":[{\"marker\":{\"line\":{\"color\":\"#E5ECF6\",\"width\":0.5},\"pattern\":{\"fillmode\":\"overlay\",\"size\":10,\"solidity\":0.2}},\"type\":\"barpolar\"}],\"pie\":[{\"automargin\":true,\"type\":\"pie\"}]},\"layout\":{\"autotypenumbers\":\"strict\",\"colorway\":[\"#636efa\",\"#EF553B\",\"#00cc96\",\"#ab63fa\",\"#FFA15A\",\"#19d3f3\",\"#FF6692\",\"#B6E880\",\"#FF97FF\",\"#FECB52\"],\"font\":{\"color\":\"#2a3f5f\"},\"hovermode\":\"closest\",\"hoverlabel\":{\"align\":\"left\"},\"paper_bgcolor\":\"white\",\"plot_bgcolor\":\"#E5ECF6\",\"polar\":{\"bgcolor\":\"#E5ECF6\",\"angularaxis\":{\"gridcolor\":\"white\",\"linecolor\":\"white\",\"ticks\":\"\"},\"radialaxis\":{\"gridcolor\":\"white\",\"linecolor\":\"white\",\"ticks\":\"\"}},\"ternary\":{\"bgcolor\":\"#E5ECF6\",\"aaxis\":{\"gridcolor\":\"white\",\"linecolor\":\"white\",\"ticks\":\"\"},\"baxis\":{\"gridcolor\":\"white\",\"linecolor\":\"white\",\"ticks\":\"\"},\"caxis\":{\"gridcolor\":\"white\",\"linecolor\":\"white\",\"ticks\":\"\"}},\"coloraxis\":{\"colorbar\":{\"outlinewidth\":0,\"ticks\":\"\"}},\"colorscale\":{\"sequential\":[[0.0,\"#0d0887\"],[0.1111111111111111,\"#46039f\"],[0.2222222222222222,\"#7201a8\"],[0.3333333333333333,\"#9c179e\"],[0.4444444444444444,\"#bd3786\"],[0.5555555555555556,\"#d8576b\"],[0.6666666666666666,\"#ed7953\"],[0.7777777777777778,\"#fb9f3a\"],[0.8888888888888888,\"#fdca26\"],[1.0,\"#f0f921\"]],\"sequentialminus\":[[0.0,\"#0d0887\"],[0.1111111111111111,\"#46039f\"],[0.2222222222222222,\"#7201a8\"],[0.3333333333333333,\"#9c179e\"],[0.4444444444444444,\"#bd3786\"],[0.5555555555555556,\"#d8576b\"],[0.6666666666666666,\"#ed7953\"],[0.7777777777777778,\"#fb9f3a\"],[0.8888888888888888,\"#fdca26\"],[1.0,\"#f0f921\"]],\"diverging\":[[0,\"#8e0152\"],[0.1,\"#c51b7d\"],[0.2,\"#de77ae\"],[0.3,\"#f1b6da\"],[0.4,\"#fde0ef\"],[0.5,\"#f7f7f7\"],[0.6,\"#e6f5d0\"],[0.7,\"#b8e186\"],[0.8,\"#7fbc41\"],[0.9,\"#4d9221\"],[1,\"#276419\"]]},\"xaxis\":{\"gridcolor\":\"white\",\"linecolor\":\"white\",\"ticks\":\"\",\"title\":{\"standoff\":15},\"zerolinecolor\":\"white\",\"automargin\":true,\"zerolinewidth\":2},\"yaxis\":{\"gridcolor\":\"white\",\"linecolor\":\"white\",\"ticks\":\"\",\"title\":{\"standoff\":15},\"zerolinecolor\":\"white\",\"automargin\":true,\"zerolinewidth\":2},\"scene\":{\"xaxis\":{\"backgroundcolor\":\"#E5ECF6\",\"gridcolor\":\"white\",\"linecolor\":\"white\",\"showbackground\":true,\"ticks\":\"\",\"zerolinecolor\":\"white\",\"gridwidth\":2},\"yaxis\":{\"backgroundcolor\":\"#E5ECF6\",\"gridcolor\":\"white\",\"linecolor\":\"white\",\"showbackground\":true,\"ticks\":\"\",\"zerolinecolor\":\"white\",\"gridwidth\":2},\"zaxis\":{\"backgroundcolor\":\"#E5ECF6\",\"gridcolor\":\"white\",\"linecolor\":\"white\",\"showbackground\":true,\"ticks\":\"\",\"zerolinecolor\":\"white\",\"gridwidth\":2}},\"shapedefaults\":{\"line\":{\"color\":\"#2a3f5f\"}},\"annotationdefaults\":{\"arrowcolor\":\"#2a3f5f\",\"arrowhead\":0,\"arrowwidth\":1},\"geo\":{\"bgcolor\":\"white\",\"landcolor\":\"#E5ECF6\",\"subunitcolor\":\"white\",\"showland\":true,\"showlakes\":true,\"lakecolor\":\"white\"},\"title\":{\"x\":0.05},\"mapbox\":{\"style\":\"light\"}}},\"xaxis\":{\"anchor\":\"y\",\"domain\":[0.0,1.0]},\"yaxis\":{\"anchor\":\"x\",\"domain\":[0.0,1.0],\"title\":{\"text\":\"danceability\"}},\"legend\":{\"tracegroupgap\":0},\"title\":{\"text\":\"Boxplot of danceability\"},\"boxmode\":\"group\"},                        {\"responsive\": true}                    ).then(function(){\n                            \nvar gd = document.getElementById('6c45c261-13d3-4b45-b186-b395af3b7378');\nvar x = new MutationObserver(function (mutations, observer) {{\n        var display = window.getComputedStyle(gd).display;\n        if (!display || display === 'none') {{\n            console.log([gd, 'removed!']);\n            Plotly.purge(gd);\n            observer.disconnect();\n        }}\n}});\n\n// Listen for the removal of the full notebook cells\nvar notebookContainer = gd.closest('#notebook-container');\nif (notebookContainer) {{\n    x.observe(notebookContainer, {childList: true});\n}}\n\n// Listen for the clearing of the current output cell\nvar outputEl = gd.closest('.output');\nif (outputEl) {{\n    x.observe(outputEl, {childList: true});\n}}\n\n                        })                };                });            </script>        </div>"
     },
     "metadata": {},
     "output_type": "display_data"
    }
   ],
   "source": [
    "# Create a box plot using Plotly Express\n",
    "fig = px.box(spotify_df, y='danceability_%', title='Boxplot of danceability')\n",
    "\n",
    "# Update the layout\n",
    "fig.update_layout(yaxis_title='danceability')\n",
    "\n",
    "# Show the plot\n",
    "fig.show()\n"
   ],
   "metadata": {
    "collapsed": false,
    "ExecuteTime": {
     "end_time": "2023-10-19T14:48:13.483826Z",
     "start_time": "2023-10-19T14:48:13.476403Z"
    }
   },
   "id": "a3f8a03b994ab463"
  },
  {
   "cell_type": "markdown",
   "source": [
    "Looking at the boxplot I can detect outliers above the upper fence and below the lower fence."
   ],
   "metadata": {
    "collapsed": false
   },
   "id": "bc901cb868d4dc6d"
  },
  {
   "cell_type": "markdown",
   "source": [
    "#### Z-Score Method:\n",
    "> This method measures the number of standard deviations a data point is from the mean. Data points with high z-scores (usually greater than 3 or less than -3) are considered outliers. So now I will look at the 10 highest absolute z-scores of danceability_%."
   ],
   "metadata": {
    "collapsed": false
   },
   "id": "20a52a402f13eab4"
  },
  {
   "cell_type": "code",
   "execution_count": 70,
   "outputs": [
    {
     "name": "stdout",
     "output_type": "stream",
     "text": [
      "Top 10 absolute Z-scores for 'danceability':\n",
      "      Z-Score  Index\n",
      "224  8.245010    224\n",
      "666  7.915830    666\n",
      "92   4.920771     92\n",
      "469  2.736873    469\n",
      "46   2.691671     46\n",
      "447  2.674476    447\n",
      "387  2.612079    387\n",
      "521  2.487285    521\n",
      "523  2.424888    523\n",
      "704  2.424888    704\n"
     ]
    }
   ],
   "source": [
    "def top_abs_z_scores(data_frame, column_name, top_n=10):\n",
    "    # Calculate Z-scores for the specified column\n",
    "    z_scores = stats.zscore(data_frame[column_name])\n",
    "\n",
    "    # Get the absolute values of Z-scores\n",
    "    abs_z_scores = abs(z_scores)\n",
    "\n",
    "    # Create a DataFrame to store the absolute Z-scores and their corresponding indices\n",
    "    z_scores_df = pd.DataFrame({\n",
    "        'Z-Score': abs_z_scores,\n",
    "        'Index': data_frame.index\n",
    "    })\n",
    "\n",
    "    # Sort the DataFrame by absolute Z-Score in descending order and get the top N rows\n",
    "    top_z_scores = z_scores_df.sort_values(by='Z-Score', ascending=False).head(top_n)\n",
    "\n",
    "    return top_z_scores\n",
    "\n",
    "# Example usage\n",
    "# Assuming you have a DataFrame named 'spotify_df'\n",
    "top_z_scores = top_abs_z_scores(spotify_df, \"danceability_%\", top_n=10)\n",
    "print(\"Top 10 absolute Z-scores for 'danceability':\")\n",
    "print(top_z_scores)"
   ],
   "metadata": {
    "collapsed": false,
    "ExecuteTime": {
     "end_time": "2023-10-19T14:48:16.026454Z",
     "start_time": "2023-10-19T14:48:16.017064Z"
    }
   },
   "id": "30afb7859e9d177"
  },
  {
   "cell_type": "markdown",
   "source": [
    "Looking at the results 3 of the z values have a value far above 3, which makes them clearly detectable as outliers.\n",
    "Next "
   ],
   "metadata": {
    "collapsed": false
   },
   "id": "39348c0f47943f59"
  },
  {
   "cell_type": "code",
   "execution_count": 71,
   "outputs": [
    {
     "data": {
      "text/plain": "224    199\n666    -60\n92     -12\n469     23\nName: danceability_%, dtype: int64"
     },
     "execution_count": 71,
     "metadata": {},
     "output_type": "execute_result"
    }
   ],
   "source": [
    "indices_to_select = [224, 666, 92,  469]\n",
    "selected_values = spotify_df.loc[indices_to_select, \"danceability_%\"]\n",
    "selected_values"
   ],
   "metadata": {
    "collapsed": false,
    "ExecuteTime": {
     "end_time": "2023-10-19T14:48:17.383235Z",
     "start_time": "2023-10-19T14:48:17.373187Z"
    }
   },
   "id": "3537ad35116c37d2"
  },
  {
   "cell_type": "markdown",
   "source": [
    "Looking at the Z values 4 values actually have an absolute value above 3 which makes them outliers from that standpoint, whereas in the visualization with the boxplot there were in total 5 outliers. "
   ],
   "metadata": {
    "collapsed": false
   },
   "id": "4f2c1890ea56531a"
  },
  {
   "cell_type": "code",
   "execution_count": 72,
   "outputs": [
    {
     "data": {
      "text/plain": "Empty DataFrame\nColumns: [track_name, artist(s)_name, artist_count, release_date, in_spotify_playlists, in_spotify_charts, streams, in_apple_playlists, in_apple_charts, in_deezer_playlists, in_deezer_charts, in_shazam_charts, bpm, key, mode, danceability_%, valence_%, energy_%, acousticness_%, instrumentalness_%, liveness_%, speechiness_%]\nIndex: []\n\n[0 rows x 22 columns]",
      "text/html": "<div>\n<style scoped>\n    .dataframe tbody tr th:only-of-type {\n        vertical-align: middle;\n    }\n\n    .dataframe tbody tr th {\n        vertical-align: top;\n    }\n\n    .dataframe thead th {\n        text-align: right;\n    }\n</style>\n<table border=\"1\" class=\"dataframe\">\n  <thead>\n    <tr style=\"text-align: right;\">\n      <th></th>\n      <th>track_name</th>\n      <th>artist(s)_name</th>\n      <th>artist_count</th>\n      <th>release_date</th>\n      <th>in_spotify_playlists</th>\n      <th>in_spotify_charts</th>\n      <th>streams</th>\n      <th>in_apple_playlists</th>\n      <th>in_apple_charts</th>\n      <th>in_deezer_playlists</th>\n      <th>...</th>\n      <th>bpm</th>\n      <th>key</th>\n      <th>mode</th>\n      <th>danceability_%</th>\n      <th>valence_%</th>\n      <th>energy_%</th>\n      <th>acousticness_%</th>\n      <th>instrumentalness_%</th>\n      <th>liveness_%</th>\n      <th>speechiness_%</th>\n    </tr>\n  </thead>\n  <tbody>\n  </tbody>\n</table>\n<p>0 rows × 22 columns</p>\n</div>"
     },
     "execution_count": 72,
     "metadata": {},
     "output_type": "execute_result"
    }
   ],
   "source": [
    "#look at rows where at least one column has a missing value \n",
    "spotify_df[spotify_df.isna().any(axis=1)]\n"
   ],
   "metadata": {
    "collapsed": false,
    "ExecuteTime": {
     "end_time": "2023-10-19T14:48:18.560311Z",
     "start_time": "2023-10-19T14:48:18.549991Z"
    }
   },
   "id": "a26082b33730c3a1"
  },
  {
   "cell_type": "markdown",
   "source": [
    "Outlier Detection wiht Mean Absolute Deviation (MAD)\n"
   ],
   "metadata": {
    "collapsed": false
   },
   "id": "7d0df6c048db7136"
  },
  {
   "cell_type": "code",
   "execution_count": 82,
   "outputs": [
    {
     "name": "stdout",
     "output_type": "stream",
     "text": [
      "Median: 69.0\n",
      "MAD: 10.0\n",
      "Outliers: [-12, 199, -60]\n"
     ]
    }
   ],
   "source": [
    "# Calculate the median of the dataset\n",
    "median = np.median(spotify_df[\"danceability_%\"])\n",
    "\n",
    "# Calculate the absolute deviations from the median\n",
    "absolute_deviations = np.abs(spotify_df[\"danceability_%\"] - median)\n",
    "\n",
    "# Calculate the MAD (Median Absolute Deviation)\n",
    "mad = np.median(absolute_deviations)\n",
    "\n",
    "# Set a threshold for outliers\n",
    "threshold = 5 * mad\n",
    "\n",
    "# Detect outliers\n",
    "outliers = [x for x in spotify_df[\"danceability_%\"] if np.abs(x - median) > threshold]\n",
    "\n",
    "\n",
    "print(\"Median:\", median)\n",
    "print(\"MAD:\", mad)\n",
    "print(\"Outliers:\", outliers)"
   ],
   "metadata": {
    "collapsed": false,
    "ExecuteTime": {
     "end_time": "2023-10-19T15:26:35.526626Z",
     "start_time": "2023-10-19T15:26:35.504794Z"
    }
   },
   "id": "d7a26170e0b3127b"
  },
  {
   "cell_type": "markdown",
   "source": [
    "According to the MAD method I get way more outliers than with the Z-score and the boxplot method. In my eyes I get too many outliers for this case with the MAD method or at least I would have to increase the threshold by increasing the factor of mad."
   ],
   "metadata": {
    "collapsed": false
   },
   "id": "fa5eba23e56fd69"
  },
  {
   "cell_type": "markdown",
   "source": [
    "## Exercise 1\n",
    ">c) There are some other anomalies in the dataset. Find them, document your findings, handle them appropriately and describe which method you applied.\n",
    ">d) Handle missing data appropriately. Which method did you choose and why?\n",
    "\n",
    "### Approach\n",
    "> First of all I check the whole dataset for missing values using the missingno package for visualization."
   ],
   "metadata": {
    "collapsed": false
   },
   "id": "6c4043e1ee41aa0d"
  },
  {
   "cell_type": "code",
   "execution_count": 107,
   "outputs": [
    {
     "data": {
      "text/plain": "<Axes: >"
     },
     "execution_count": 107,
     "metadata": {},
     "output_type": "execute_result"
    },
    {
     "data": {
      "text/plain": "<Figure size 2500x1000 with 2 Axes>",
      "image/png": "[encoded data removed]"
     },
     "metadata": {},
     "output_type": "display_data"
    }
   ],
   "source": [
    "msno.matrix(spotify_df)"
   ],
   "metadata": {
    "collapsed": false,
    "ExecuteTime": {
     "end_time": "2023-10-19T15:44:17.393840Z",
     "start_time": "2023-10-19T15:44:16.553260Z"
    }
   },
   "id": "a2c76a1ae7e16f0f"
  },
  {
   "cell_type": "markdown",
   "source": [
    "### Interpretation\n",
    "> Looking at the visualization I cannot detect any missing values in the dataset. Maybe they are not market to be detected.So now I will check if there are columns with no values at all."
   ],
   "metadata": {
    "collapsed": false
   },
   "id": "e5a4eb389ae1cec7"
  },
  {
   "cell_type": "code",
   "execution_count": 109,
   "outputs": [
    {
     "data": {
      "text/plain": "                                            track_name  \\\n12                                             Flowers   \n14                                           As It Was   \n17   What Was I Made For? [From The Motion Picture ...   \n22                                    I Wanna Be Yours   \n35                                     Los del Espacio   \n..                                                 ...   \n927                I Really Want to Stay at Your House   \n938                                          Labyrinth   \n940                                      Sweet Nothing   \n953                                      Sweet Nothing   \n955                                              QUEMA   \n\n                                        artist(s)_name artist_count  \\\n12                                         Miley Cyrus            1   \n14                                        Harry Styles            1   \n17                                       Billie Eilish            1   \n22                                      Arctic Monkeys            1   \n35   Big One, Duki, Lit Killah, Maria Becerra, FMK,...            8   \n..                                                 ...          ...   \n927                        Rosa Walton, Hallie Coggins            2   \n938                                       Taylor Swift            1   \n940                                       Taylor Swift            1   \n953                                       Taylor Swift            1   \n955                       Sog, Ryan Castro, Peso Pluma            3   \n\n    release_date in_spotify_playlists in_spotify_charts     streams  \\\n12      01/12/23                                    115  1316855716   \n14      03/31/22                23575               130  2513188493   \n17      07/13/23                  873               104    30546883   \n22      01/01/13                12859               110  1297026226   \n35      06/01/23                 1150                31   123122413   \n..           ...                  ...               ...         ...   \n927     12/18/20                  668                 1   140430339   \n938     10/21/22                 1597                 0   187339835   \n940     10/21/22                 1747                 0   186104310   \n953     10/21/22                 1747                 0   186104310   \n955     07/13/23                  437                31    11599388   \n\n     in_apple_playlists  in_apple_charts  in_deezer_playlists  ...  bpm key  \\\n12                  300              215                  745  ...  118       \n14                  403              198                  863  ...  174  F#   \n17                   80              227                   95  ...   78       \n22                   24               98                  582  ...  135       \n35                   22               33                   34  ...  120       \n..                  ...              ...                  ...  ...  ...  ..   \n927                   0                0                   31  ...  125  D#   \n938                   6                3                   15  ...  110       \n940                   9                6                   13  ...  177       \n953                   9                6                   13  ...  177       \n955                  17               29                   26  ...   97       \n\n      mode danceability_% valence_%  energy_%  acousticness_%  \\\n12   Major             71        65        68               6   \n14   Major             52        66        73              34   \n17   Major             44        14         9              96   \n22   Major             48        44        42              12   \n35   Major             81        63        68              11   \n..     ...            ...       ...       ...             ...   \n927  Minor             49        13        74               0   \n938  Major             48        15        31              80   \n940  Major             34        39        16              97   \n953  Major             34        39        16              97   \n955  Major             79        92        89               5   \n\n     instrumentalness_%  liveness_%  speechiness_%  \n12                    0           3              7  \n14                    0          31              6  \n17                    0          10              3  \n22                    2          11              3  \n35                    0          11              4  \n..                  ...         ...            ...  \n927                   0           9              4  \n938                  22          12              4  \n940                   0          12              5  \n953                   0          12              5  \n955                   0           6              5  \n\n[152 rows x 22 columns]",
      "text/html": "<div>\n<style scoped>\n    .dataframe tbody tr th:only-of-type {\n        vertical-align: middle;\n    }\n\n    .dataframe tbody tr th {\n        vertical-align: top;\n    }\n\n    .dataframe thead th {\n        text-align: right;\n    }\n</style>\n<table border=\"1\" class=\"dataframe\">\n  <thead>\n    <tr style=\"text-align: right;\">\n      <th></th>\n      <th>track_name</th>\n      <th>artist(s)_name</th>\n      <th>artist_count</th>\n      <th>release_date</th>\n      <th>in_spotify_playlists</th>\n      <th>in_spotify_charts</th>\n      <th>streams</th>\n      <th>in_apple_playlists</th>\n      <th>in_apple_charts</th>\n      <th>in_deezer_playlists</th>\n      <th>...</th>\n      <th>bpm</th>\n      <th>key</th>\n      <th>mode</th>\n      <th>danceability_%</th>\n      <th>valence_%</th>\n      <th>energy_%</th>\n      <th>acousticness_%</th>\n      <th>instrumentalness_%</th>\n      <th>liveness_%</th>\n      <th>speechiness_%</th>\n    </tr>\n  </thead>\n  <tbody>\n    <tr>\n      <th>12</th>\n      <td>Flowers</td>\n      <td>Miley Cyrus</td>\n      <td>1</td>\n      <td>01/12/23</td>\n      <td></td>\n      <td>115</td>\n      <td>1316855716</td>\n      <td>300</td>\n      <td>215</td>\n      <td>745</td>\n      <td>...</td>\n      <td>118</td>\n      <td></td>\n      <td>Major</td>\n      <td>71</td>\n      <td>65</td>\n      <td>68</td>\n      <td>6</td>\n      <td>0</td>\n      <td>3</td>\n      <td>7</td>\n    </tr>\n    <tr>\n      <th>14</th>\n      <td>As It Was</td>\n      <td>Harry Styles</td>\n      <td>1</td>\n      <td>03/31/22</td>\n      <td>23575</td>\n      <td>130</td>\n      <td>2513188493</td>\n      <td>403</td>\n      <td>198</td>\n      <td>863</td>\n      <td>...</td>\n      <td>174</td>\n      <td>F#</td>\n      <td>Major</td>\n      <td>52</td>\n      <td>66</td>\n      <td>73</td>\n      <td>34</td>\n      <td>0</td>\n      <td>31</td>\n      <td>6</td>\n    </tr>\n    <tr>\n      <th>17</th>\n      <td>What Was I Made For? [From The Motion Picture ...</td>\n      <td>Billie Eilish</td>\n      <td>1</td>\n      <td>07/13/23</td>\n      <td>873</td>\n      <td>104</td>\n      <td>30546883</td>\n      <td>80</td>\n      <td>227</td>\n      <td>95</td>\n      <td>...</td>\n      <td>78</td>\n      <td></td>\n      <td>Major</td>\n      <td>44</td>\n      <td>14</td>\n      <td>9</td>\n      <td>96</td>\n      <td>0</td>\n      <td>10</td>\n      <td>3</td>\n    </tr>\n    <tr>\n      <th>22</th>\n      <td>I Wanna Be Yours</td>\n      <td>Arctic Monkeys</td>\n      <td>1</td>\n      <td>01/01/13</td>\n      <td>12859</td>\n      <td>110</td>\n      <td>1297026226</td>\n      <td>24</td>\n      <td>98</td>\n      <td>582</td>\n      <td>...</td>\n      <td>135</td>\n      <td></td>\n      <td>Major</td>\n      <td>48</td>\n      <td>44</td>\n      <td>42</td>\n      <td>12</td>\n      <td>2</td>\n      <td>11</td>\n      <td>3</td>\n    </tr>\n    <tr>\n      <th>35</th>\n      <td>Los del Espacio</td>\n      <td>Big One, Duki, Lit Killah, Maria Becerra, FMK,...</td>\n      <td>8</td>\n      <td>06/01/23</td>\n      <td>1150</td>\n      <td>31</td>\n      <td>123122413</td>\n      <td>22</td>\n      <td>33</td>\n      <td>34</td>\n      <td>...</td>\n      <td>120</td>\n      <td></td>\n      <td>Major</td>\n      <td>81</td>\n      <td>63</td>\n      <td>68</td>\n      <td>11</td>\n      <td>0</td>\n      <td>11</td>\n      <td>4</td>\n    </tr>\n    <tr>\n      <th>...</th>\n      <td>...</td>\n      <td>...</td>\n      <td>...</td>\n      <td>...</td>\n      <td>...</td>\n      <td>...</td>\n      <td>...</td>\n      <td>...</td>\n      <td>...</td>\n      <td>...</td>\n      <td>...</td>\n      <td>...</td>\n      <td>...</td>\n      <td>...</td>\n      <td>...</td>\n      <td>...</td>\n      <td>...</td>\n      <td>...</td>\n      <td>...</td>\n      <td>...</td>\n      <td>...</td>\n    </tr>\n    <tr>\n      <th>927</th>\n      <td>I Really Want to Stay at Your House</td>\n      <td>Rosa Walton, Hallie Coggins</td>\n      <td>2</td>\n      <td>12/18/20</td>\n      <td>668</td>\n      <td>1</td>\n      <td>140430339</td>\n      <td>0</td>\n      <td>0</td>\n      <td>31</td>\n      <td>...</td>\n      <td>125</td>\n      <td>D#</td>\n      <td>Minor</td>\n      <td>49</td>\n      <td>13</td>\n      <td>74</td>\n      <td>0</td>\n      <td>0</td>\n      <td>9</td>\n      <td>4</td>\n    </tr>\n    <tr>\n      <th>938</th>\n      <td>Labyrinth</td>\n      <td>Taylor Swift</td>\n      <td>1</td>\n      <td>10/21/22</td>\n      <td>1597</td>\n      <td>0</td>\n      <td>187339835</td>\n      <td>6</td>\n      <td>3</td>\n      <td>15</td>\n      <td>...</td>\n      <td>110</td>\n      <td></td>\n      <td>Major</td>\n      <td>48</td>\n      <td>15</td>\n      <td>31</td>\n      <td>80</td>\n      <td>22</td>\n      <td>12</td>\n      <td>4</td>\n    </tr>\n    <tr>\n      <th>940</th>\n      <td>Sweet Nothing</td>\n      <td>Taylor Swift</td>\n      <td>1</td>\n      <td>10/21/22</td>\n      <td>1747</td>\n      <td>0</td>\n      <td>186104310</td>\n      <td>9</td>\n      <td>6</td>\n      <td>13</td>\n      <td>...</td>\n      <td>177</td>\n      <td></td>\n      <td>Major</td>\n      <td>34</td>\n      <td>39</td>\n      <td>16</td>\n      <td>97</td>\n      <td>0</td>\n      <td>12</td>\n      <td>5</td>\n    </tr>\n    <tr>\n      <th>953</th>\n      <td>Sweet Nothing</td>\n      <td>Taylor Swift</td>\n      <td>1</td>\n      <td>10/21/22</td>\n      <td>1747</td>\n      <td>0</td>\n      <td>186104310</td>\n      <td>9</td>\n      <td>6</td>\n      <td>13</td>\n      <td>...</td>\n      <td>177</td>\n      <td></td>\n      <td>Major</td>\n      <td>34</td>\n      <td>39</td>\n      <td>16</td>\n      <td>97</td>\n      <td>0</td>\n      <td>12</td>\n      <td>5</td>\n    </tr>\n    <tr>\n      <th>955</th>\n      <td>QUEMA</td>\n      <td>Sog, Ryan Castro, Peso Pluma</td>\n      <td>3</td>\n      <td>07/13/23</td>\n      <td>437</td>\n      <td>31</td>\n      <td>11599388</td>\n      <td>17</td>\n      <td>29</td>\n      <td>26</td>\n      <td>...</td>\n      <td>97</td>\n      <td></td>\n      <td>Major</td>\n      <td>79</td>\n      <td>92</td>\n      <td>89</td>\n      <td>5</td>\n      <td>0</td>\n      <td>6</td>\n      <td>5</td>\n    </tr>\n  </tbody>\n</table>\n<p>152 rows × 22 columns</p>\n</div>"
     },
     "execution_count": 109,
     "metadata": {},
     "output_type": "execute_result"
    }
   ],
   "source": [
    "#Detect rows where at least one column has no value at all as a value\n",
    "spotify_df[spotify_df.isin([\"\"]).any(axis=1)]\n"
   ],
   "metadata": {
    "collapsed": false,
    "ExecuteTime": {
     "end_time": "2023-10-19T15:47:57.671596Z",
     "start_time": "2023-10-19T15:47:57.630685Z"
    }
   },
   "id": "4dab35e0389b20ae"
  },
  {
   "cell_type": "markdown",
   "source": [
    "### Result\n",
    "> 152 rows have missing values which I will now turn into Nan values to be detected. This next operation is used to replace all empty or whitespace-only strings in the DataFrame with \"NaN\"."
   ],
   "metadata": {
    "collapsed": false
   },
   "id": "d657975e00a0f2f6"
  },
  {
   "cell_type": "code",
   "execution_count": 112,
   "outputs": [],
   "source": [
    "#turn all the missing values into Nan values \n",
    "spotify_df = spotify_df.replace(r'^\\s*$', np.nan, regex=True)"
   ],
   "metadata": {
    "collapsed": false,
    "ExecuteTime": {
     "end_time": "2023-10-19T15:52:38.151819Z",
     "start_time": "2023-10-19T15:52:38.117117Z"
    }
   },
   "id": "3ca137f64264f630"
  },
  {
   "cell_type": "markdown",
   "source": [
    "I will make another visualization of the missing values now."
   ],
   "metadata": {
    "collapsed": false
   },
   "id": "e2278bc9a7291f9f"
  },
  {
   "cell_type": "code",
   "execution_count": 116,
   "outputs": [
    {
     "data": {
      "text/plain": "<Axes: >"
     },
     "execution_count": 116,
     "metadata": {},
     "output_type": "execute_result"
    },
    {
     "data": {
      "text/plain": "<Figure size 2500x1000 with 3 Axes>",
      "image/png": "[encoded data removed]"
     },
     "metadata": {},
     "output_type": "display_data"
    },
    {
     "data": {
      "text/plain": "<Figure size 2500x1000 with 2 Axes>",
      "image/png": "[encoded data removed]"
     },
     "metadata": {},
     "output_type": "display_data"
    }
   ],
   "source": [
    "#visualize missing values\n",
    "msno.bar(spotify_df)\n",
    "msno.matrix(spotify_df)"
   ],
   "metadata": {
    "collapsed": false,
    "ExecuteTime": {
     "end_time": "2023-10-19T15:56:23.840439Z",
     "start_time": "2023-10-19T15:56:21.675039Z"
    }
   },
   "id": "a2d1b6771ebc8214"
  },
  {
   "cell_type": "markdown",
   "source": [
    "Looking at the visualization now I can detect all the missing values and I can see that most of the missing values are in the feature \"key\", which I dont want to drop though so instead I will drop all the rows with missing values and then visualize again to check if it worked.\n"
   ],
   "metadata": {
    "collapsed": false
   },
   "id": "39e4c50d39d0a6ae"
  },
  {
   "cell_type": "code",
   "execution_count": 117,
   "outputs": [],
   "source": [
    "#drop all rows with missing values\n",
    "spotify_df = spotify_df.dropna()"
   ],
   "metadata": {
    "collapsed": false,
    "ExecuteTime": {
     "end_time": "2023-10-19T15:58:33.110328Z",
     "start_time": "2023-10-19T15:58:33.077733Z"
    }
   },
   "id": "b1d0bde1198b7594"
  },
  {
   "cell_type": "code",
   "execution_count": 118,
   "outputs": [
    {
     "data": {
      "text/plain": "<Axes: >"
     },
     "execution_count": 118,
     "metadata": {},
     "output_type": "execute_result"
    },
    {
     "data": {
      "text/plain": "<Figure size 2500x1000 with 3 Axes>",
      "image/png": "[encoded data removed]"
     },
     "metadata": {},
     "output_type": "display_data"
    }
   ],
   "source": [
    "#visualize missing values\n",
    "msno.bar(spotify_df)"
   ],
   "metadata": {
    "collapsed": false,
    "ExecuteTime": {
     "end_time": "2023-10-19T15:58:43.348370Z",
     "start_time": "2023-10-19T15:58:41.719612Z"
    }
   },
   "id": "2fdebd873c7d4073"
  },
  {
   "cell_type": "markdown",
   "source": [
    "It worked out but now I shrinked my dataset from 958 to 806, which is still a feasible amount of data. Next I will look for duplicates in the dataset."
   ],
   "metadata": {
    "collapsed": false
   },
   "id": "8b936796a4c903d1"
  },
  {
   "cell_type": "code",
   "execution_count": 121,
   "outputs": [
    {
     "data": {
      "text/plain": "2"
     },
     "execution_count": 121,
     "metadata": {},
     "output_type": "execute_result"
    }
   ],
   "source": [
    "#check for duplicates\n",
    "spotify_df.duplicated().sum()"
   ],
   "metadata": {
    "collapsed": false,
    "ExecuteTime": {
     "end_time": "2023-10-19T16:07:37.758577Z",
     "start_time": "2023-10-19T16:07:37.695914Z"
    }
   },
   "id": "e8b5c9e14e2175de"
  },
  {
   "cell_type": "markdown",
   "source": [
    "I discovered that there are 2 duplicates which I will drop now."
   ],
   "metadata": {
    "collapsed": false
   },
   "id": "f57d3b8bd670cf68"
  },
  {
   "cell_type": "code",
   "execution_count": 122,
   "outputs": [],
   "source": [
    "#drop duplicates\n",
    "spotify_df = spotify_df.drop_duplicates()"
   ],
   "metadata": {
    "collapsed": false,
    "ExecuteTime": {
     "end_time": "2023-10-19T16:08:30.242540Z",
     "start_time": "2023-10-19T16:08:30.206124Z"
    }
   },
   "id": "94e1b1993d81e6ec"
  },
  {
   "cell_type": "markdown",
   "source": [
    "No I will check if the datatypes within the columns are varying\n"
   ],
   "metadata": {
    "collapsed": false
   },
   "id": "d1cef341cc0d0064"
  },
  {
   "cell_type": "code",
   "execution_count": 126,
   "outputs": [
    {
     "name": "stdout",
     "output_type": "stream",
     "text": [
      "Datatype of track_name is object\n",
      "Datatype of artist(s)_name is object\n",
      "Datatype of artist_count is float64\n",
      "Datatype of release_date is object\n",
      "Datatype of in_spotify_playlists is float64\n",
      "Datatype of in_spotify_charts is float64\n",
      "Datatype of streams is object\n",
      "Datatype of in_apple_playlists is int64\n",
      "Datatype of in_apple_charts is int64\n",
      "Datatype of in_deezer_playlists is int64\n",
      "Datatype of in_deezer_charts is int64\n",
      "Datatype of in_shazam_charts is float64\n",
      "Datatype of bpm is int64\n",
      "Datatype of key is object\n",
      "Datatype of mode is object\n",
      "Datatype of danceability_% is int64\n",
      "Datatype of valence_% is int64\n",
      "Datatype of energy_% is int64\n",
      "Datatype of acousticness_% is int64\n",
      "Datatype of instrumentalness_% is int64\n",
      "Datatype of liveness_% is int64\n",
      "Datatype of speechiness_% is int64\n"
     ]
    }
   ],
   "source": [
    "#check datatypes\n",
    "for column in spotify_df.columns:\n",
    "    print(f\"Datatype of {column} is {spotify_df[column].dtype}\")"
   ],
   "metadata": {
    "collapsed": false,
    "ExecuteTime": {
     "end_time": "2023-10-19T16:13:05.786985Z",
     "start_time": "2023-10-19T16:13:05.719766Z"
    }
   },
   "id": "4cd094b15312668d"
  },
  {
   "cell_type": "markdown",
   "source": [
    "Turns out all the columns datatypes are consistent. Next I will have a look if there are any more anomalies in the dataset."
   ],
   "metadata": {
    "collapsed": false
   },
   "id": "fc01d2ed17accdb1"
  },
  {
   "cell_type": "code",
   "execution_count": 128,
   "outputs": [
    {
     "data": {
      "text/plain": "       artist_count  in_spotify_playlists  in_spotify_charts  \\\ncount    804.000000            804.000000         804.000000   \nmean       1.573383           4825.778607          11.839552   \nstd        0.923385           7712.548045          18.729519   \nmin        0.000000             31.000000           0.000000   \n25%        1.000000            831.250000           0.000000   \n50%        1.000000           2037.500000           3.000000   \n75%        2.000000           4878.750000          16.000000   \nmax       10.000000          52898.000000         147.000000   \n\n       in_apple_playlists  in_apple_charts  in_deezer_playlists  \\\ncount          804.000000       804.000000           804.000000   \nmean            60.000000        49.680348           365.476368   \nstd             74.744979        49.649793          1150.649201   \nmin              0.000000         0.000000             0.000000   \n25%             12.000000         6.000000            12.750000   \n50%             32.000000        35.000000            39.000000   \n75%             78.250000        84.000000           141.250000   \nmax            532.000000       275.000000         12367.000000   \n\n       in_deezer_charts  in_shazam_charts         bpm  danceability_%  \\\ncount        804.000000        804.000000  804.000000      804.000000   \nmean           2.445274         58.248756  126.334577       67.273632   \nstd            5.389279        154.629088   62.873343       16.243777   \nmin            0.000000          0.000000   65.000000      -60.000000   \n25%            0.000000          0.000000   99.000000       57.000000   \n50%            0.000000          3.000000  120.000000       70.000000   \n75%            2.000000         40.000000  141.000000       79.000000   \nmax           45.000000       1451.000000  999.000000      199.000000   \n\n        valence_%    energy_%  acousticness_%  instrumentalness_%  liveness_%  \\\ncount  804.000000  804.000000      804.000000          804.000000  804.000000   \nmean    51.093284   64.246269       26.228856            1.625622   18.238806   \nstd     23.479198   16.098051       25.462494            8.566371   13.589799   \nmin      4.000000   14.000000        0.000000            0.000000    3.000000   \n25%     32.000000   53.000000        5.000000            0.000000   10.000000   \n50%     51.000000   65.000000       17.000000            0.000000   12.000000   \n75%     70.000000   76.000000       41.000000            0.000000   24.000000   \nmax     97.000000   97.000000       97.000000           91.000000   97.000000   \n\n       speechiness_%  \ncount     804.000000  \nmean       10.590796  \nstd        10.235847  \nmin         2.000000  \n25%         4.000000  \n50%         6.000000  \n75%        12.000000  \nmax        64.000000  ",
      "text/html": "<div>\n<style scoped>\n    .dataframe tbody tr th:only-of-type {\n        vertical-align: middle;\n    }\n\n    .dataframe tbody tr th {\n        vertical-align: top;\n    }\n\n    .dataframe thead th {\n        text-align: right;\n    }\n</style>\n<table border=\"1\" class=\"dataframe\">\n  <thead>\n    <tr style=\"text-align: right;\">\n      <th></th>\n      <th>artist_count</th>\n      <th>in_spotify_playlists</th>\n      <th>in_spotify_charts</th>\n      <th>in_apple_playlists</th>\n      <th>in_apple_charts</th>\n      <th>in_deezer_playlists</th>\n      <th>in_deezer_charts</th>\n      <th>in_shazam_charts</th>\n      <th>bpm</th>\n      <th>danceability_%</th>\n      <th>valence_%</th>\n      <th>energy_%</th>\n      <th>acousticness_%</th>\n      <th>instrumentalness_%</th>\n      <th>liveness_%</th>\n      <th>speechiness_%</th>\n    </tr>\n  </thead>\n  <tbody>\n    <tr>\n      <th>count</th>\n      <td>804.000000</td>\n      <td>804.000000</td>\n      <td>804.000000</td>\n      <td>804.000000</td>\n      <td>804.000000</td>\n      <td>804.000000</td>\n      <td>804.000000</td>\n      <td>804.000000</td>\n      <td>804.000000</td>\n      <td>804.000000</td>\n      <td>804.000000</td>\n      <td>804.000000</td>\n      <td>804.000000</td>\n      <td>804.000000</td>\n      <td>804.000000</td>\n      <td>804.000000</td>\n    </tr>\n    <tr>\n      <th>mean</th>\n      <td>1.573383</td>\n      <td>4825.778607</td>\n      <td>11.839552</td>\n      <td>60.000000</td>\n      <td>49.680348</td>\n      <td>365.476368</td>\n      <td>2.445274</td>\n      <td>58.248756</td>\n      <td>126.334577</td>\n      <td>67.273632</td>\n      <td>51.093284</td>\n      <td>64.246269</td>\n      <td>26.228856</td>\n      <td>1.625622</td>\n      <td>18.238806</td>\n      <td>10.590796</td>\n    </tr>\n    <tr>\n      <th>std</th>\n      <td>0.923385</td>\n      <td>7712.548045</td>\n      <td>18.729519</td>\n      <td>74.744979</td>\n      <td>49.649793</td>\n      <td>1150.649201</td>\n      <td>5.389279</td>\n      <td>154.629088</td>\n      <td>62.873343</td>\n      <td>16.243777</td>\n      <td>23.479198</td>\n      <td>16.098051</td>\n      <td>25.462494</td>\n      <td>8.566371</td>\n      <td>13.589799</td>\n      <td>10.235847</td>\n    </tr>\n    <tr>\n      <th>min</th>\n      <td>0.000000</td>\n      <td>31.000000</td>\n      <td>0.000000</td>\n      <td>0.000000</td>\n      <td>0.000000</td>\n      <td>0.000000</td>\n      <td>0.000000</td>\n      <td>0.000000</td>\n      <td>65.000000</td>\n      <td>-60.000000</td>\n      <td>4.000000</td>\n      <td>14.000000</td>\n      <td>0.000000</td>\n      <td>0.000000</td>\n      <td>3.000000</td>\n      <td>2.000000</td>\n    </tr>\n    <tr>\n      <th>25%</th>\n      <td>1.000000</td>\n      <td>831.250000</td>\n      <td>0.000000</td>\n      <td>12.000000</td>\n      <td>6.000000</td>\n      <td>12.750000</td>\n      <td>0.000000</td>\n      <td>0.000000</td>\n      <td>99.000000</td>\n      <td>57.000000</td>\n      <td>32.000000</td>\n      <td>53.000000</td>\n      <td>5.000000</td>\n      <td>0.000000</td>\n      <td>10.000000</td>\n      <td>4.000000</td>\n    </tr>\n    <tr>\n      <th>50%</th>\n      <td>1.000000</td>\n      <td>2037.500000</td>\n      <td>3.000000</td>\n      <td>32.000000</td>\n      <td>35.000000</td>\n      <td>39.000000</td>\n      <td>0.000000</td>\n      <td>3.000000</td>\n      <td>120.000000</td>\n      <td>70.000000</td>\n      <td>51.000000</td>\n      <td>65.000000</td>\n      <td>17.000000</td>\n      <td>0.000000</td>\n      <td>12.000000</td>\n      <td>6.000000</td>\n    </tr>\n    <tr>\n      <th>75%</th>\n      <td>2.000000</td>\n      <td>4878.750000</td>\n      <td>16.000000</td>\n      <td>78.250000</td>\n      <td>84.000000</td>\n      <td>141.250000</td>\n      <td>2.000000</td>\n      <td>40.000000</td>\n      <td>141.000000</td>\n      <td>79.000000</td>\n      <td>70.000000</td>\n      <td>76.000000</td>\n      <td>41.000000</td>\n      <td>0.000000</td>\n      <td>24.000000</td>\n      <td>12.000000</td>\n    </tr>\n    <tr>\n      <th>max</th>\n      <td>10.000000</td>\n      <td>52898.000000</td>\n      <td>147.000000</td>\n      <td>532.000000</td>\n      <td>275.000000</td>\n      <td>12367.000000</td>\n      <td>45.000000</td>\n      <td>1451.000000</td>\n      <td>999.000000</td>\n      <td>199.000000</td>\n      <td>97.000000</td>\n      <td>97.000000</td>\n      <td>97.000000</td>\n      <td>91.000000</td>\n      <td>97.000000</td>\n      <td>64.000000</td>\n    </tr>\n  </tbody>\n</table>\n</div>"
     },
     "execution_count": 128,
     "metadata": {},
     "output_type": "execute_result"
    }
   ],
   "source": [
    "spotify_df.describe()"
   ],
   "metadata": {
    "collapsed": false,
    "ExecuteTime": {
     "end_time": "2023-10-19T16:16:11.170069Z",
     "start_time": "2023-10-19T16:16:11.086570Z"
    }
   },
   "id": "e5c810bc5dd03313"
  },
  {
   "cell_type": "code",
   "execution_count": 132,
   "outputs": [
    {
     "name": "stdout",
     "output_type": "stream",
     "text": [
      "<class 'pandas.core.frame.DataFrame'>\n",
      "Index: 804 entries, 0 to 957\n",
      "Data columns (total 22 columns):\n",
      " #   Column                Non-Null Count  Dtype  \n",
      "---  ------                --------------  -----  \n",
      " 0   track_name            804 non-null    object \n",
      " 1   artist(s)_name        804 non-null    object \n",
      " 2   artist_count          804 non-null    float64\n",
      " 3   release_date          804 non-null    object \n",
      " 4   in_spotify_playlists  804 non-null    float64\n",
      " 5   in_spotify_charts     804 non-null    float64\n",
      " 6   streams               804 non-null    object \n",
      " 7   in_apple_playlists    804 non-null    int64  \n",
      " 8   in_apple_charts       804 non-null    int64  \n",
      " 9   in_deezer_playlists   804 non-null    int64  \n",
      " 10  in_deezer_charts      804 non-null    int64  \n",
      " 11  in_shazam_charts      804 non-null    float64\n",
      " 12  bpm                   804 non-null    int64  \n",
      " 13  key                   804 non-null    object \n",
      " 14  mode                  804 non-null    object \n",
      " 15  danceability_%        804 non-null    int64  \n",
      " 16  valence_%             804 non-null    int64  \n",
      " 17  energy_%              804 non-null    int64  \n",
      " 18  acousticness_%        804 non-null    int64  \n",
      " 19  instrumentalness_%    804 non-null    int64  \n",
      " 20  liveness_%            804 non-null    int64  \n",
      " 21  speechiness_%         804 non-null    int64  \n",
      "dtypes: float64(4), int64(12), object(6)\n",
      "memory usage: 144.5+ KB\n"
     ]
    }
   ],
   "source": [
    "spotify_df.info()"
   ],
   "metadata": {
    "collapsed": false,
    "ExecuteTime": {
     "end_time": "2023-10-19T16:23:37.646899Z",
     "start_time": "2023-10-19T16:23:37.606250Z"
    }
   },
   "id": "e46638221909c246"
  },
  {
   "cell_type": "code",
   "execution_count": 136,
   "outputs": [
    {
     "data": {
      "application/vnd.plotly.v1+json": {
       "data": [
        {
         "alignmentgroup": "True",
         "hovertemplate": "x=%{x}<br>y=%{y}<extra></extra>",
         "legendgroup": "",
         "marker": {
          "color": "#636efa",
          "pattern": {
           "shape": ""
          }
         },
         "name": "",
         "offsetgroup": "",
         "orientation": "v",
         "showlegend": false,
         "textposition": "auto",
         "x": [
          "C#",
          "G",
          "F",
          "G#",
          "B",
          "D",
          "A",
          "F#",
          "E",
          "A#",
          "D#"
         ],
         "xaxis": "x",
         "y": [
          113,
          88,
          85,
          84,
          78,
          78,
          70,
          67,
          59,
          53,
          29
         ],
         "yaxis": "y",
         "type": "bar"
        }
       ],
       "layout": {
        "template": {
         "data": {
          "histogram2dcontour": [
           {
            "type": "histogram2dcontour",
            "colorbar": {
             "outlinewidth": 0,
             "ticks": ""
            },
            "colorscale": [
             [
              0.0,
              "#0d0887"
             ],
             [
              0.1111111111111111,
              "#46039f"
             ],
             [
              0.2222222222222222,
              "#7201a8"
             ],
             [
              0.3333333333333333,
              "#9c179e"
             ],
             [
              0.4444444444444444,
              "#bd3786"
             ],
             [
              0.5555555555555556,
              "#d8576b"
             ],
             [
              0.6666666666666666,
              "#ed7953"
             ],
             [
              0.7777777777777778,
              "#fb9f3a"
             ],
             [
              0.8888888888888888,
              "#fdca26"
             ],
             [
              1.0,
              "#f0f921"
             ]
            ]
           }
          ],
          "choropleth": [
           {
            "type": "choropleth",
            "colorbar": {
             "outlinewidth": 0,
             "ticks": ""
            }
           }
          ],
          "histogram2d": [
           {
            "type": "histogram2d",
            "colorbar": {
             "outlinewidth": 0,
             "ticks": ""
            },
            "colorscale": [
             [
              0.0,
              "#0d0887"
             ],
             [
              0.1111111111111111,
              "#46039f"
             ],
             [
              0.2222222222222222,
              "#7201a8"
             ],
             [
              0.3333333333333333,
              "#9c179e"
             ],
             [
              0.4444444444444444,
              "#bd3786"
             ],
             [
              0.5555555555555556,
              "#d8576b"
             ],
             [
              0.6666666666666666,
              "#ed7953"
             ],
             [
              0.7777777777777778,
              "#fb9f3a"
             ],
             [
              0.8888888888888888,
              "#fdca26"
             ],
             [
              1.0,
              "#f0f921"
             ]
            ]
           }
          ],
          "heatmap": [
           {
            "type": "heatmap",
            "colorbar": {
             "outlinewidth": 0,
             "ticks": ""
            },
            "colorscale": [
             [
              0.0,
              "#0d0887"
             ],
             [
              0.1111111111111111,
              "#46039f"
             ],
             [
              0.2222222222222222,
              "#7201a8"
             ],
             [
              0.3333333333333333,
              "#9c179e"
             ],
             [
              0.4444444444444444,
              "#bd3786"
             ],
             [
              0.5555555555555556,
              "#d8576b"
             ],
             [
              0.6666666666666666,
              "#ed7953"
             ],
             [
              0.7777777777777778,
              "#fb9f3a"
             ],
             [
              0.8888888888888888,
              "#fdca26"
             ],
             [
              1.0,
              "#f0f921"
             ]
            ]
           }
          ],
          "heatmapgl": [
           {
            "type": "heatmapgl",
            "colorbar": {
             "outlinewidth": 0,
             "ticks": ""
            },
            "colorscale": [
             [
              0.0,
              "#0d0887"
             ],
             [
              0.1111111111111111,
              "#46039f"
             ],
             [
              0.2222222222222222,
              "#7201a8"
             ],
             [
              0.3333333333333333,
              "#9c179e"
             ],
             [
              0.4444444444444444,
              "#bd3786"
             ],
             [
              0.5555555555555556,
              "#d8576b"
             ],
             [
              0.6666666666666666,
              "#ed7953"
             ],
             [
              0.7777777777777778,
              "#fb9f3a"
             ],
             [
              0.8888888888888888,
              "#fdca26"
             ],
             [
              1.0,
              "#f0f921"
             ]
            ]
           }
          ],
          "contourcarpet": [
           {
            "type": "contourcarpet",
            "colorbar": {
             "outlinewidth": 0,
             "ticks": ""
            }
           }
          ],
          "contour": [
           {
            "type": "contour",
            "colorbar": {
             "outlinewidth": 0,
             "ticks": ""
            },
            "colorscale": [
             [
              0.0,
              "#0d0887"
             ],
             [
              0.1111111111111111,
              "#46039f"
             ],
             [
              0.2222222222222222,
              "#7201a8"
             ],
             [
              0.3333333333333333,
              "#9c179e"
             ],
             [
              0.4444444444444444,
              "#bd3786"
             ],
             [
              0.5555555555555556,
              "#d8576b"
             ],
             [
              0.6666666666666666,
              "#ed7953"
             ],
             [
              0.7777777777777778,
              "#fb9f3a"
             ],
             [
              0.8888888888888888,
              "#fdca26"
             ],
             [
              1.0,
              "#f0f921"
             ]
            ]
           }
          ],
          "surface": [
           {
            "type": "surface",
            "colorbar": {
             "outlinewidth": 0,
             "ticks": ""
            },
            "colorscale": [
             [
              0.0,
              "#0d0887"
             ],
             [
              0.1111111111111111,
              "#46039f"
             ],
             [
              0.2222222222222222,
              "#7201a8"
             ],
             [
              0.3333333333333333,
              "#9c179e"
             ],
             [
              0.4444444444444444,
              "#bd3786"
             ],
             [
              0.5555555555555556,
              "#d8576b"
             ],
             [
              0.6666666666666666,
              "#ed7953"
             ],
             [
              0.7777777777777778,
              "#fb9f3a"
             ],
             [
              0.8888888888888888,
              "#fdca26"
             ],
             [
              1.0,
              "#f0f921"
             ]
            ]
           }
          ],
          "mesh3d": [
           {
            "type": "mesh3d",
            "colorbar": {
             "outlinewidth": 0,
             "ticks": ""
            }
           }
          ],
          "scatter": [
           {
            "fillpattern": {
             "fillmode": "overlay",
             "size": 10,
             "solidity": 0.2
            },
            "type": "scatter"
           }
          ],
          "parcoords": [
           {
            "type": "parcoords",
            "line": {
             "colorbar": {
              "outlinewidth": 0,
              "ticks": ""
             }
            }
           }
          ],
          "scatterpolargl": [
           {
            "type": "scatterpolargl",
            "marker": {
             "colorbar": {
              "outlinewidth": 0,
              "ticks": ""
             }
            }
           }
          ],
          "bar": [
           {
            "error_x": {
             "color": "#2a3f5f"
            },
            "error_y": {
             "color": "#2a3f5f"
            },
            "marker": {
             "line": {
              "color": "#E5ECF6",
              "width": 0.5
             },
             "pattern": {
              "fillmode": "overlay",
              "size": 10,
              "solidity": 0.2
             }
            },
            "type": "bar"
           }
          ],
          "scattergeo": [
           {
            "type": "scattergeo",
            "marker": {
             "colorbar": {
              "outlinewidth": 0,
              "ticks": ""
             }
            }
           }
          ],
          "scatterpolar": [
           {
            "type": "scatterpolar",
            "marker": {
             "colorbar": {
              "outlinewidth": 0,
              "ticks": ""
             }
            }
           }
          ],
          "histogram": [
           {
            "marker": {
             "pattern": {
              "fillmode": "overlay",
              "size": 10,
              "solidity": 0.2
             }
            },
            "type": "histogram"
           }
          ],
          "scattergl": [
           {
            "type": "scattergl",
            "marker": {
             "colorbar": {
              "outlinewidth": 0,
              "ticks": ""
             }
            }
           }
          ],
          "scatter3d": [
           {
            "type": "scatter3d",
            "line": {
             "colorbar": {
              "outlinewidth": 0,
              "ticks": ""
             }
            },
            "marker": {
             "colorbar": {
              "outlinewidth": 0,
              "ticks": ""
             }
            }
           }
          ],
          "scattermapbox": [
           {
            "type": "scattermapbox",
            "marker": {
             "colorbar": {
              "outlinewidth": 0,
              "ticks": ""
             }
            }
           }
          ],
          "scatterternary": [
           {
            "type": "scatterternary",
            "marker": {
             "colorbar": {
              "outlinewidth": 0,
              "ticks": ""
             }
            }
           }
          ],
          "scattercarpet": [
           {
            "type": "scattercarpet",
            "marker": {
             "colorbar": {
              "outlinewidth": 0,
              "ticks": ""
             }
            }
           }
          ],
          "carpet": [
           {
            "aaxis": {
             "endlinecolor": "#2a3f5f",
             "gridcolor": "white",
             "linecolor": "white",
             "minorgridcolor": "white",
             "startlinecolor": "#2a3f5f"
            },
            "baxis": {
             "endlinecolor": "#2a3f5f",
             "gridcolor": "white",
             "linecolor": "white",
             "minorgridcolor": "white",
             "startlinecolor": "#2a3f5f"
            },
            "type": "carpet"
           }
          ],
          "table": [
           {
            "cells": {
             "fill": {
              "color": "#EBF0F8"
             },
             "line": {
              "color": "white"
             }
            },
            "header": {
             "fill": {
              "color": "#C8D4E3"
             },
             "line": {
              "color": "white"
             }
            },
            "type": "table"
           }
          ],
          "barpolar": [
           {
            "marker": {
             "line": {
              "color": "#E5ECF6",
              "width": 0.5
             },
             "pattern": {
              "fillmode": "overlay",
              "size": 10,
              "solidity": 0.2
             }
            },
            "type": "barpolar"
           }
          ],
          "pie": [
           {
            "automargin": true,
            "type": "pie"
           }
          ]
         },
         "layout": {
          "autotypenumbers": "strict",
          "colorway": [
           "#636efa",
           "#EF553B",
           "#00cc96",
           "#ab63fa",
           "#FFA15A",
           "#19d3f3",
           "#FF6692",
           "#B6E880",
           "#FF97FF",
           "#FECB52"
          ],
          "font": {
           "color": "#2a3f5f"
          },
          "hovermode": "closest",
          "hoverlabel": {
           "align": "left"
          },
          "paper_bgcolor": "white",
          "plot_bgcolor": "#E5ECF6",
          "polar": {
           "bgcolor": "#E5ECF6",
           "angularaxis": {
            "gridcolor": "white",
            "linecolor": "white",
            "ticks": ""
           },
           "radialaxis": {
            "gridcolor": "white",
            "linecolor": "white",
            "ticks": ""
           }
          },
          "ternary": {
           "bgcolor": "#E5ECF6",
           "aaxis": {
            "gridcolor": "white",
            "linecolor": "white",
            "ticks": ""
           },
           "baxis": {
            "gridcolor": "white",
            "linecolor": "white",
            "ticks": ""
           },
           "caxis": {
            "gridcolor": "white",
            "linecolor": "white",
            "ticks": ""
           }
          },
          "coloraxis": {
           "colorbar": {
            "outlinewidth": 0,
            "ticks": ""
           }
          },
          "colorscale": {
           "sequential": [
            [
             0.0,
             "#0d0887"
            ],
            [
             0.1111111111111111,
             "#46039f"
            ],
            [
             0.2222222222222222,
             "#7201a8"
            ],
            [
             0.3333333333333333,
             "#9c179e"
            ],
            [
             0.4444444444444444,
             "#bd3786"
            ],
            [
             0.5555555555555556,
             "#d8576b"
            ],
            [
             0.6666666666666666,
             "#ed7953"
            ],
            [
             0.7777777777777778,
             "#fb9f3a"
            ],
            [
             0.8888888888888888,
             "#fdca26"
            ],
            [
             1.0,
             "#f0f921"
            ]
           ],
           "sequentialminus": [
            [
             0.0,
             "#0d0887"
            ],
            [
             0.1111111111111111,
             "#46039f"
            ],
            [
             0.2222222222222222,
             "#7201a8"
            ],
            [
             0.3333333333333333,
             "#9c179e"
            ],
            [
             0.4444444444444444,
             "#bd3786"
            ],
            [
             0.5555555555555556,
             "#d8576b"
            ],
            [
             0.6666666666666666,
             "#ed7953"
            ],
            [
             0.7777777777777778,
             "#fb9f3a"
            ],
            [
             0.8888888888888888,
             "#fdca26"
            ],
            [
             1.0,
             "#f0f921"
            ]
           ],
           "diverging": [
            [
             0,
             "#8e0152"
            ],
            [
             0.1,
             "#c51b7d"
            ],
            [
             0.2,
             "#de77ae"
            ],
            [
             0.3,
             "#f1b6da"
            ],
            [
             0.4,
             "#fde0ef"
            ],
            [
             0.5,
             "#f7f7f7"
            ],
            [
             0.6,
             "#e6f5d0"
            ],
            [
             0.7,
             "#b8e186"
            ],
            [
             0.8,
             "#7fbc41"
            ],
            [
             0.9,
             "#4d9221"
            ],
            [
             1,
             "#276419"
            ]
           ]
          },
          "xaxis": {
           "gridcolor": "white",
           "linecolor": "white",
           "ticks": "",
           "title": {
            "standoff": 15
           },
           "zerolinecolor": "white",
           "automargin": true,
           "zerolinewidth": 2
          },
          "yaxis": {
           "gridcolor": "white",
           "linecolor": "white",
           "ticks": "",
           "title": {
            "standoff": 15
           },
           "zerolinecolor": "white",
           "automargin": true,
           "zerolinewidth": 2
          },
          "scene": {
           "xaxis": {
            "backgroundcolor": "#E5ECF6",
            "gridcolor": "white",
            "linecolor": "white",
            "showbackground": true,
            "ticks": "",
            "zerolinecolor": "white",
            "gridwidth": 2
           },
           "yaxis": {
            "backgroundcolor": "#E5ECF6",
            "gridcolor": "white",
            "linecolor": "white",
            "showbackground": true,
            "ticks": "",
            "zerolinecolor": "white",
            "gridwidth": 2
           },
           "zaxis": {
            "backgroundcolor": "#E5ECF6",
            "gridcolor": "white",
            "linecolor": "white",
            "showbackground": true,
            "ticks": "",
            "zerolinecolor": "white",
            "gridwidth": 2
           }
          },
          "shapedefaults": {
           "line": {
            "color": "#2a3f5f"
           }
          },
          "annotationdefaults": {
           "arrowcolor": "#2a3f5f",
           "arrowhead": 0,
           "arrowwidth": 1
          },
          "geo": {
           "bgcolor": "white",
           "landcolor": "#E5ECF6",
           "subunitcolor": "white",
           "showland": true,
           "showlakes": true,
           "lakecolor": "white"
          },
          "title": {
           "x": 0.05
          },
          "mapbox": {
           "style": "light"
          }
         }
        },
        "xaxis": {
         "anchor": "y",
         "domain": [
          0.0,
          1.0
         ],
         "title": {
          "text": "key"
         }
        },
        "yaxis": {
         "anchor": "x",
         "domain": [
          0.0,
          1.0
         ],
         "title": {
          "text": "Count"
         }
        },
        "legend": {
         "tracegroupgap": 0
        },
        "title": {
         "text": "Class imbalance for 'key'"
        },
        "barmode": "relative"
       },
       "config": {
        "plotlyServerURL": "https://plot.ly"
       }
      },
      "text/html": "<div>                            <div id=\"9f3ea549-fbeb-4cd0-beec-2556a3f45e68\" class=\"plotly-graph-div\" style=\"height:525px; width:100%;\"></div>            <script type=\"text/javascript\">                require([\"plotly\"], function(Plotly) {                    window.PLOTLYENV=window.PLOTLYENV || {};                                    if (document.getElementById(\"9f3ea549-fbeb-4cd0-beec-2556a3f45e68\")) {                    Plotly.newPlot(                        \"9f3ea549-fbeb-4cd0-beec-2556a3f45e68\",                        [{\"alignmentgroup\":\"True\",\"hovertemplate\":\"x=%{x}\\u003cbr\\u003ey=%{y}\\u003cextra\\u003e\\u003c\\u002fextra\\u003e\",\"legendgroup\":\"\",\"marker\":{\"color\":\"#636efa\",\"pattern\":{\"shape\":\"\"}},\"name\":\"\",\"offsetgroup\":\"\",\"orientation\":\"v\",\"showlegend\":false,\"textposition\":\"auto\",\"x\":[\"C#\",\"G\",\"F\",\"G#\",\"B\",\"D\",\"A\",\"F#\",\"E\",\"A#\",\"D#\"],\"xaxis\":\"x\",\"y\":[113,88,85,84,78,78,70,67,59,53,29],\"yaxis\":\"y\",\"type\":\"bar\"}],                        {\"template\":{\"data\":{\"histogram2dcontour\":[{\"type\":\"histogram2dcontour\",\"colorbar\":{\"outlinewidth\":0,\"ticks\":\"\"},\"colorscale\":[[0.0,\"#0d0887\"],[0.1111111111111111,\"#46039f\"],[0.2222222222222222,\"#7201a8\"],[0.3333333333333333,\"#9c179e\"],[0.4444444444444444,\"#bd3786\"],[0.5555555555555556,\"#d8576b\"],[0.6666666666666666,\"#ed7953\"],[0.7777777777777778,\"#fb9f3a\"],[0.8888888888888888,\"#fdca26\"],[1.0,\"#f0f921\"]]}],\"choropleth\":[{\"type\":\"choropleth\",\"colorbar\":{\"outlinewidth\":0,\"ticks\":\"\"}}],\"histogram2d\":[{\"type\":\"histogram2d\",\"colorbar\":{\"outlinewidth\":0,\"ticks\":\"\"},\"colorscale\":[[0.0,\"#0d0887\"],[0.1111111111111111,\"#46039f\"],[0.2222222222222222,\"#7201a8\"],[0.3333333333333333,\"#9c179e\"],[0.4444444444444444,\"#bd3786\"],[0.5555555555555556,\"#d8576b\"],[0.6666666666666666,\"#ed7953\"],[0.7777777777777778,\"#fb9f3a\"],[0.8888888888888888,\"#fdca26\"],[1.0,\"#f0f921\"]]}],\"heatmap\":[{\"type\":\"heatmap\",\"colorbar\":{\"outlinewidth\":0,\"ticks\":\"\"},\"colorscale\":[[0.0,\"#0d0887\"],[0.1111111111111111,\"#46039f\"],[0.2222222222222222,\"#7201a8\"],[0.3333333333333333,\"#9c179e\"],[0.4444444444444444,\"#bd3786\"],[0.5555555555555556,\"#d8576b\"],[0.6666666666666666,\"#ed7953\"],[0.7777777777777778,\"#fb9f3a\"],[0.8888888888888888,\"#fdca26\"],[1.0,\"#f0f921\"]]}],\"heatmapgl\":[{\"type\":\"heatmapgl\",\"colorbar\":{\"outlinewidth\":0,\"ticks\":\"\"},\"colorscale\":[[0.0,\"#0d0887\"],[0.1111111111111111,\"#46039f\"],[0.2222222222222222,\"#7201a8\"],[0.3333333333333333,\"#9c179e\"],[0.4444444444444444,\"#bd3786\"],[0.5555555555555556,\"#d8576b\"],[0.6666666666666666,\"#ed7953\"],[0.7777777777777778,\"#fb9f3a\"],[0.8888888888888888,\"#fdca26\"],[1.0,\"#f0f921\"]]}],\"contourcarpet\":[{\"type\":\"contourcarpet\",\"colorbar\":{\"outlinewidth\":0,\"ticks\":\"\"}}],\"contour\":[{\"type\":\"contour\",\"colorbar\":{\"outlinewidth\":0,\"ticks\":\"\"},\"colorscale\":[[0.0,\"#0d0887\"],[0.1111111111111111,\"#46039f\"],[0.2222222222222222,\"#7201a8\"],[0.3333333333333333,\"#9c179e\"],[0.4444444444444444,\"#bd3786\"],[0.5555555555555556,\"#d8576b\"],[0.6666666666666666,\"#ed7953\"],[0.7777777777777778,\"#fb9f3a\"],[0.8888888888888888,\"#fdca26\"],[1.0,\"#f0f921\"]]}],\"surface\":[{\"type\":\"surface\",\"colorbar\":{\"outlinewidth\":0,\"ticks\":\"\"},\"colorscale\":[[0.0,\"#0d0887\"],[0.1111111111111111,\"#46039f\"],[0.2222222222222222,\"#7201a8\"],[0.3333333333333333,\"#9c179e\"],[0.4444444444444444,\"#bd3786\"],[0.5555555555555556,\"#d8576b\"],[0.6666666666666666,\"#ed7953\"],[0.7777777777777778,\"#fb9f3a\"],[0.8888888888888888,\"#fdca26\"],[1.0,\"#f0f921\"]]}],\"mesh3d\":[{\"type\":\"mesh3d\",\"colorbar\":{\"outlinewidth\":0,\"ticks\":\"\"}}],\"scatter\":[{\"fillpattern\":{\"fillmode\":\"overlay\",\"size\":10,\"solidity\":0.2},\"type\":\"scatter\"}],\"parcoords\":[{\"type\":\"parcoords\",\"line\":{\"colorbar\":{\"outlinewidth\":0,\"ticks\":\"\"}}}],\"scatterpolargl\":[{\"type\":\"scatterpolargl\",\"marker\":{\"colorbar\":{\"outlinewidth\":0,\"ticks\":\"\"}}}],\"bar\":[{\"error_x\":{\"color\":\"#2a3f5f\"},\"error_y\":{\"color\":\"#2a3f5f\"},\"marker\":{\"line\":{\"color\":\"#E5ECF6\",\"width\":0.5},\"pattern\":{\"fillmode\":\"overlay\",\"size\":10,\"solidity\":0.2}},\"type\":\"bar\"}],\"scattergeo\":[{\"type\":\"scattergeo\",\"marker\":{\"colorbar\":{\"outlinewidth\":0,\"ticks\":\"\"}}}],\"scatterpolar\":[{\"type\":\"scatterpolar\",\"marker\":{\"colorbar\":{\"outlinewidth\":0,\"ticks\":\"\"}}}],\"histogram\":[{\"marker\":{\"pattern\":{\"fillmode\":\"overlay\",\"size\":10,\"solidity\":0.2}},\"type\":\"histogram\"}],\"scattergl\":[{\"type\":\"scattergl\",\"marker\":{\"colorbar\":{\"outlinewidth\":0,\"ticks\":\"\"}}}],\"scatter3d\":[{\"type\":\"scatter3d\",\"line\":{\"colorbar\":{\"outlinewidth\":0,\"ticks\":\"\"}},\"marker\":{\"colorbar\":{\"outlinewidth\":0,\"ticks\":\"\"}}}],\"scattermapbox\":[{\"type\":\"scattermapbox\",\"marker\":{\"colorbar\":{\"outlinewidth\":0,\"ticks\":\"\"}}}],\"scatterternary\":[{\"type\":\"scatterternary\",\"marker\":{\"colorbar\":{\"outlinewidth\":0,\"ticks\":\"\"}}}],\"scattercarpet\":[{\"type\":\"scattercarpet\",\"marker\":{\"colorbar\":{\"outlinewidth\":0,\"ticks\":\"\"}}}],\"carpet\":[{\"aaxis\":{\"endlinecolor\":\"#2a3f5f\",\"gridcolor\":\"white\",\"linecolor\":\"white\",\"minorgridcolor\":\"white\",\"startlinecolor\":\"#2a3f5f\"},\"baxis\":{\"endlinecolor\":\"#2a3f5f\",\"gridcolor\":\"white\",\"linecolor\":\"white\",\"minorgridcolor\":\"white\",\"startlinecolor\":\"#2a3f5f\"},\"type\":\"carpet\"}],\"table\":[{\"cells\":{\"fill\":{\"color\":\"#EBF0F8\"},\"line\":{\"color\":\"white\"}},\"header\":{\"fill\":{\"color\":\"#C8D4E3\"},\"line\":{\"color\":\"white\"}},\"type\":\"table\"}],\"barpolar\":[{\"marker\":{\"line\":{\"color\":\"#E5ECF6\",\"width\":0.5},\"pattern\":{\"fillmode\":\"overlay\",\"size\":10,\"solidity\":0.2}},\"type\":\"barpolar\"}],\"pie\":[{\"automargin\":true,\"type\":\"pie\"}]},\"layout\":{\"autotypenumbers\":\"strict\",\"colorway\":[\"#636efa\",\"#EF553B\",\"#00cc96\",\"#ab63fa\",\"#FFA15A\",\"#19d3f3\",\"#FF6692\",\"#B6E880\",\"#FF97FF\",\"#FECB52\"],\"font\":{\"color\":\"#2a3f5f\"},\"hovermode\":\"closest\",\"hoverlabel\":{\"align\":\"left\"},\"paper_bgcolor\":\"white\",\"plot_bgcolor\":\"#E5ECF6\",\"polar\":{\"bgcolor\":\"#E5ECF6\",\"angularaxis\":{\"gridcolor\":\"white\",\"linecolor\":\"white\",\"ticks\":\"\"},\"radialaxis\":{\"gridcolor\":\"white\",\"linecolor\":\"white\",\"ticks\":\"\"}},\"ternary\":{\"bgcolor\":\"#E5ECF6\",\"aaxis\":{\"gridcolor\":\"white\",\"linecolor\":\"white\",\"ticks\":\"\"},\"baxis\":{\"gridcolor\":\"white\",\"linecolor\":\"white\",\"ticks\":\"\"},\"caxis\":{\"gridcolor\":\"white\",\"linecolor\":\"white\",\"ticks\":\"\"}},\"coloraxis\":{\"colorbar\":{\"outlinewidth\":0,\"ticks\":\"\"}},\"colorscale\":{\"sequential\":[[0.0,\"#0d0887\"],[0.1111111111111111,\"#46039f\"],[0.2222222222222222,\"#7201a8\"],[0.3333333333333333,\"#9c179e\"],[0.4444444444444444,\"#bd3786\"],[0.5555555555555556,\"#d8576b\"],[0.6666666666666666,\"#ed7953\"],[0.7777777777777778,\"#fb9f3a\"],[0.8888888888888888,\"#fdca26\"],[1.0,\"#f0f921\"]],\"sequentialminus\":[[0.0,\"#0d0887\"],[0.1111111111111111,\"#46039f\"],[0.2222222222222222,\"#7201a8\"],[0.3333333333333333,\"#9c179e\"],[0.4444444444444444,\"#bd3786\"],[0.5555555555555556,\"#d8576b\"],[0.6666666666666666,\"#ed7953\"],[0.7777777777777778,\"#fb9f3a\"],[0.8888888888888888,\"#fdca26\"],[1.0,\"#f0f921\"]],\"diverging\":[[0,\"#8e0152\"],[0.1,\"#c51b7d\"],[0.2,\"#de77ae\"],[0.3,\"#f1b6da\"],[0.4,\"#fde0ef\"],[0.5,\"#f7f7f7\"],[0.6,\"#e6f5d0\"],[0.7,\"#b8e186\"],[0.8,\"#7fbc41\"],[0.9,\"#4d9221\"],[1,\"#276419\"]]},\"xaxis\":{\"gridcolor\":\"white\",\"linecolor\":\"white\",\"ticks\":\"\",\"title\":{\"standoff\":15},\"zerolinecolor\":\"white\",\"automargin\":true,\"zerolinewidth\":2},\"yaxis\":{\"gridcolor\":\"white\",\"linecolor\":\"white\",\"ticks\":\"\",\"title\":{\"standoff\":15},\"zerolinecolor\":\"white\",\"automargin\":true,\"zerolinewidth\":2},\"scene\":{\"xaxis\":{\"backgroundcolor\":\"#E5ECF6\",\"gridcolor\":\"white\",\"linecolor\":\"white\",\"showbackground\":true,\"ticks\":\"\",\"zerolinecolor\":\"white\",\"gridwidth\":2},\"yaxis\":{\"backgroundcolor\":\"#E5ECF6\",\"gridcolor\":\"white\",\"linecolor\":\"white\",\"showbackground\":true,\"ticks\":\"\",\"zerolinecolor\":\"white\",\"gridwidth\":2},\"zaxis\":{\"backgroundcolor\":\"#E5ECF6\",\"gridcolor\":\"white\",\"linecolor\":\"white\",\"showbackground\":true,\"ticks\":\"\",\"zerolinecolor\":\"white\",\"gridwidth\":2}},\"shapedefaults\":{\"line\":{\"color\":\"#2a3f5f\"}},\"annotationdefaults\":{\"arrowcolor\":\"#2a3f5f\",\"arrowhead\":0,\"arrowwidth\":1},\"geo\":{\"bgcolor\":\"white\",\"landcolor\":\"#E5ECF6\",\"subunitcolor\":\"white\",\"showland\":true,\"showlakes\":true,\"lakecolor\":\"white\"},\"title\":{\"x\":0.05},\"mapbox\":{\"style\":\"light\"}}},\"xaxis\":{\"anchor\":\"y\",\"domain\":[0.0,1.0],\"title\":{\"text\":\"key\"}},\"yaxis\":{\"anchor\":\"x\",\"domain\":[0.0,1.0],\"title\":{\"text\":\"Count\"}},\"legend\":{\"tracegroupgap\":0},\"title\":{\"text\":\"Class imbalance for 'key'\"},\"barmode\":\"relative\"},                        {\"responsive\": true}                    ).then(function(){\n                            \nvar gd = document.getElementById('9f3ea549-fbeb-4cd0-beec-2556a3f45e68');\nvar x = new MutationObserver(function (mutations, observer) {{\n        var display = window.getComputedStyle(gd).display;\n        if (!display || display === 'none') {{\n            console.log([gd, 'removed!']);\n            Plotly.purge(gd);\n            observer.disconnect();\n        }}\n}});\n\n// Listen for the removal of the full notebook cells\nvar notebookContainer = gd.closest('#notebook-container');\nif (notebookContainer) {{\n    x.observe(notebookContainer, {childList: true});\n}}\n\n// Listen for the clearing of the current output cell\nvar outputEl = gd.closest('.output');\nif (outputEl) {{\n    x.observe(outputEl, {childList: true});\n}}\n\n                        })                };                });            </script>        </div>"
     },
     "metadata": {},
     "output_type": "display_data"
    },
    {
     "data": {
      "application/vnd.plotly.v1+json": {
       "data": [
        {
         "alignmentgroup": "True",
         "hovertemplate": "x=%{x}<br>y=%{y}<extra></extra>",
         "legendgroup": "",
         "marker": {
          "color": "#636efa",
          "pattern": {
           "shape": ""
          }
         },
         "name": "",
         "offsetgroup": "",
         "orientation": "v",
         "showlegend": false,
         "textposition": "auto",
         "x": [
          "Major",
          "Minor"
         ],
         "xaxis": "x",
         "y": [
          519,
          285
         ],
         "yaxis": "y",
         "type": "bar"
        }
       ],
       "layout": {
        "template": {
         "data": {
          "histogram2dcontour": [
           {
            "type": "histogram2dcontour",
            "colorbar": {
             "outlinewidth": 0,
             "ticks": ""
            },
            "colorscale": [
             [
              0.0,
              "#0d0887"
             ],
             [
              0.1111111111111111,
              "#46039f"
             ],
             [
              0.2222222222222222,
              "#7201a8"
             ],
             [
              0.3333333333333333,
              "#9c179e"
             ],
             [
              0.4444444444444444,
              "#bd3786"
             ],
             [
              0.5555555555555556,
              "#d8576b"
             ],
             [
              0.6666666666666666,
              "#ed7953"
             ],
             [
              0.7777777777777778,
              "#fb9f3a"
             ],
             [
              0.8888888888888888,
              "#fdca26"
             ],
             [
              1.0,
              "#f0f921"
             ]
            ]
           }
          ],
          "choropleth": [
           {
            "type": "choropleth",
            "colorbar": {
             "outlinewidth": 0,
             "ticks": ""
            }
           }
          ],
          "histogram2d": [
           {
            "type": "histogram2d",
            "colorbar": {
             "outlinewidth": 0,
             "ticks": ""
            },
            "colorscale": [
             [
              0.0,
              "#0d0887"
             ],
             [
              0.1111111111111111,
              "#46039f"
             ],
             [
              0.2222222222222222,
              "#7201a8"
             ],
             [
              0.3333333333333333,
              "#9c179e"
             ],
             [
              0.4444444444444444,
              "#bd3786"
             ],
             [
              0.5555555555555556,
              "#d8576b"
             ],
             [
              0.6666666666666666,
              "#ed7953"
             ],
             [
              0.7777777777777778,
              "#fb9f3a"
             ],
             [
              0.8888888888888888,
              "#fdca26"
             ],
             [
              1.0,
              "#f0f921"
             ]
            ]
           }
          ],
          "heatmap": [
           {
            "type": "heatmap",
            "colorbar": {
             "outlinewidth": 0,
             "ticks": ""
            },
            "colorscale": [
             [
              0.0,
              "#0d0887"
             ],
             [
              0.1111111111111111,
              "#46039f"
             ],
             [
              0.2222222222222222,
              "#7201a8"
             ],
             [
              0.3333333333333333,
              "#9c179e"
             ],
             [
              0.4444444444444444,
              "#bd3786"
             ],
             [
              0.5555555555555556,
              "#d8576b"
             ],
             [
              0.6666666666666666,
              "#ed7953"
             ],
             [
              0.7777777777777778,
              "#fb9f3a"
             ],
             [
              0.8888888888888888,
              "#fdca26"
             ],
             [
              1.0,
              "#f0f921"
             ]
            ]
           }
          ],
          "heatmapgl": [
           {
            "type": "heatmapgl",
            "colorbar": {
             "outlinewidth": 0,
             "ticks": ""
            },
            "colorscale": [
             [
              0.0,
              "#0d0887"
             ],
             [
              0.1111111111111111,
              "#46039f"
             ],
             [
              0.2222222222222222,
              "#7201a8"
             ],
             [
              0.3333333333333333,
              "#9c179e"
             ],
             [
              0.4444444444444444,
              "#bd3786"
             ],
             [
              0.5555555555555556,
              "#d8576b"
             ],
             [
              0.6666666666666666,
              "#ed7953"
             ],
             [
              0.7777777777777778,
              "#fb9f3a"
             ],
             [
              0.8888888888888888,
              "#fdca26"
             ],
             [
              1.0,
              "#f0f921"
             ]
            ]
           }
          ],
          "contourcarpet": [
           {
            "type": "contourcarpet",
            "colorbar": {
             "outlinewidth": 0,
             "ticks": ""
            }
           }
          ],
          "contour": [
           {
            "type": "contour",
            "colorbar": {
             "outlinewidth": 0,
             "ticks": ""
            },
            "colorscale": [
             [
              0.0,
              "#0d0887"
             ],
             [
              0.1111111111111111,
              "#46039f"
             ],
             [
              0.2222222222222222,
              "#7201a8"
             ],
             [
              0.3333333333333333,
              "#9c179e"
             ],
             [
              0.4444444444444444,
              "#bd3786"
             ],
             [
              0.5555555555555556,
              "#d8576b"
             ],
             [
              0.6666666666666666,
              "#ed7953"
             ],
             [
              0.7777777777777778,
              "#fb9f3a"
             ],
             [
              0.8888888888888888,
              "#fdca26"
             ],
             [
              1.0,
              "#f0f921"
             ]
            ]
           }
          ],
          "surface": [
           {
            "type": "surface",
            "colorbar": {
             "outlinewidth": 0,
             "ticks": ""
            },
            "colorscale": [
             [
              0.0,
              "#0d0887"
             ],
             [
              0.1111111111111111,
              "#46039f"
             ],
             [
              0.2222222222222222,
              "#7201a8"
             ],
             [
              0.3333333333333333,
              "#9c179e"
             ],
             [
              0.4444444444444444,
              "#bd3786"
             ],
             [
              0.5555555555555556,
              "#d8576b"
             ],
             [
              0.6666666666666666,
              "#ed7953"
             ],
             [
              0.7777777777777778,
              "#fb9f3a"
             ],
             [
              0.8888888888888888,
              "#fdca26"
             ],
             [
              1.0,
              "#f0f921"
             ]
            ]
           }
          ],
          "mesh3d": [
           {
            "type": "mesh3d",
            "colorbar": {
             "outlinewidth": 0,
             "ticks": ""
            }
           }
          ],
          "scatter": [
           {
            "fillpattern": {
             "fillmode": "overlay",
             "size": 10,
             "solidity": 0.2
            },
            "type": "scatter"
           }
          ],
          "parcoords": [
           {
            "type": "parcoords",
            "line": {
             "colorbar": {
              "outlinewidth": 0,
              "ticks": ""
             }
            }
           }
          ],
          "scatterpolargl": [
           {
            "type": "scatterpolargl",
            "marker": {
             "colorbar": {
              "outlinewidth": 0,
              "ticks": ""
             }
            }
           }
          ],
          "bar": [
           {
            "error_x": {
             "color": "#2a3f5f"
            },
            "error_y": {
             "color": "#2a3f5f"
            },
            "marker": {
             "line": {
              "color": "#E5ECF6",
              "width": 0.5
             },
             "pattern": {
              "fillmode": "overlay",
              "size": 10,
              "solidity": 0.2
             }
            },
            "type": "bar"
           }
          ],
          "scattergeo": [
           {
            "type": "scattergeo",
            "marker": {
             "colorbar": {
              "outlinewidth": 0,
              "ticks": ""
             }
            }
           }
          ],
          "scatterpolar": [
           {
            "type": "scatterpolar",
            "marker": {
             "colorbar": {
              "outlinewidth": 0,
              "ticks": ""
             }
            }
           }
          ],
          "histogram": [
           {
            "marker": {
             "pattern": {
              "fillmode": "overlay",
              "size": 10,
              "solidity": 0.2
             }
            },
            "type": "histogram"
           }
          ],
          "scattergl": [
           {
            "type": "scattergl",
            "marker": {
             "colorbar": {
              "outlinewidth": 0,
              "ticks": ""
             }
            }
           }
          ],
          "scatter3d": [
           {
            "type": "scatter3d",
            "line": {
             "colorbar": {
              "outlinewidth": 0,
              "ticks": ""
             }
            },
            "marker": {
             "colorbar": {
              "outlinewidth": 0,
              "ticks": ""
             }
            }
           }
          ],
          "scattermapbox": [
           {
            "type": "scattermapbox",
            "marker": {
             "colorbar": {
              "outlinewidth": 0,
              "ticks": ""
             }
            }
           }
          ],
          "scatterternary": [
           {
            "type": "scatterternary",
            "marker": {
             "colorbar": {
              "outlinewidth": 0,
              "ticks": ""
             }
            }
           }
          ],
          "scattercarpet": [
           {
            "type": "scattercarpet",
            "marker": {
             "colorbar": {
              "outlinewidth": 0,
              "ticks": ""
             }
            }
           }
          ],
          "carpet": [
           {
            "aaxis": {
             "endlinecolor": "#2a3f5f",
             "gridcolor": "white",
             "linecolor": "white",
             "minorgridcolor": "white",
             "startlinecolor": "#2a3f5f"
            },
            "baxis": {
             "endlinecolor": "#2a3f5f",
             "gridcolor": "white",
             "linecolor": "white",
             "minorgridcolor": "white",
             "startlinecolor": "#2a3f5f"
            },
            "type": "carpet"
           }
          ],
          "table": [
           {
            "cells": {
             "fill": {
              "color": "#EBF0F8"
             },
             "line": {
              "color": "white"
             }
            },
            "header": {
             "fill": {
              "color": "#C8D4E3"
             },
             "line": {
              "color": "white"
             }
            },
            "type": "table"
           }
          ],
          "barpolar": [
           {
            "marker": {
             "line": {
              "color": "#E5ECF6",
              "width": 0.5
             },
             "pattern": {
              "fillmode": "overlay",
              "size": 10,
              "solidity": 0.2
             }
            },
            "type": "barpolar"
           }
          ],
          "pie": [
           {
            "automargin": true,
            "type": "pie"
           }
          ]
         },
         "layout": {
          "autotypenumbers": "strict",
          "colorway": [
           "#636efa",
           "#EF553B",
           "#00cc96",
           "#ab63fa",
           "#FFA15A",
           "#19d3f3",
           "#FF6692",
           "#B6E880",
           "#FF97FF",
           "#FECB52"
          ],
          "font": {
           "color": "#2a3f5f"
          },
          "hovermode": "closest",
          "hoverlabel": {
           "align": "left"
          },
          "paper_bgcolor": "white",
          "plot_bgcolor": "#E5ECF6",
          "polar": {
           "bgcolor": "#E5ECF6",
           "angularaxis": {
            "gridcolor": "white",
            "linecolor": "white",
            "ticks": ""
           },
           "radialaxis": {
            "gridcolor": "white",
            "linecolor": "white",
            "ticks": ""
           }
          },
          "ternary": {
           "bgcolor": "#E5ECF6",
           "aaxis": {
            "gridcolor": "white",
            "linecolor": "white",
            "ticks": ""
           },
           "baxis": {
            "gridcolor": "white",
            "linecolor": "white",
            "ticks": ""
           },
           "caxis": {
            "gridcolor": "white",
            "linecolor": "white",
            "ticks": ""
           }
          },
          "coloraxis": {
           "colorbar": {
            "outlinewidth": 0,
            "ticks": ""
           }
          },
          "colorscale": {
           "sequential": [
            [
             0.0,
             "#0d0887"
            ],
            [
             0.1111111111111111,
             "#46039f"
            ],
            [
             0.2222222222222222,
             "#7201a8"
            ],
            [
             0.3333333333333333,
             "#9c179e"
            ],
            [
             0.4444444444444444,
             "#bd3786"
            ],
            [
             0.5555555555555556,
             "#d8576b"
            ],
            [
             0.6666666666666666,
             "#ed7953"
            ],
            [
             0.7777777777777778,
             "#fb9f3a"
            ],
            [
             0.8888888888888888,
             "#fdca26"
            ],
            [
             1.0,
             "#f0f921"
            ]
           ],
           "sequentialminus": [
            [
             0.0,
             "#0d0887"
            ],
            [
             0.1111111111111111,
             "#46039f"
            ],
            [
             0.2222222222222222,
             "#7201a8"
            ],
            [
             0.3333333333333333,
             "#9c179e"
            ],
            [
             0.4444444444444444,
             "#bd3786"
            ],
            [
             0.5555555555555556,
             "#d8576b"
            ],
            [
             0.6666666666666666,
             "#ed7953"
            ],
            [
             0.7777777777777778,
             "#fb9f3a"
            ],
            [
             0.8888888888888888,
             "#fdca26"
            ],
            [
             1.0,
             "#f0f921"
            ]
           ],
           "diverging": [
            [
             0,
             "#8e0152"
            ],
            [
             0.1,
             "#c51b7d"
            ],
            [
             0.2,
             "#de77ae"
            ],
            [
             0.3,
             "#f1b6da"
            ],
            [
             0.4,
             "#fde0ef"
            ],
            [
             0.5,
             "#f7f7f7"
            ],
            [
             0.6,
             "#e6f5d0"
            ],
            [
             0.7,
             "#b8e186"
            ],
            [
             0.8,
             "#7fbc41"
            ],
            [
             0.9,
             "#4d9221"
            ],
            [
             1,
             "#276419"
            ]
           ]
          },
          "xaxis": {
           "gridcolor": "white",
           "linecolor": "white",
           "ticks": "",
           "title": {
            "standoff": 15
           },
           "zerolinecolor": "white",
           "automargin": true,
           "zerolinewidth": 2
          },
          "yaxis": {
           "gridcolor": "white",
           "linecolor": "white",
           "ticks": "",
           "title": {
            "standoff": 15
           },
           "zerolinecolor": "white",
           "automargin": true,
           "zerolinewidth": 2
          },
          "scene": {
           "xaxis": {
            "backgroundcolor": "#E5ECF6",
            "gridcolor": "white",
            "linecolor": "white",
            "showbackground": true,
            "ticks": "",
            "zerolinecolor": "white",
            "gridwidth": 2
           },
           "yaxis": {
            "backgroundcolor": "#E5ECF6",
            "gridcolor": "white",
            "linecolor": "white",
            "showbackground": true,
            "ticks": "",
            "zerolinecolor": "white",
            "gridwidth": 2
           },
           "zaxis": {
            "backgroundcolor": "#E5ECF6",
            "gridcolor": "white",
            "linecolor": "white",
            "showbackground": true,
            "ticks": "",
            "zerolinecolor": "white",
            "gridwidth": 2
           }
          },
          "shapedefaults": {
           "line": {
            "color": "#2a3f5f"
           }
          },
          "annotationdefaults": {
           "arrowcolor": "#2a3f5f",
           "arrowhead": 0,
           "arrowwidth": 1
          },
          "geo": {
           "bgcolor": "white",
           "landcolor": "#E5ECF6",
           "subunitcolor": "white",
           "showland": true,
           "showlakes": true,
           "lakecolor": "white"
          },
          "title": {
           "x": 0.05
          },
          "mapbox": {
           "style": "light"
          }
         }
        },
        "xaxis": {
         "anchor": "y",
         "domain": [
          0.0,
          1.0
         ],
         "title": {
          "text": "mode"
         }
        },
        "yaxis": {
         "anchor": "x",
         "domain": [
          0.0,
          1.0
         ],
         "title": {
          "text": "Count"
         }
        },
        "legend": {
         "tracegroupgap": 0
        },
        "title": {
         "text": "Class imbalance for 'mode'"
        },
        "barmode": "relative"
       },
       "config": {
        "plotlyServerURL": "https://plot.ly"
       }
      },
      "text/html": "<div>                            <div id=\"0015fded-1e03-4cc8-91ee-827d0f7a9f78\" class=\"plotly-graph-div\" style=\"height:525px; width:100%;\"></div>            <script type=\"text/javascript\">                require([\"plotly\"], function(Plotly) {                    window.PLOTLYENV=window.PLOTLYENV || {};                                    if (document.getElementById(\"0015fded-1e03-4cc8-91ee-827d0f7a9f78\")) {                    Plotly.newPlot(                        \"0015fded-1e03-4cc8-91ee-827d0f7a9f78\",                        [{\"alignmentgroup\":\"True\",\"hovertemplate\":\"x=%{x}\\u003cbr\\u003ey=%{y}\\u003cextra\\u003e\\u003c\\u002fextra\\u003e\",\"legendgroup\":\"\",\"marker\":{\"color\":\"#636efa\",\"pattern\":{\"shape\":\"\"}},\"name\":\"\",\"offsetgroup\":\"\",\"orientation\":\"v\",\"showlegend\":false,\"textposition\":\"auto\",\"x\":[\"Major\",\"Minor\"],\"xaxis\":\"x\",\"y\":[519,285],\"yaxis\":\"y\",\"type\":\"bar\"}],                        {\"template\":{\"data\":{\"histogram2dcontour\":[{\"type\":\"histogram2dcontour\",\"colorbar\":{\"outlinewidth\":0,\"ticks\":\"\"},\"colorscale\":[[0.0,\"#0d0887\"],[0.1111111111111111,\"#46039f\"],[0.2222222222222222,\"#7201a8\"],[0.3333333333333333,\"#9c179e\"],[0.4444444444444444,\"#bd3786\"],[0.5555555555555556,\"#d8576b\"],[0.6666666666666666,\"#ed7953\"],[0.7777777777777778,\"#fb9f3a\"],[0.8888888888888888,\"#fdca26\"],[1.0,\"#f0f921\"]]}],\"choropleth\":[{\"type\":\"choropleth\",\"colorbar\":{\"outlinewidth\":0,\"ticks\":\"\"}}],\"histogram2d\":[{\"type\":\"histogram2d\",\"colorbar\":{\"outlinewidth\":0,\"ticks\":\"\"},\"colorscale\":[[0.0,\"#0d0887\"],[0.1111111111111111,\"#46039f\"],[0.2222222222222222,\"#7201a8\"],[0.3333333333333333,\"#9c179e\"],[0.4444444444444444,\"#bd3786\"],[0.5555555555555556,\"#d8576b\"],[0.6666666666666666,\"#ed7953\"],[0.7777777777777778,\"#fb9f3a\"],[0.8888888888888888,\"#fdca26\"],[1.0,\"#f0f921\"]]}],\"heatmap\":[{\"type\":\"heatmap\",\"colorbar\":{\"outlinewidth\":0,\"ticks\":\"\"},\"colorscale\":[[0.0,\"#0d0887\"],[0.1111111111111111,\"#46039f\"],[0.2222222222222222,\"#7201a8\"],[0.3333333333333333,\"#9c179e\"],[0.4444444444444444,\"#bd3786\"],[0.5555555555555556,\"#d8576b\"],[0.6666666666666666,\"#ed7953\"],[0.7777777777777778,\"#fb9f3a\"],[0.8888888888888888,\"#fdca26\"],[1.0,\"#f0f921\"]]}],\"heatmapgl\":[{\"type\":\"heatmapgl\",\"colorbar\":{\"outlinewidth\":0,\"ticks\":\"\"},\"colorscale\":[[0.0,\"#0d0887\"],[0.1111111111111111,\"#46039f\"],[0.2222222222222222,\"#7201a8\"],[0.3333333333333333,\"#9c179e\"],[0.4444444444444444,\"#bd3786\"],[0.5555555555555556,\"#d8576b\"],[0.6666666666666666,\"#ed7953\"],[0.7777777777777778,\"#fb9f3a\"],[0.8888888888888888,\"#fdca26\"],[1.0,\"#f0f921\"]]}],\"contourcarpet\":[{\"type\":\"contourcarpet\",\"colorbar\":{\"outlinewidth\":0,\"ticks\":\"\"}}],\"contour\":[{\"type\":\"contour\",\"colorbar\":{\"outlinewidth\":0,\"ticks\":\"\"},\"colorscale\":[[0.0,\"#0d0887\"],[0.1111111111111111,\"#46039f\"],[0.2222222222222222,\"#7201a8\"],[0.3333333333333333,\"#9c179e\"],[0.4444444444444444,\"#bd3786\"],[0.5555555555555556,\"#d8576b\"],[0.6666666666666666,\"#ed7953\"],[0.7777777777777778,\"#fb9f3a\"],[0.8888888888888888,\"#fdca26\"],[1.0,\"#f0f921\"]]}],\"surface\":[{\"type\":\"surface\",\"colorbar\":{\"outlinewidth\":0,\"ticks\":\"\"},\"colorscale\":[[0.0,\"#0d0887\"],[0.1111111111111111,\"#46039f\"],[0.2222222222222222,\"#7201a8\"],[0.3333333333333333,\"#9c179e\"],[0.4444444444444444,\"#bd3786\"],[0.5555555555555556,\"#d8576b\"],[0.6666666666666666,\"#ed7953\"],[0.7777777777777778,\"#fb9f3a\"],[0.8888888888888888,\"#fdca26\"],[1.0,\"#f0f921\"]]}],\"mesh3d\":[{\"type\":\"mesh3d\",\"colorbar\":{\"outlinewidth\":0,\"ticks\":\"\"}}],\"scatter\":[{\"fillpattern\":{\"fillmode\":\"overlay\",\"size\":10,\"solidity\":0.2},\"type\":\"scatter\"}],\"parcoords\":[{\"type\":\"parcoords\",\"line\":{\"colorbar\":{\"outlinewidth\":0,\"ticks\":\"\"}}}],\"scatterpolargl\":[{\"type\":\"scatterpolargl\",\"marker\":{\"colorbar\":{\"outlinewidth\":0,\"ticks\":\"\"}}}],\"bar\":[{\"error_x\":{\"color\":\"#2a3f5f\"},\"error_y\":{\"color\":\"#2a3f5f\"},\"marker\":{\"line\":{\"color\":\"#E5ECF6\",\"width\":0.5},\"pattern\":{\"fillmode\":\"overlay\",\"size\":10,\"solidity\":0.2}},\"type\":\"bar\"}],\"scattergeo\":[{\"type\":\"scattergeo\",\"marker\":{\"colorbar\":{\"outlinewidth\":0,\"ticks\":\"\"}}}],\"scatterpolar\":[{\"type\":\"scatterpolar\",\"marker\":{\"colorbar\":{\"outlinewidth\":0,\"ticks\":\"\"}}}],\"histogram\":[{\"marker\":{\"pattern\":{\"fillmode\":\"overlay\",\"size\":10,\"solidity\":0.2}},\"type\":\"histogram\"}],\"scattergl\":[{\"type\":\"scattergl\",\"marker\":{\"colorbar\":{\"outlinewidth\":0,\"ticks\":\"\"}}}],\"scatter3d\":[{\"type\":\"scatter3d\",\"line\":{\"colorbar\":{\"outlinewidth\":0,\"ticks\":\"\"}},\"marker\":{\"colorbar\":{\"outlinewidth\":0,\"ticks\":\"\"}}}],\"scattermapbox\":[{\"type\":\"scattermapbox\",\"marker\":{\"colorbar\":{\"outlinewidth\":0,\"ticks\":\"\"}}}],\"scatterternary\":[{\"type\":\"scatterternary\",\"marker\":{\"colorbar\":{\"outlinewidth\":0,\"ticks\":\"\"}}}],\"scattercarpet\":[{\"type\":\"scattercarpet\",\"marker\":{\"colorbar\":{\"outlinewidth\":0,\"ticks\":\"\"}}}],\"carpet\":[{\"aaxis\":{\"endlinecolor\":\"#2a3f5f\",\"gridcolor\":\"white\",\"linecolor\":\"white\",\"minorgridcolor\":\"white\",\"startlinecolor\":\"#2a3f5f\"},\"baxis\":{\"endlinecolor\":\"#2a3f5f\",\"gridcolor\":\"white\",\"linecolor\":\"white\",\"minorgridcolor\":\"white\",\"startlinecolor\":\"#2a3f5f\"},\"type\":\"carpet\"}],\"table\":[{\"cells\":{\"fill\":{\"color\":\"#EBF0F8\"},\"line\":{\"color\":\"white\"}},\"header\":{\"fill\":{\"color\":\"#C8D4E3\"},\"line\":{\"color\":\"white\"}},\"type\":\"table\"}],\"barpolar\":[{\"marker\":{\"line\":{\"color\":\"#E5ECF6\",\"width\":0.5},\"pattern\":{\"fillmode\":\"overlay\",\"size\":10,\"solidity\":0.2}},\"type\":\"barpolar\"}],\"pie\":[{\"automargin\":true,\"type\":\"pie\"}]},\"layout\":{\"autotypenumbers\":\"strict\",\"colorway\":[\"#636efa\",\"#EF553B\",\"#00cc96\",\"#ab63fa\",\"#FFA15A\",\"#19d3f3\",\"#FF6692\",\"#B6E880\",\"#FF97FF\",\"#FECB52\"],\"font\":{\"color\":\"#2a3f5f\"},\"hovermode\":\"closest\",\"hoverlabel\":{\"align\":\"left\"},\"paper_bgcolor\":\"white\",\"plot_bgcolor\":\"#E5ECF6\",\"polar\":{\"bgcolor\":\"#E5ECF6\",\"angularaxis\":{\"gridcolor\":\"white\",\"linecolor\":\"white\",\"ticks\":\"\"},\"radialaxis\":{\"gridcolor\":\"white\",\"linecolor\":\"white\",\"ticks\":\"\"}},\"ternary\":{\"bgcolor\":\"#E5ECF6\",\"aaxis\":{\"gridcolor\":\"white\",\"linecolor\":\"white\",\"ticks\":\"\"},\"baxis\":{\"gridcolor\":\"white\",\"linecolor\":\"white\",\"ticks\":\"\"},\"caxis\":{\"gridcolor\":\"white\",\"linecolor\":\"white\",\"ticks\":\"\"}},\"coloraxis\":{\"colorbar\":{\"outlinewidth\":0,\"ticks\":\"\"}},\"colorscale\":{\"sequential\":[[0.0,\"#0d0887\"],[0.1111111111111111,\"#46039f\"],[0.2222222222222222,\"#7201a8\"],[0.3333333333333333,\"#9c179e\"],[0.4444444444444444,\"#bd3786\"],[0.5555555555555556,\"#d8576b\"],[0.6666666666666666,\"#ed7953\"],[0.7777777777777778,\"#fb9f3a\"],[0.8888888888888888,\"#fdca26\"],[1.0,\"#f0f921\"]],\"sequentialminus\":[[0.0,\"#0d0887\"],[0.1111111111111111,\"#46039f\"],[0.2222222222222222,\"#7201a8\"],[0.3333333333333333,\"#9c179e\"],[0.4444444444444444,\"#bd3786\"],[0.5555555555555556,\"#d8576b\"],[0.6666666666666666,\"#ed7953\"],[0.7777777777777778,\"#fb9f3a\"],[0.8888888888888888,\"#fdca26\"],[1.0,\"#f0f921\"]],\"diverging\":[[0,\"#8e0152\"],[0.1,\"#c51b7d\"],[0.2,\"#de77ae\"],[0.3,\"#f1b6da\"],[0.4,\"#fde0ef\"],[0.5,\"#f7f7f7\"],[0.6,\"#e6f5d0\"],[0.7,\"#b8e186\"],[0.8,\"#7fbc41\"],[0.9,\"#4d9221\"],[1,\"#276419\"]]},\"xaxis\":{\"gridcolor\":\"white\",\"linecolor\":\"white\",\"ticks\":\"\",\"title\":{\"standoff\":15},\"zerolinecolor\":\"white\",\"automargin\":true,\"zerolinewidth\":2},\"yaxis\":{\"gridcolor\":\"white\",\"linecolor\":\"white\",\"ticks\":\"\",\"title\":{\"standoff\":15},\"zerolinecolor\":\"white\",\"automargin\":true,\"zerolinewidth\":2},\"scene\":{\"xaxis\":{\"backgroundcolor\":\"#E5ECF6\",\"gridcolor\":\"white\",\"linecolor\":\"white\",\"showbackground\":true,\"ticks\":\"\",\"zerolinecolor\":\"white\",\"gridwidth\":2},\"yaxis\":{\"backgroundcolor\":\"#E5ECF6\",\"gridcolor\":\"white\",\"linecolor\":\"white\",\"showbackground\":true,\"ticks\":\"\",\"zerolinecolor\":\"white\",\"gridwidth\":2},\"zaxis\":{\"backgroundcolor\":\"#E5ECF6\",\"gridcolor\":\"white\",\"linecolor\":\"white\",\"showbackground\":true,\"ticks\":\"\",\"zerolinecolor\":\"white\",\"gridwidth\":2}},\"shapedefaults\":{\"line\":{\"color\":\"#2a3f5f\"}},\"annotationdefaults\":{\"arrowcolor\":\"#2a3f5f\",\"arrowhead\":0,\"arrowwidth\":1},\"geo\":{\"bgcolor\":\"white\",\"landcolor\":\"#E5ECF6\",\"subunitcolor\":\"white\",\"showland\":true,\"showlakes\":true,\"lakecolor\":\"white\"},\"title\":{\"x\":0.05},\"mapbox\":{\"style\":\"light\"}}},\"xaxis\":{\"anchor\":\"y\",\"domain\":[0.0,1.0],\"title\":{\"text\":\"mode\"}},\"yaxis\":{\"anchor\":\"x\",\"domain\":[0.0,1.0],\"title\":{\"text\":\"Count\"}},\"legend\":{\"tracegroupgap\":0},\"title\":{\"text\":\"Class imbalance for 'mode'\"},\"barmode\":\"relative\"},                        {\"responsive\": true}                    ).then(function(){\n                            \nvar gd = document.getElementById('0015fded-1e03-4cc8-91ee-827d0f7a9f78');\nvar x = new MutationObserver(function (mutations, observer) {{\n        var display = window.getComputedStyle(gd).display;\n        if (!display || display === 'none') {{\n            console.log([gd, 'removed!']);\n            Plotly.purge(gd);\n            observer.disconnect();\n        }}\n}});\n\n// Listen for the removal of the full notebook cells\nvar notebookContainer = gd.closest('#notebook-container');\nif (notebookContainer) {{\n    x.observe(notebookContainer, {childList: true});\n}}\n\n// Listen for the clearing of the current output cell\nvar outputEl = gd.closest('.output');\nif (outputEl) {{\n    x.observe(outputEl, {childList: true});\n}}\n\n                        })                };                });            </script>        </div>"
     },
     "metadata": {},
     "output_type": "display_data"
    },
    {
     "data": {
      "application/vnd.plotly.v1+json": {
       "data": [
        {
         "alignmentgroup": "True",
         "hovertemplate": "x=%{x}<br>y=%{y}<extra></extra>",
         "legendgroup": "",
         "marker": {
          "color": "#636efa",
          "pattern": {
           "shape": ""
          }
         },
         "name": "",
         "offsetgroup": "",
         "orientation": "v",
         "showlegend": false,
         "textposition": "auto",
         "x": [
          70,
          80,
          77,
          56,
          78,
          73,
          65,
          71,
          81,
          74,
          59,
          82,
          67,
          84,
          63,
          75,
          72,
          60,
          68,
          79,
          51,
          64,
          66,
          57,
          76,
          61,
          53,
          83,
          85,
          69,
          91,
          62,
          45,
          44,
          92,
          58,
          49,
          50,
          47,
          90,
          54,
          86,
          55,
          87,
          88,
          89,
          52,
          46,
          37,
          40,
          95,
          34,
          43,
          93,
          48,
          41,
          42,
          35,
          39,
          31,
          33,
          36,
          32,
          25,
          -12,
          94,
          24,
          23,
          27,
          28,
          96,
          199,
          -60,
          38
         ],
         "xaxis": "x",
         "y": [
          33,
          30,
          26,
          26,
          25,
          24,
          24,
          23,
          22,
          22,
          20,
          19,
          19,
          18,
          18,
          18,
          18,
          17,
          17,
          17,
          17,
          17,
          16,
          16,
          14,
          13,
          13,
          13,
          12,
          11,
          11,
          11,
          10,
          10,
          10,
          10,
          9,
          9,
          8,
          8,
          8,
          8,
          7,
          7,
          7,
          7,
          7,
          6,
          6,
          5,
          5,
          5,
          5,
          5,
          4,
          4,
          4,
          4,
          4,
          3,
          3,
          3,
          2,
          1,
          1,
          1,
          1,
          1,
          1,
          1,
          1,
          1,
          1,
          1
         ],
         "yaxis": "y",
         "type": "bar"
        }
       ],
       "layout": {
        "template": {
         "data": {
          "histogram2dcontour": [
           {
            "type": "histogram2dcontour",
            "colorbar": {
             "outlinewidth": 0,
             "ticks": ""
            },
            "colorscale": [
             [
              0.0,
              "#0d0887"
             ],
             [
              0.1111111111111111,
              "#46039f"
             ],
             [
              0.2222222222222222,
              "#7201a8"
             ],
             [
              0.3333333333333333,
              "#9c179e"
             ],
             [
              0.4444444444444444,
              "#bd3786"
             ],
             [
              0.5555555555555556,
              "#d8576b"
             ],
             [
              0.6666666666666666,
              "#ed7953"
             ],
             [
              0.7777777777777778,
              "#fb9f3a"
             ],
             [
              0.8888888888888888,
              "#fdca26"
             ],
             [
              1.0,
              "#f0f921"
             ]
            ]
           }
          ],
          "choropleth": [
           {
            "type": "choropleth",
            "colorbar": {
             "outlinewidth": 0,
             "ticks": ""
            }
           }
          ],
          "histogram2d": [
           {
            "type": "histogram2d",
            "colorbar": {
             "outlinewidth": 0,
             "ticks": ""
            },
            "colorscale": [
             [
              0.0,
              "#0d0887"
             ],
             [
              0.1111111111111111,
              "#46039f"
             ],
             [
              0.2222222222222222,
              "#7201a8"
             ],
             [
              0.3333333333333333,
              "#9c179e"
             ],
             [
              0.4444444444444444,
              "#bd3786"
             ],
             [
              0.5555555555555556,
              "#d8576b"
             ],
             [
              0.6666666666666666,
              "#ed7953"
             ],
             [
              0.7777777777777778,
              "#fb9f3a"
             ],
             [
              0.8888888888888888,
              "#fdca26"
             ],
             [
              1.0,
              "#f0f921"
             ]
            ]
           }
          ],
          "heatmap": [
           {
            "type": "heatmap",
            "colorbar": {
             "outlinewidth": 0,
             "ticks": ""
            },
            "colorscale": [
             [
              0.0,
              "#0d0887"
             ],
             [
              0.1111111111111111,
              "#46039f"
             ],
             [
              0.2222222222222222,
              "#7201a8"
             ],
             [
              0.3333333333333333,
              "#9c179e"
             ],
             [
              0.4444444444444444,
              "#bd3786"
             ],
             [
              0.5555555555555556,
              "#d8576b"
             ],
             [
              0.6666666666666666,
              "#ed7953"
             ],
             [
              0.7777777777777778,
              "#fb9f3a"
             ],
             [
              0.8888888888888888,
              "#fdca26"
             ],
             [
              1.0,
              "#f0f921"
             ]
            ]
           }
          ],
          "heatmapgl": [
           {
            "type": "heatmapgl",
            "colorbar": {
             "outlinewidth": 0,
             "ticks": ""
            },
            "colorscale": [
             [
              0.0,
              "#0d0887"
             ],
             [
              0.1111111111111111,
              "#46039f"
             ],
             [
              0.2222222222222222,
              "#7201a8"
             ],
             [
              0.3333333333333333,
              "#9c179e"
             ],
             [
              0.4444444444444444,
              "#bd3786"
             ],
             [
              0.5555555555555556,
              "#d8576b"
             ],
             [
              0.6666666666666666,
              "#ed7953"
             ],
             [
              0.7777777777777778,
              "#fb9f3a"
             ],
             [
              0.8888888888888888,
              "#fdca26"
             ],
             [
              1.0,
              "#f0f921"
             ]
            ]
           }
          ],
          "contourcarpet": [
           {
            "type": "contourcarpet",
            "colorbar": {
             "outlinewidth": 0,
             "ticks": ""
            }
           }
          ],
          "contour": [
           {
            "type": "contour",
            "colorbar": {
             "outlinewidth": 0,
             "ticks": ""
            },
            "colorscale": [
             [
              0.0,
              "#0d0887"
             ],
             [
              0.1111111111111111,
              "#46039f"
             ],
             [
              0.2222222222222222,
              "#7201a8"
             ],
             [
              0.3333333333333333,
              "#9c179e"
             ],
             [
              0.4444444444444444,
              "#bd3786"
             ],
             [
              0.5555555555555556,
              "#d8576b"
             ],
             [
              0.6666666666666666,
              "#ed7953"
             ],
             [
              0.7777777777777778,
              "#fb9f3a"
             ],
             [
              0.8888888888888888,
              "#fdca26"
             ],
             [
              1.0,
              "#f0f921"
             ]
            ]
           }
          ],
          "surface": [
           {
            "type": "surface",
            "colorbar": {
             "outlinewidth": 0,
             "ticks": ""
            },
            "colorscale": [
             [
              0.0,
              "#0d0887"
             ],
             [
              0.1111111111111111,
              "#46039f"
             ],
             [
              0.2222222222222222,
              "#7201a8"
             ],
             [
              0.3333333333333333,
              "#9c179e"
             ],
             [
              0.4444444444444444,
              "#bd3786"
             ],
             [
              0.5555555555555556,
              "#d8576b"
             ],
             [
              0.6666666666666666,
              "#ed7953"
             ],
             [
              0.7777777777777778,
              "#fb9f3a"
             ],
             [
              0.8888888888888888,
              "#fdca26"
             ],
             [
              1.0,
              "#f0f921"
             ]
            ]
           }
          ],
          "mesh3d": [
           {
            "type": "mesh3d",
            "colorbar": {
             "outlinewidth": 0,
             "ticks": ""
            }
           }
          ],
          "scatter": [
           {
            "fillpattern": {
             "fillmode": "overlay",
             "size": 10,
             "solidity": 0.2
            },
            "type": "scatter"
           }
          ],
          "parcoords": [
           {
            "type": "parcoords",
            "line": {
             "colorbar": {
              "outlinewidth": 0,
              "ticks": ""
             }
            }
           }
          ],
          "scatterpolargl": [
           {
            "type": "scatterpolargl",
            "marker": {
             "colorbar": {
              "outlinewidth": 0,
              "ticks": ""
             }
            }
           }
          ],
          "bar": [
           {
            "error_x": {
             "color": "#2a3f5f"
            },
            "error_y": {
             "color": "#2a3f5f"
            },
            "marker": {
             "line": {
              "color": "#E5ECF6",
              "width": 0.5
             },
             "pattern": {
              "fillmode": "overlay",
              "size": 10,
              "solidity": 0.2
             }
            },
            "type": "bar"
           }
          ],
          "scattergeo": [
           {
            "type": "scattergeo",
            "marker": {
             "colorbar": {
              "outlinewidth": 0,
              "ticks": ""
             }
            }
           }
          ],
          "scatterpolar": [
           {
            "type": "scatterpolar",
            "marker": {
             "colorbar": {
              "outlinewidth": 0,
              "ticks": ""
             }
            }
           }
          ],
          "histogram": [
           {
            "marker": {
             "pattern": {
              "fillmode": "overlay",
              "size": 10,
              "solidity": 0.2
             }
            },
            "type": "histogram"
           }
          ],
          "scattergl": [
           {
            "type": "scattergl",
            "marker": {
             "colorbar": {
              "outlinewidth": 0,
              "ticks": ""
             }
            }
           }
          ],
          "scatter3d": [
           {
            "type": "scatter3d",
            "line": {
             "colorbar": {
              "outlinewidth": 0,
              "ticks": ""
             }
            },
            "marker": {
             "colorbar": {
              "outlinewidth": 0,
              "ticks": ""
             }
            }
           }
          ],
          "scattermapbox": [
           {
            "type": "scattermapbox",
            "marker": {
             "colorbar": {
              "outlinewidth": 0,
              "ticks": ""
             }
            }
           }
          ],
          "scatterternary": [
           {
            "type": "scatterternary",
            "marker": {
             "colorbar": {
              "outlinewidth": 0,
              "ticks": ""
             }
            }
           }
          ],
          "scattercarpet": [
           {
            "type": "scattercarpet",
            "marker": {
             "colorbar": {
              "outlinewidth": 0,
              "ticks": ""
             }
            }
           }
          ],
          "carpet": [
           {
            "aaxis": {
             "endlinecolor": "#2a3f5f",
             "gridcolor": "white",
             "linecolor": "white",
             "minorgridcolor": "white",
             "startlinecolor": "#2a3f5f"
            },
            "baxis": {
             "endlinecolor": "#2a3f5f",
             "gridcolor": "white",
             "linecolor": "white",
             "minorgridcolor": "white",
             "startlinecolor": "#2a3f5f"
            },
            "type": "carpet"
           }
          ],
          "table": [
           {
            "cells": {
             "fill": {
              "color": "#EBF0F8"
             },
             "line": {
              "color": "white"
             }
            },
            "header": {
             "fill": {
              "color": "#C8D4E3"
             },
             "line": {
              "color": "white"
             }
            },
            "type": "table"
           }
          ],
          "barpolar": [
           {
            "marker": {
             "line": {
              "color": "#E5ECF6",
              "width": 0.5
             },
             "pattern": {
              "fillmode": "overlay",
              "size": 10,
              "solidity": 0.2
             }
            },
            "type": "barpolar"
           }
          ],
          "pie": [
           {
            "automargin": true,
            "type": "pie"
           }
          ]
         },
         "layout": {
          "autotypenumbers": "strict",
          "colorway": [
           "#636efa",
           "#EF553B",
           "#00cc96",
           "#ab63fa",
           "#FFA15A",
           "#19d3f3",
           "#FF6692",
           "#B6E880",
           "#FF97FF",
           "#FECB52"
          ],
          "font": {
           "color": "#2a3f5f"
          },
          "hovermode": "closest",
          "hoverlabel": {
           "align": "left"
          },
          "paper_bgcolor": "white",
          "plot_bgcolor": "#E5ECF6",
          "polar": {
           "bgcolor": "#E5ECF6",
           "angularaxis": {
            "gridcolor": "white",
            "linecolor": "white",
            "ticks": ""
           },
           "radialaxis": {
            "gridcolor": "white",
            "linecolor": "white",
            "ticks": ""
           }
          },
          "ternary": {
           "bgcolor": "#E5ECF6",
           "aaxis": {
            "gridcolor": "white",
            "linecolor": "white",
            "ticks": ""
           },
           "baxis": {
            "gridcolor": "white",
            "linecolor": "white",
            "ticks": ""
           },
           "caxis": {
            "gridcolor": "white",
            "linecolor": "white",
            "ticks": ""
           }
          },
          "coloraxis": {
           "colorbar": {
            "outlinewidth": 0,
            "ticks": ""
           }
          },
          "colorscale": {
           "sequential": [
            [
             0.0,
             "#0d0887"
            ],
            [
             0.1111111111111111,
             "#46039f"
            ],
            [
             0.2222222222222222,
             "#7201a8"
            ],
            [
             0.3333333333333333,
             "#9c179e"
            ],
            [
             0.4444444444444444,
             "#bd3786"
            ],
            [
             0.5555555555555556,
             "#d8576b"
            ],
            [
             0.6666666666666666,
             "#ed7953"
            ],
            [
             0.7777777777777778,
             "#fb9f3a"
            ],
            [
             0.8888888888888888,
             "#fdca26"
            ],
            [
             1.0,
             "#f0f921"
            ]
           ],
           "sequentialminus": [
            [
             0.0,
             "#0d0887"
            ],
            [
             0.1111111111111111,
             "#46039f"
            ],
            [
             0.2222222222222222,
             "#7201a8"
            ],
            [
             0.3333333333333333,
             "#9c179e"
            ],
            [
             0.4444444444444444,
             "#bd3786"
            ],
            [
             0.5555555555555556,
             "#d8576b"
            ],
            [
             0.6666666666666666,
             "#ed7953"
            ],
            [
             0.7777777777777778,
             "#fb9f3a"
            ],
            [
             0.8888888888888888,
             "#fdca26"
            ],
            [
             1.0,
             "#f0f921"
            ]
           ],
           "diverging": [
            [
             0,
             "#8e0152"
            ],
            [
             0.1,
             "#c51b7d"
            ],
            [
             0.2,
             "#de77ae"
            ],
            [
             0.3,
             "#f1b6da"
            ],
            [
             0.4,
             "#fde0ef"
            ],
            [
             0.5,
             "#f7f7f7"
            ],
            [
             0.6,
             "#e6f5d0"
            ],
            [
             0.7,
             "#b8e186"
            ],
            [
             0.8,
             "#7fbc41"
            ],
            [
             0.9,
             "#4d9221"
            ],
            [
             1,
             "#276419"
            ]
           ]
          },
          "xaxis": {
           "gridcolor": "white",
           "linecolor": "white",
           "ticks": "",
           "title": {
            "standoff": 15
           },
           "zerolinecolor": "white",
           "automargin": true,
           "zerolinewidth": 2
          },
          "yaxis": {
           "gridcolor": "white",
           "linecolor": "white",
           "ticks": "",
           "title": {
            "standoff": 15
           },
           "zerolinecolor": "white",
           "automargin": true,
           "zerolinewidth": 2
          },
          "scene": {
           "xaxis": {
            "backgroundcolor": "#E5ECF6",
            "gridcolor": "white",
            "linecolor": "white",
            "showbackground": true,
            "ticks": "",
            "zerolinecolor": "white",
            "gridwidth": 2
           },
           "yaxis": {
            "backgroundcolor": "#E5ECF6",
            "gridcolor": "white",
            "linecolor": "white",
            "showbackground": true,
            "ticks": "",
            "zerolinecolor": "white",
            "gridwidth": 2
           },
           "zaxis": {
            "backgroundcolor": "#E5ECF6",
            "gridcolor": "white",
            "linecolor": "white",
            "showbackground": true,
            "ticks": "",
            "zerolinecolor": "white",
            "gridwidth": 2
           }
          },
          "shapedefaults": {
           "line": {
            "color": "#2a3f5f"
           }
          },
          "annotationdefaults": {
           "arrowcolor": "#2a3f5f",
           "arrowhead": 0,
           "arrowwidth": 1
          },
          "geo": {
           "bgcolor": "white",
           "landcolor": "#E5ECF6",
           "subunitcolor": "white",
           "showland": true,
           "showlakes": true,
           "lakecolor": "white"
          },
          "title": {
           "x": 0.05
          },
          "mapbox": {
           "style": "light"
          }
         }
        },
        "xaxis": {
         "anchor": "y",
         "domain": [
          0.0,
          1.0
         ],
         "title": {
          "text": "danceability_%"
         }
        },
        "yaxis": {
         "anchor": "x",
         "domain": [
          0.0,
          1.0
         ],
         "title": {
          "text": "Count"
         }
        },
        "legend": {
         "tracegroupgap": 0
        },
        "title": {
         "text": "Class imbalance for 'danceability_%'"
        },
        "barmode": "relative"
       },
       "config": {
        "plotlyServerURL": "https://plot.ly"
       }
      },
      "text/html": "<div>                            <div id=\"9288940f-07a4-4c21-947e-cdc9a44845cd\" class=\"plotly-graph-div\" style=\"height:525px; width:100%;\"></div>            <script type=\"text/javascript\">                require([\"plotly\"], function(Plotly) {                    window.PLOTLYENV=window.PLOTLYENV || {};                                    if (document.getElementById(\"9288940f-07a4-4c21-947e-cdc9a44845cd\")) {                    Plotly.newPlot(                        \"9288940f-07a4-4c21-947e-cdc9a44845cd\",                        [{\"alignmentgroup\":\"True\",\"hovertemplate\":\"x=%{x}\\u003cbr\\u003ey=%{y}\\u003cextra\\u003e\\u003c\\u002fextra\\u003e\",\"legendgroup\":\"\",\"marker\":{\"color\":\"#636efa\",\"pattern\":{\"shape\":\"\"}},\"name\":\"\",\"offsetgroup\":\"\",\"orientation\":\"v\",\"showlegend\":false,\"textposition\":\"auto\",\"x\":[70,80,77,56,78,73,65,71,81,74,59,82,67,84,63,75,72,60,68,79,51,64,66,57,76,61,53,83,85,69,91,62,45,44,92,58,49,50,47,90,54,86,55,87,88,89,52,46,37,40,95,34,43,93,48,41,42,35,39,31,33,36,32,25,-12,94,24,23,27,28,96,199,-60,38],\"xaxis\":\"x\",\"y\":[33,30,26,26,25,24,24,23,22,22,20,19,19,18,18,18,18,17,17,17,17,17,16,16,14,13,13,13,12,11,11,11,10,10,10,10,9,9,8,8,8,8,7,7,7,7,7,6,6,5,5,5,5,5,4,4,4,4,4,3,3,3,2,1,1,1,1,1,1,1,1,1,1,1],\"yaxis\":\"y\",\"type\":\"bar\"}],                        {\"template\":{\"data\":{\"histogram2dcontour\":[{\"type\":\"histogram2dcontour\",\"colorbar\":{\"outlinewidth\":0,\"ticks\":\"\"},\"colorscale\":[[0.0,\"#0d0887\"],[0.1111111111111111,\"#46039f\"],[0.2222222222222222,\"#7201a8\"],[0.3333333333333333,\"#9c179e\"],[0.4444444444444444,\"#bd3786\"],[0.5555555555555556,\"#d8576b\"],[0.6666666666666666,\"#ed7953\"],[0.7777777777777778,\"#fb9f3a\"],[0.8888888888888888,\"#fdca26\"],[1.0,\"#f0f921\"]]}],\"choropleth\":[{\"type\":\"choropleth\",\"colorbar\":{\"outlinewidth\":0,\"ticks\":\"\"}}],\"histogram2d\":[{\"type\":\"histogram2d\",\"colorbar\":{\"outlinewidth\":0,\"ticks\":\"\"},\"colorscale\":[[0.0,\"#0d0887\"],[0.1111111111111111,\"#46039f\"],[0.2222222222222222,\"#7201a8\"],[0.3333333333333333,\"#9c179e\"],[0.4444444444444444,\"#bd3786\"],[0.5555555555555556,\"#d8576b\"],[0.6666666666666666,\"#ed7953\"],[0.7777777777777778,\"#fb9f3a\"],[0.8888888888888888,\"#fdca26\"],[1.0,\"#f0f921\"]]}],\"heatmap\":[{\"type\":\"heatmap\",\"colorbar\":{\"outlinewidth\":0,\"ticks\":\"\"},\"colorscale\":[[0.0,\"#0d0887\"],[0.1111111111111111,\"#46039f\"],[0.2222222222222222,\"#7201a8\"],[0.3333333333333333,\"#9c179e\"],[0.4444444444444444,\"#bd3786\"],[0.5555555555555556,\"#d8576b\"],[0.6666666666666666,\"#ed7953\"],[0.7777777777777778,\"#fb9f3a\"],[0.8888888888888888,\"#fdca26\"],[1.0,\"#f0f921\"]]}],\"heatmapgl\":[{\"type\":\"heatmapgl\",\"colorbar\":{\"outlinewidth\":0,\"ticks\":\"\"},\"colorscale\":[[0.0,\"#0d0887\"],[0.1111111111111111,\"#46039f\"],[0.2222222222222222,\"#7201a8\"],[0.3333333333333333,\"#9c179e\"],[0.4444444444444444,\"#bd3786\"],[0.5555555555555556,\"#d8576b\"],[0.6666666666666666,\"#ed7953\"],[0.7777777777777778,\"#fb9f3a\"],[0.8888888888888888,\"#fdca26\"],[1.0,\"#f0f921\"]]}],\"contourcarpet\":[{\"type\":\"contourcarpet\",\"colorbar\":{\"outlinewidth\":0,\"ticks\":\"\"}}],\"contour\":[{\"type\":\"contour\",\"colorbar\":{\"outlinewidth\":0,\"ticks\":\"\"},\"colorscale\":[[0.0,\"#0d0887\"],[0.1111111111111111,\"#46039f\"],[0.2222222222222222,\"#7201a8\"],[0.3333333333333333,\"#9c179e\"],[0.4444444444444444,\"#bd3786\"],[0.5555555555555556,\"#d8576b\"],[0.6666666666666666,\"#ed7953\"],[0.7777777777777778,\"#fb9f3a\"],[0.8888888888888888,\"#fdca26\"],[1.0,\"#f0f921\"]]}],\"surface\":[{\"type\":\"surface\",\"colorbar\":{\"outlinewidth\":0,\"ticks\":\"\"},\"colorscale\":[[0.0,\"#0d0887\"],[0.1111111111111111,\"#46039f\"],[0.2222222222222222,\"#7201a8\"],[0.3333333333333333,\"#9c179e\"],[0.4444444444444444,\"#bd3786\"],[0.5555555555555556,\"#d8576b\"],[0.6666666666666666,\"#ed7953\"],[0.7777777777777778,\"#fb9f3a\"],[0.8888888888888888,\"#fdca26\"],[1.0,\"#f0f921\"]]}],\"mesh3d\":[{\"type\":\"mesh3d\",\"colorbar\":{\"outlinewidth\":0,\"ticks\":\"\"}}],\"scatter\":[{\"fillpattern\":{\"fillmode\":\"overlay\",\"size\":10,\"solidity\":0.2},\"type\":\"scatter\"}],\"parcoords\":[{\"type\":\"parcoords\",\"line\":{\"colorbar\":{\"outlinewidth\":0,\"ticks\":\"\"}}}],\"scatterpolargl\":[{\"type\":\"scatterpolargl\",\"marker\":{\"colorbar\":{\"outlinewidth\":0,\"ticks\":\"\"}}}],\"bar\":[{\"error_x\":{\"color\":\"#2a3f5f\"},\"error_y\":{\"color\":\"#2a3f5f\"},\"marker\":{\"line\":{\"color\":\"#E5ECF6\",\"width\":0.5},\"pattern\":{\"fillmode\":\"overlay\",\"size\":10,\"solidity\":0.2}},\"type\":\"bar\"}],\"scattergeo\":[{\"type\":\"scattergeo\",\"marker\":{\"colorbar\":{\"outlinewidth\":0,\"ticks\":\"\"}}}],\"scatterpolar\":[{\"type\":\"scatterpolar\",\"marker\":{\"colorbar\":{\"outlinewidth\":0,\"ticks\":\"\"}}}],\"histogram\":[{\"marker\":{\"pattern\":{\"fillmode\":\"overlay\",\"size\":10,\"solidity\":0.2}},\"type\":\"histogram\"}],\"scattergl\":[{\"type\":\"scattergl\",\"marker\":{\"colorbar\":{\"outlinewidth\":0,\"ticks\":\"\"}}}],\"scatter3d\":[{\"type\":\"scatter3d\",\"line\":{\"colorbar\":{\"outlinewidth\":0,\"ticks\":\"\"}},\"marker\":{\"colorbar\":{\"outlinewidth\":0,\"ticks\":\"\"}}}],\"scattermapbox\":[{\"type\":\"scattermapbox\",\"marker\":{\"colorbar\":{\"outlinewidth\":0,\"ticks\":\"\"}}}],\"scatterternary\":[{\"type\":\"scatterternary\",\"marker\":{\"colorbar\":{\"outlinewidth\":0,\"ticks\":\"\"}}}],\"scattercarpet\":[{\"type\":\"scattercarpet\",\"marker\":{\"colorbar\":{\"outlinewidth\":0,\"ticks\":\"\"}}}],\"carpet\":[{\"aaxis\":{\"endlinecolor\":\"#2a3f5f\",\"gridcolor\":\"white\",\"linecolor\":\"white\",\"minorgridcolor\":\"white\",\"startlinecolor\":\"#2a3f5f\"},\"baxis\":{\"endlinecolor\":\"#2a3f5f\",\"gridcolor\":\"white\",\"linecolor\":\"white\",\"minorgridcolor\":\"white\",\"startlinecolor\":\"#2a3f5f\"},\"type\":\"carpet\"}],\"table\":[{\"cells\":{\"fill\":{\"color\":\"#EBF0F8\"},\"line\":{\"color\":\"white\"}},\"header\":{\"fill\":{\"color\":\"#C8D4E3\"},\"line\":{\"color\":\"white\"}},\"type\":\"table\"}],\"barpolar\":[{\"marker\":{\"line\":{\"color\":\"#E5ECF6\",\"width\":0.5},\"pattern\":{\"fillmode\":\"overlay\",\"size\":10,\"solidity\":0.2}},\"type\":\"barpolar\"}],\"pie\":[{\"automargin\":true,\"type\":\"pie\"}]},\"layout\":{\"autotypenumbers\":\"strict\",\"colorway\":[\"#636efa\",\"#EF553B\",\"#00cc96\",\"#ab63fa\",\"#FFA15A\",\"#19d3f3\",\"#FF6692\",\"#B6E880\",\"#FF97FF\",\"#FECB52\"],\"font\":{\"color\":\"#2a3f5f\"},\"hovermode\":\"closest\",\"hoverlabel\":{\"align\":\"left\"},\"paper_bgcolor\":\"white\",\"plot_bgcolor\":\"#E5ECF6\",\"polar\":{\"bgcolor\":\"#E5ECF6\",\"angularaxis\":{\"gridcolor\":\"white\",\"linecolor\":\"white\",\"ticks\":\"\"},\"radialaxis\":{\"gridcolor\":\"white\",\"linecolor\":\"white\",\"ticks\":\"\"}},\"ternary\":{\"bgcolor\":\"#E5ECF6\",\"aaxis\":{\"gridcolor\":\"white\",\"linecolor\":\"white\",\"ticks\":\"\"},\"baxis\":{\"gridcolor\":\"white\",\"linecolor\":\"white\",\"ticks\":\"\"},\"caxis\":{\"gridcolor\":\"white\",\"linecolor\":\"white\",\"ticks\":\"\"}},\"coloraxis\":{\"colorbar\":{\"outlinewidth\":0,\"ticks\":\"\"}},\"colorscale\":{\"sequential\":[[0.0,\"#0d0887\"],[0.1111111111111111,\"#46039f\"],[0.2222222222222222,\"#7201a8\"],[0.3333333333333333,\"#9c179e\"],[0.4444444444444444,\"#bd3786\"],[0.5555555555555556,\"#d8576b\"],[0.6666666666666666,\"#ed7953\"],[0.7777777777777778,\"#fb9f3a\"],[0.8888888888888888,\"#fdca26\"],[1.0,\"#f0f921\"]],\"sequentialminus\":[[0.0,\"#0d0887\"],[0.1111111111111111,\"#46039f\"],[0.2222222222222222,\"#7201a8\"],[0.3333333333333333,\"#9c179e\"],[0.4444444444444444,\"#bd3786\"],[0.5555555555555556,\"#d8576b\"],[0.6666666666666666,\"#ed7953\"],[0.7777777777777778,\"#fb9f3a\"],[0.8888888888888888,\"#fdca26\"],[1.0,\"#f0f921\"]],\"diverging\":[[0,\"#8e0152\"],[0.1,\"#c51b7d\"],[0.2,\"#de77ae\"],[0.3,\"#f1b6da\"],[0.4,\"#fde0ef\"],[0.5,\"#f7f7f7\"],[0.6,\"#e6f5d0\"],[0.7,\"#b8e186\"],[0.8,\"#7fbc41\"],[0.9,\"#4d9221\"],[1,\"#276419\"]]},\"xaxis\":{\"gridcolor\":\"white\",\"linecolor\":\"white\",\"ticks\":\"\",\"title\":{\"standoff\":15},\"zerolinecolor\":\"white\",\"automargin\":true,\"zerolinewidth\":2},\"yaxis\":{\"gridcolor\":\"white\",\"linecolor\":\"white\",\"ticks\":\"\",\"title\":{\"standoff\":15},\"zerolinecolor\":\"white\",\"automargin\":true,\"zerolinewidth\":2},\"scene\":{\"xaxis\":{\"backgroundcolor\":\"#E5ECF6\",\"gridcolor\":\"white\",\"linecolor\":\"white\",\"showbackground\":true,\"ticks\":\"\",\"zerolinecolor\":\"white\",\"gridwidth\":2},\"yaxis\":{\"backgroundcolor\":\"#E5ECF6\",\"gridcolor\":\"white\",\"linecolor\":\"white\",\"showbackground\":true,\"ticks\":\"\",\"zerolinecolor\":\"white\",\"gridwidth\":2},\"zaxis\":{\"backgroundcolor\":\"#E5ECF6\",\"gridcolor\":\"white\",\"linecolor\":\"white\",\"showbackground\":true,\"ticks\":\"\",\"zerolinecolor\":\"white\",\"gridwidth\":2}},\"shapedefaults\":{\"line\":{\"color\":\"#2a3f5f\"}},\"annotationdefaults\":{\"arrowcolor\":\"#2a3f5f\",\"arrowhead\":0,\"arrowwidth\":1},\"geo\":{\"bgcolor\":\"white\",\"landcolor\":\"#E5ECF6\",\"subunitcolor\":\"white\",\"showland\":true,\"showlakes\":true,\"lakecolor\":\"white\"},\"title\":{\"x\":0.05},\"mapbox\":{\"style\":\"light\"}}},\"xaxis\":{\"anchor\":\"y\",\"domain\":[0.0,1.0],\"title\":{\"text\":\"danceability_%\"}},\"yaxis\":{\"anchor\":\"x\",\"domain\":[0.0,1.0],\"title\":{\"text\":\"Count\"}},\"legend\":{\"tracegroupgap\":0},\"title\":{\"text\":\"Class imbalance for 'danceability_%'\"},\"barmode\":\"relative\"},                        {\"responsive\": true}                    ).then(function(){\n                            \nvar gd = document.getElementById('9288940f-07a4-4c21-947e-cdc9a44845cd');\nvar x = new MutationObserver(function (mutations, observer) {{\n        var display = window.getComputedStyle(gd).display;\n        if (!display || display === 'none') {{\n            console.log([gd, 'removed!']);\n            Plotly.purge(gd);\n            observer.disconnect();\n        }}\n}});\n\n// Listen for the removal of the full notebook cells\nvar notebookContainer = gd.closest('#notebook-container');\nif (notebookContainer) {{\n    x.observe(notebookContainer, {childList: true});\n}}\n\n// Listen for the clearing of the current output cell\nvar outputEl = gd.closest('.output');\nif (outputEl) {{\n    x.observe(outputEl, {childList: true});\n}}\n\n                        })                };                });            </script>        </div>"
     },
     "metadata": {},
     "output_type": "display_data"
    },
    {
     "data": {
      "application/vnd.plotly.v1+json": {
       "data": [
        {
         "alignmentgroup": "True",
         "hovertemplate": "x=%{x}<br>y=%{y}<extra></extra>",
         "legendgroup": "",
         "marker": {
          "color": "#636efa",
          "pattern": {
           "shape": ""
          }
         },
         "name": "",
         "offsetgroup": "",
         "orientation": "v",
         "showlegend": false,
         "textposition": "auto",
         "x": [
          "Taylor Swift",
          "SZA",
          "Bad Bunny",
          "The Weeknd",
          "Kendrick Lamar",
          "Harry Styles",
          "Feid",
          "Drake, 21 Savage",
          "Morgan Wallen",
          "BTS",
          "Ed Sheeran",
          "NewJeans",
          "Olivia Rodrigo",
          "Labrinth",
          "Doja Cat",
          "Drake",
          "Eminem",
          "M��ne",
          "IVE",
          "Quevedo",
          "Imagine Dragons",
          "Shawn Mendes",
          "Tyler, The Creator",
          "Beyonc�",
          "Jack Harlow",
          "Coldplay",
          "Steve Lacy",
          "ENHYPEN",
          "Dua Lipa",
          "Joji",
          "Lizzo",
          "Lana Del Rey",
          "Kanye West",
          "Adele",
          "Daddy Yankee, Bad Bunny",
          "Michael Bubl�",
          "Stray Kids",
          "RAYE, 070 Shake",
          "Lil Baby",
          "Hotel Ugly",
          "Frank Ocean",
          "James Arthur",
          "Arctic Monkeys",
          "Bruno Mars",
          "(G)I-DLE",
          "Justin Bieber",
          "Jasiel Nu��ez, Peso P",
          "Nat King Cole",
          "Mambo Kingz, DJ Luian, Anuel Aa",
          "Lil Nas X",
          "Future",
          "ThxSoMch",
          "Billie Eilish",
          "LE SSERAFIM",
          "Lewis Capaldi",
          "Bruno Mars, Anderson .Paak, Silk Sonic",
          "The Kid Laroi",
          "TWICE",
          "XXXTENTACION",
          "Lady Gaga",
          "Nicki Minaj",
          "Tate McRae",
          "Avicii",
          "Central Cee",
          "Nicki Minaj, Lil Baby",
          "Juice WRLD",
          "Rauw Alejandro",
          "Nirvana",
          "Linkin Park",
          "Dr. Dre, Snoop Dogg",
          "Charlie Puth",
          "The Weeknd, Gesaffelstein",
          "ROSAL�",
          "Eminem, Dr. Dre",
          "Ryan Castro",
          "The Neighbourhood",
          "YEAT",
          "Bad Bunny, Jhay Cortez",
          "Post Malone",
          "Jung Kook",
          "Fifty Fifty",
          "d4vd",
          "Duki",
          "Troye Sivan",
          "Fuerza Regida",
          "David Kushner",
          "Karol G",
          "Burna Boy",
          "Rauw Alejandro, Bizarrap",
          "Jimin",
          "JVKE",
          "Junior H, Peso Pluma",
          "Yandel, Feid",
          "BYOR, Imanbek",
          "Melody, Ana Castela, Dj Chris No Beat",
          "David Guetta, Shakira, Black Eyed Peas",
          "Imagine Dragons, League of Legends, Arcane",
          "J Balvin, Maria Becerra",
          "Oxlade",
          "Drake, Future, Young Thug",
          "Armani White",
          "Luis R Conriquez, La Adictiva",
          "PnB Rock",
          "Anuel Aa, Jhay Cortez",
          "Masked Wolf",
          "Ovy On The Drums, Quevedo",
          "Sleepy hallow",
          "SALES",
          "Charli XCX, Jax Jones, Joel Corry, Saweetie",
          "Sean Paul, Dua Lipa",
          "Lil Yachty",
          "Marshmello, Juice WRLD",
          "Mar��lia Mendon��a, George Henrique &",
          "John Legend",
          "SiM",
          "Calvin Harris, Halsey, Pharrell Williams, Justin Timberlake",
          "Drake, Travis Scott",
          "Ghost",
          "Yung Lean",
          "Mahmood, Blanco",
          "Kanye West, Alicia Keys, Fivio Foreign",
          "Rex Orange County",
          "Dove Cameron",
          "Sofia Carson",
          "Karol G, Becky G",
          "Anuel Aa, Myke Towers, Jhay Cortez",
          "Tini, Maria Becerra",
          "Mar��lia Mendon��a, Maiara &",
          "Grupo Marca Registrada, Junior H",
          "Gunna, Lil Baby",
          "Arcangel, De La Ghetto, Justin Quiles, Lenny Tav��rez, Sech, Dalex, Dimelo Flow, Rich Music",
          "Maroon 5",
          "Polo G",
          "Riton, Nightcrawlers, Mufasa & Hypeman, Dopamine",
          "Marshmello, Jonas Brothers",
          "Lady Gaga, Bradley Cooper",
          "J Balvin, Nio Garcia, Bad Bunny",
          "The Killers",
          "Kendrick Lamar, Baby Keem",
          "Tini, L-Gante",
          "Ti��",
          "Maluma",
          "Fran C, Polima WestCoast, Nickoog Clk, Pablito Pesadilla",
          "Drake, Travis Scott, 21 Savage",
          "Emmy Meli",
          "Lit Killah, Maria Becerra, Tiago pzk, NICKI NICOLE",
          "Xam��, Gustah, Neo B",
          "Ti��sto, Ava",
          "Ludwig Goransson, Foudeqush",
          "Julieta Venegas, Bad Bunny, Tainy",
          "Aitana, zzoilo",
          "Jin",
          "The Weeknd, Post Malone",
          "Selena Gomez",
          "Jessica Darrow",
          "The Weeknd, Lil Wayne",
          "SZA, Doja Cat",
          "Feid, Paulo Londra",
          "The Weeknd, Tyler, The Creator",
          "Jaymes Young",
          "Cherish, ACRAZE",
          "Lauren Spencer Smith, Lauren Spencer Smith, Lauren Spencer Smith",
          "Maldy, Karol G",
          "John Legend, Metro Boomin",
          "Frank Sinatra",
          "Chuck Berry",
          "Bad Bunny, Rauw Alejandro",
          "Chencho Corleone, Rauw Alejandro",
          "Gwen Stefani, Blake Shelton",
          "Justin Quiles, Lenny Tav��rez, BL",
          "Kodak Black",
          "Prezioso, Gabry Ponte, LUM!X",
          "Aventura, Bad Bunny",
          "Ed Sheeran, Fireboy DML",
          "The Rare Occasions",
          "Playboi Carti",
          "Southstar",
          "girl in red",
          "BLACKPINK",
          "Luciano, Aitch, B�",
          "Stephanie Beatriz, Diane Guerrero",
          "21 Savage, Gunna",
          "Olga Merediz, Stephanie Beatriz, Encanto - Cast",
          "Edison Lighthouse",
          "Ti��sto, Kar",
          "Drake, Project Pat, 21 Savage",
          "Sech, Bad Bunny, Mora",
          "Trueno, Tiago pzk",
          "Jnr Choi",
          "Doja Cat, The Weeknd",
          "Young Thug, Future, Gunna",
          "Kali Uchis, Amaarae, Moliy",
          "Chris Brown, Rvssian, Rauw Alejandro",
          "Stromae",
          "Bizarrap, Tiago pzk",
          "Sebastian Yatra",
          "THE ANXIETY, Willow, Tyler Cole",
          "MC Ryan SP, Love Funk, Mc Paiva ZS",
          "Labrinth, Zendaya",
          "Rels B",
          "Intense, AP Dhillon, Gurinder Gill",
          "Daddy Yankee",
          "Benson Boone",
          "PSY, Suga",
          "Kendrick Lamar, Tanna Leone",
          "Panic! At The Disco",
          "Bad Bunny, Tainy",
          "Polima WestCoast, Pailita",
          "Kendrick Lamar, Ghostface Killah, Summer Walker",
          "Bad Bunny, The Mar��",
          "Kendrick Lamar, Sam Dew, Baby Keem",
          "Kendrick Lamar, Taylour Paige",
          "Buscabulla, Bad Bunny",
          "Sidhu Moose Wala",
          "Tony Dize, Bad Bunny",
          "Kendrick Lamar, Kodak Black",
          "Victor Cibrian",
          "Kendrick Lamar, Sampha",
          "Kendrick Lamar, Blxst, Amanda Reifer",
          "Metallica",
          "BIGBANG",
          "De La Ghetto, Feid, Polima WestCoast, Paloma Mami, Pailita",
          "Jordan Fisher, Josh Levi, Finneas O'Connell, 4*TOWN (From Disney and Pixar���s Turning Red), Topher Ngo, Grayson Vill",
          "Pharrell Williams, Nile Rodgers, Daft Punk",
          "Blackbear, BoyWithUke",
          "teto",
          "Ed Sheeran, J Balvin",
          "KALUSH",
          "Luciano",
          "Shae Gill, Ali Sethi",
          "Kevin Kaarl",
          "Sleepy hallow, 347aidan",
          "Paloma Faith",
          "Bizarrap, Villano Antillano",
          "Musical Youth",
          "Ozuna, Tiago pzk",
          "Kanye West, XXXTENTACION",
          "Nengo Flow, Anuel Aa, Chris Jedi, Chencho Corleone",
          "Calvin Harris, Dua Lipa, Young Thug",
          "Pharrell Williams, Tyler, The Creator, 21 Savage",
          "Lauren Spencer Smith",
          "Suki Waterhouse",
          "The Goo Goo Dolls",
          "Kendrick Lamar, Beth Gibbons",
          "HA SUNG WOON, Jimin",
          "Sam Ryder",
          "Childish Gambino",
          "Leah Kate",
          "Chanel",
          "Jessi",
          "David Guetta, Ella Henderson, Becky Hill",
          "Justin Bieber, Don Toliver",
          "Ugly Dray, Tesla Jnr",
          "MNEK, Jax Jones",
          "Sech, Mora",
          "Lu��sa Sonza, MC Frog, Dj Gabriel do Borel, Davi K",
          "Yahritza Y Su Esencia",
          "Quevedo, La Pantera, Juseph, Cruz Cafun��, B��jo, Abhir Hathi",
          "Yung Gravy",
          "Anitta",
          "Cris Mj",
          "Camila Cabello, Ed Sheeran",
          "Dua Lipa, Megan Thee Stallion",
          "Shawn Mendes, Camila Cabello",
          "V",
          "Vundabar",
          "Muni Long",
          "Z�� Fe",
          "Kanye West, Lil Durk, Cardi B",
          "L7nnon, DJ Biel do Furduncinho, Bianca",
          "Anitta, Tini, Becky G",
          "Nessa Barrett",
          "Alvaro Diaz, Rauw Alejandro",
          "Mainstreet, Chefin",
          "Em Beihold",
          "Chase Atlantic",
          "GODZZ__-, Zakaria",
          "Eminem, Dido",
          "LF System",
          "Mc Vitin Da Igrejinha, MC Tairon, DJ Win",
          "Luude, Colin Hay",
          "Halsey",
          "Drake, DJ Khaled, Lil Baby",
          "Dr. Dre, 2Pac, Roger",
          "Dave",
          "Tulus",
          "Mc Pedrinho, Pedro Sampaio",
          "AnnenMayKantereit, Giant Rooks",
          "Lasso",
          "De La Ghetto, Duki, Quevedo",
          "Matu��, Wiu,",
          "Camila Cabello, Willow",
          "Demi Lovato",
          "Paulo Londra",
          "Feid, Alejo, Robi",
          "Willow",
          "Nayeon",
          "Lil Tjay",
          "Danny Ocean",
          "NMIXX",
          "Zion & Lennox",
          "The Chainsmokers, Halsey",
          "The Chainsmokers, Coldplay",
          "C. Tangana",
          "Sch��rze, DJ R",
          "Dj LK da Esc��cia, Tchakabum, mc jhenny, M",
          "Tyga, Doja Cat",
          "Christian Nodal",
          "j-hope",
          "Eden Mu��",
          "Guns N' Roses",
          "Residente, Bizarrap",
          "Latto, Jung Kook",
          "Travis Scott, 21 Savage, Metro Boomin",
          "Taylor Swift, Lana Del Rey",
          "Hozier",
          "Cigarettes After Sex",
          "Radiohead",
          "YOASOBI",
          "A$AP Rocky, Metro Boomin, Roisee",
          "Alec Benjamin",
          "Rihanna, Calvin Harris",
          "Lord Huron",
          "The Police",
          "Miguel",
          "Drake, WizKid, Kyla",
          "Natanael Cano, Peso Pluma",
          "OneRepublic",
          "Big One, FMK, Ke personajes",
          "Ana Castela, AgroPlay",
          "Natanael Cano",
          "Chino Pacas",
          "New West",
          "Keane",
          "Bomba Est��reo, Bad B",
          "The Weeknd, Lana Del Rey",
          "Mc Pedrinho, DJ 900",
          "Veigh, Bvga Beatz, Supernova Ent, Prod Malax",
          "Sachin-Jigar, Shadab Faridi, Altamash Faridi, Amitabh Bhattacharya, Varun Jain",
          "Travis Scott, Young Thug, Metro Boomin",
          "Shakira, Bizarrap",
          "Billie Eilish, Khalid",
          "Ray Dalton, Ryan Lewis, Macklemore",
          "Shubh",
          "Plan B",
          "Sabrina Carpenter",
          "Feid, Mora, Saiko, Quevedo",
          "Sean Paul, Feid",
          "Nicky Jam, Feid",
          "Halsey, Suga",
          "Israel & Rodolffo, Mari Fernandez",
          "James Blake, Metro Boomin",
          "Lil Durk, Morgan Wallen",
          "Coi Leray",
          "Lana Del Rey, Taylor Swift",
          "Fuerza Regida, Natanael Cano",
          "BLESSD, Peso Pluma",
          "Future, Chris Brown, Metro Boomin",
          "Taylor Swift, Ice Spice",
          "Arcangel, Bad Bunny",
          "Future, Lil Uzi Vert, Metro Boomin",
          "JISOO",
          "Semicenk, Do��u",
          "Abhijay Sharma, Riar Saab",
          "Junior H, Eden Mu��",
          "Kaliii, Kaliii",
          "Metro Boomin, Coi Leray",
          "Becky G, Peso Pluma",
          "Arijit Singh, Sachin-Jigar, Amitabha Bhattacharya",
          "Natanael Cano, Gabito Ballesteros, Peso Pluma",
          "Shakira",
          "Kodak Black, NLE Choppa, Muni Long, JVKE, Jimin",
          "Swae Lee, Lil Wayne, Offset, Metro Boomin",
          "a-ha",
          "Carin Leon, Grupo Frontera",
          "Calvin Harris, Ellie Goulding",
          "WizKid, Toian, Metro Boomin, Don Toliver, Beam",
          "Charlie Puth, BTS, Jung Kook",
          "dennis, MC Kevin o Chris",
          "Manuel Turizo",
          "Kali Uchis",
          "Peggy Gou",
          "David Guetta, Anne-Marie, Coi Leray",
          "Feid, Myke Towers, Sky Rompiendo",
          "Ariana Grande, The Weeknd",
          "The Weeknd, Daft Punk",
          "Miley Cyrus",
          "Tyler, The Creator, Kali Uchis",
          "Bebe Rexha, David Guetta",
          "Post Malone, Swae Lee",
          "Yahritza Y Su Esencia, Grupo Frontera",
          "Karol G, Shakira",
          "The Weeknd, 21 Savage, Metro Boomin",
          "Peso Pluma, Grupo Frontera",
          "Tainy, Bad Bunny",
          "R��ma, Selena G",
          "The Weeknd, Madonna, Playboi Carti",
          "Bizarrap, Peso Pluma",
          "Gabito Ballesteros, Junior H, Peso Pluma",
          "Feid, Young Miko",
          "Bad Bunny, Grupo Frontera",
          "Peso Pluma, Yng Lvcas",
          "Gunna",
          "Eslabon Armado, Peso Pluma",
          "Dave, Central Cee",
          "PinkPantheress, Ice Spice",
          "Rauw Alejandro, ROSAL�",
          "Sebastian Yatra, Manuel Turizo, Be��",
          "Ozuna, Feid",
          "Taiu, Milo j",
          "Loreen",
          "J. Cole",
          "Tears For Fears",
          "Anggi Marito",
          "Kendrick Lamar, Jay Rock",
          "Ruth B.",
          "Dua Lipa, Elton John, Pnau",
          "Carin Leon",
          "Future, Metro Boomin, Don Toliver",
          "J. Cole, Lil Durk",
          "Bad Bunny, Eladio Carrion",
          "Doechii",
          "Luke Combs",
          "Ayparia, unxbected",
          "Jain",
          "Chencho Corleone, Bad Bunny",
          "Marshmello, Manuel Turizo",
          "Justin Bieber, The Kid Laroi",
          "Mc Livinho, DJ Matt D",
          "Em Beihold, Stephen Sanchez",
          "Vance Joy",
          "Maria Becerra",
          "Sam Smith, Kim Petras",
          "Bizarrap, Quevedo",
          "Libianca",
          "Chris Molitor",
          "Kendrick Lamar, Beyonc�",
          "Simone Mendes",
          "Travis Scott, Metro Boomin",
          "Skrillex, Flowdan, Fred again..",
          "Dean Lewis",
          "DJ Escobar, MC MENOR SG, MC MENOR HR",
          "Seafret",
          "Elley Duh�",
          "Mr.Kitty",
          "Drake, Future, Tems",
          "TOMORROW X TOGETHER",
          "Vishal-Shekhar, Shilpa Rao, Caralisa Monteiro, Kumaar, Vishal Dadlani, Shekhar Ravjiani",
          "Conan Gray",
          "Sam Smith",
          "Steve Aoki, Tini, La Joaqui",
          "Shakira, Rauw Alejandro",
          "Baby Tate",
          "Halsey, BTS",
          "Beach Weather",
          "Rihanna",
          "PinkPantheress",
          "P!nk",
          "Coldplay, BTS",
          "King",
          "Wisin & Yandel, ROSAL�",
          "Fujii Kaze",
          "Yuridia, Angela Aguilar",
          "J Balvin, Bad Bunny",
          "Israel & Rodolffo, Ana Castela",
          "Imagine Dragons, League of Legends, JID, Arcane",
          "MC Xenon, Os Gemeos da Putaria",
          "Bellakath",
          "Myke Towers",
          "Treyce",
          "Kate Bush",
          "RM",
          "Mabel Matiz, Mert Demir",
          "Perry Como, The Fontane Sisters, Mitchell Ayres & His Orchestra",
          "Darlene Love",
          "Chris Rea",
          "Bing Crosby, John Scott Trotter & His Orchestra, Ken Darby Singers",
          "SZA, Travis Scott",
          "Frank Sinatra, B. Swanson Quartet",
          "Shakin' Stevens",
          "SZA, Phoebe Bridgers",
          "Paul McCartney",
          "SZA, Don Toliver",
          "John Lennon, The Harlem Community Choir, The Plastic Ono Band, Yoko Ono",
          "The Ronettes",
          "Jos�� Felic",
          "Kelly Clarkson",
          "Dean Martin",
          "Andy Williams",
          "Styrx, utku INC, Thezth",
          "James Hype, Miggy Dela Rosa",
          "Dua Lipa, DaBaby",
          "Omar Apollo",
          "Kenshi Yonezu",
          "Twisted, Oliver Tree",
          "Lost Frequencies, Calum Scott",
          "Freddie Dredd",
          "Aerosmith",
          "Post Malone, Doja Cat",
          "Karol G, Quevedo",
          "Tini",
          "Nengo Flow, Bad Bunny",
          "El Chachito, Junior H",
          "Quevedo, Jhayco",
          "INTERWORLD",
          "TV Girl",
          "sped up nightcore, ARIZONATEARS, Lil Uzi Vert",
          "Raim Laode",
          "TAEYANG, Lisa",
          "Fuerza Regida, Peso Pluma",
          "Grupo Marca Registrada, Grupo Frontera",
          "Nicki Minaj, Ice Spice",
          "The Weeknd, Future",
          "NLE Choppa",
          "SEVENTEEN",
          "Cartel De Santa, La Kelly",
          "sped up 8282",
          "Lizzy McAlpine",
          "Karol G, Romeo Santos",
          "Rich The Kid, Matu�",
          "Agust D",
          "Nile Rodgers, LE SSERAFIM",
          "Tory Lanez",
          "Migrantes, LiL CaKe, Nico Valdi",
          "Z�� Neto & Crist",
          "Offset, JID",
          "MC Caverinha, KayBlack",
          "Stephen Sanchez",
          "Lil Uzi Vert",
          "RM, Colde",
          "Nicky Youre, Dazy",
          "Kaifi Khalil",
          "Eminem, Dina Rae",
          "Morgan Wallen, Eric Church",
          "Myke Towers, Quevedo",
          "Arijit Singh, Sachin-Jigar",
          "Mahalini",
          "Niall Horan",
          "Don Toliver, Future, Justin Bieber",
          "Robin Schulz, Oliver Tree",
          "j-hope, J. Cole",
          "Brray, Rauw Alejandro, Lyanno",
          "Duki, NICKI NICOLE, Cris Mj, Standly, Stars Music Chile",
          "Jack Black",
          "Mac DeMarco",
          "The Walters",
          "Karol G, Ovy On The Drums",
          "Kordhell",
          "Feid, Mora",
          "Mae Stephens",
          "Fuerza Regida, Chino Pacas",
          "Melanie Martinez",
          "Zach Bryan",
          "Mar��lia Mendo",
          "Kanii, PR1ISVX",
          "Yng Lvcas",
          "NF",
          "Ti��sto, Tate M",
          "Arcangel, Bizarrap",
          "IU, Agust D",
          "Feid, Sech, Jhayco"
         ],
         "xaxis": "x",
         "y": [
          29,
          17,
          16,
          15,
          12,
          11,
          8,
          8,
          8,
          7,
          7,
          6,
          5,
          5,
          4,
          4,
          4,
          4,
          3,
          3,
          3,
          3,
          3,
          3,
          3,
          3,
          3,
          3,
          3,
          3,
          3,
          3,
          3,
          3,
          2,
          2,
          2,
          2,
          2,
          2,
          2,
          2,
          2,
          2,
          2,
          2,
          2,
          2,
          2,
          2,
          2,
          2,
          2,
          2,
          2,
          2,
          2,
          2,
          2,
          2,
          2,
          2,
          2,
          2,
          2,
          2,
          2,
          2,
          2,
          2,
          2,
          2,
          2,
          2,
          2,
          2,
          2,
          2,
          2,
          2,
          2,
          2,
          2,
          2,
          2,
          2,
          2,
          2,
          2,
          2,
          2,
          2,
          2,
          1,
          1,
          1,
          1,
          1,
          1,
          1,
          1,
          1,
          1,
          1,
          1,
          1,
          1,
          1,
          1,
          1,
          1,
          1,
          1,
          1,
          1,
          1,
          1,
          1,
          1,
          1,
          1,
          1,
          1,
          1,
          1,
          1,
          1,
          1,
          1,
          1,
          1,
          1,
          1,
          1,
          1,
          1,
          1,
          1,
          1,
          1,
          1,
          1,
          1,
          1,
          1,
          1,
          1,
          1,
          1,
          1,
          1,
          1,
          1,
          1,
          1,
          1,
          1,
          1,
          1,
          1,
          1,
          1,
          1,
          1,
          1,
          1,
          1,
          1,
          1,
          1,
          1,
          1,
          1,
          1,
          1,
          1,
          1,
          1,
          1,
          1,
          1,
          1,
          1,
          1,
          1,
          1,
          1,
          1,
          1,
          1,
          1,
          1,
          1,
          1,
          1,
          1,
          1,
          1,
          1,
          1,
          1,
          1,
          1,
          1,
          1,
          1,
          1,
          1,
          1,
          1,
          1,
          1,
          1,
          1,
          1,
          1,
          1,
          1,
          1,
          1,
          1,
          1,
          1,
          1,
          1,
          1,
          1,
          1,
          1,
          1,
          1,
          1,
          1,
          1,
          1,
          1,
          1,
          1,
          1,
          1,
          1,
          1,
          1,
          1,
          1,
          1,
          1,
          1,
          1,
          1,
          1,
          1,
          1,
          1,
          1,
          1,
          1,
          1,
          1,
          1,
          1,
          1,
          1,
          1,
          1,
          1,
          1,
          1,
          1,
          1,
          1,
          1,
          1,
          1,
          1,
          1,
          1,
          1,
          1,
          1,
          1,
          1,
          1,
          1,
          1,
          1,
          1,
          1,
          1,
          1,
          1,
          1,
          1,
          1,
          1,
          1,
          1,
          1,
          1,
          1,
          1,
          1,
          1,
          1,
          1,
          1,
          1,
          1,
          1,
          1,
          1,
          1,
          1,
          1,
          1,
          1,
          1,
          1,
          1,
          1,
          1,
          1,
          1,
          1,
          1,
          1,
          1,
          1,
          1,
          1,
          1,
          1,
          1,
          1,
          1,
          1,
          1,
          1,
          1,
          1,
          1,
          1,
          1,
          1,
          1,
          1,
          1,
          1,
          1,
          1,
          1,
          1,
          1,
          1,
          1,
          1,
          1,
          1,
          1,
          1,
          1,
          1,
          1,
          1,
          1,
          1,
          1,
          1,
          1,
          1,
          1,
          1,
          1,
          1,
          1,
          1,
          1,
          1,
          1,
          1,
          1,
          1,
          1,
          1,
          1,
          1,
          1,
          1,
          1,
          1,
          1,
          1,
          1,
          1,
          1,
          1,
          1,
          1,
          1,
          1,
          1,
          1,
          1,
          1,
          1,
          1,
          1,
          1,
          1,
          1,
          1,
          1,
          1,
          1,
          1,
          1,
          1,
          1,
          1,
          1,
          1,
          1,
          1,
          1,
          1,
          1,
          1,
          1,
          1,
          1,
          1,
          1,
          1,
          1,
          1,
          1,
          1,
          1,
          1,
          1,
          1,
          1,
          1,
          1,
          1,
          1,
          1,
          1,
          1,
          1,
          1,
          1,
          1,
          1,
          1,
          1,
          1,
          1,
          1,
          1,
          1,
          1,
          1,
          1,
          1,
          1,
          1,
          1,
          1,
          1,
          1,
          1,
          1,
          1,
          1,
          1,
          1,
          1,
          1,
          1,
          1,
          1,
          1,
          1,
          1,
          1,
          1,
          1,
          1,
          1,
          1,
          1,
          1,
          1,
          1,
          1,
          1,
          1,
          1,
          1,
          1,
          1,
          1,
          1,
          1,
          1,
          1,
          1,
          1,
          1,
          1,
          1,
          1,
          1,
          1,
          1,
          1,
          1,
          1,
          1,
          1,
          1,
          1,
          1,
          1,
          1,
          1,
          1,
          1,
          1,
          1,
          1,
          1,
          1,
          1,
          1,
          1,
          1,
          1,
          1,
          1,
          1,
          1,
          1,
          1,
          1,
          1,
          1,
          1,
          1,
          1,
          1,
          1,
          1,
          1,
          1,
          1,
          1,
          1,
          1,
          1
         ],
         "yaxis": "y",
         "type": "bar"
        }
       ],
       "layout": {
        "template": {
         "data": {
          "histogram2dcontour": [
           {
            "type": "histogram2dcontour",
            "colorbar": {
             "outlinewidth": 0,
             "ticks": ""
            },
            "colorscale": [
             [
              0.0,
              "#0d0887"
             ],
             [
              0.1111111111111111,
              "#46039f"
             ],
             [
              0.2222222222222222,
              "#7201a8"
             ],
             [
              0.3333333333333333,
              "#9c179e"
             ],
             [
              0.4444444444444444,
              "#bd3786"
             ],
             [
              0.5555555555555556,
              "#d8576b"
             ],
             [
              0.6666666666666666,
              "#ed7953"
             ],
             [
              0.7777777777777778,
              "#fb9f3a"
             ],
             [
              0.8888888888888888,
              "#fdca26"
             ],
             [
              1.0,
              "#f0f921"
             ]
            ]
           }
          ],
          "choropleth": [
           {
            "type": "choropleth",
            "colorbar": {
             "outlinewidth": 0,
             "ticks": ""
            }
           }
          ],
          "histogram2d": [
           {
            "type": "histogram2d",
            "colorbar": {
             "outlinewidth": 0,
             "ticks": ""
            },
            "colorscale": [
             [
              0.0,
              "#0d0887"
             ],
             [
              0.1111111111111111,
              "#46039f"
             ],
             [
              0.2222222222222222,
              "#7201a8"
             ],
             [
              0.3333333333333333,
              "#9c179e"
             ],
             [
              0.4444444444444444,
              "#bd3786"
             ],
             [
              0.5555555555555556,
              "#d8576b"
             ],
             [
              0.6666666666666666,
              "#ed7953"
             ],
             [
              0.7777777777777778,
              "#fb9f3a"
             ],
             [
              0.8888888888888888,
              "#fdca26"
             ],
             [
              1.0,
              "#f0f921"
             ]
            ]
           }
          ],
          "heatmap": [
           {
            "type": "heatmap",
            "colorbar": {
             "outlinewidth": 0,
             "ticks": ""
            },
            "colorscale": [
             [
              0.0,
              "#0d0887"
             ],
             [
              0.1111111111111111,
              "#46039f"
             ],
             [
              0.2222222222222222,
              "#7201a8"
             ],
             [
              0.3333333333333333,
              "#9c179e"
             ],
             [
              0.4444444444444444,
              "#bd3786"
             ],
             [
              0.5555555555555556,
              "#d8576b"
             ],
             [
              0.6666666666666666,
              "#ed7953"
             ],
             [
              0.7777777777777778,
              "#fb9f3a"
             ],
             [
              0.8888888888888888,
              "#fdca26"
             ],
             [
              1.0,
              "#f0f921"
             ]
            ]
           }
          ],
          "heatmapgl": [
           {
            "type": "heatmapgl",
            "colorbar": {
             "outlinewidth": 0,
             "ticks": ""
            },
            "colorscale": [
             [
              0.0,
              "#0d0887"
             ],
             [
              0.1111111111111111,
              "#46039f"
             ],
             [
              0.2222222222222222,
              "#7201a8"
             ],
             [
              0.3333333333333333,
              "#9c179e"
             ],
             [
              0.4444444444444444,
              "#bd3786"
             ],
             [
              0.5555555555555556,
              "#d8576b"
             ],
             [
              0.6666666666666666,
              "#ed7953"
             ],
             [
              0.7777777777777778,
              "#fb9f3a"
             ],
             [
              0.8888888888888888,
              "#fdca26"
             ],
             [
              1.0,
              "#f0f921"
             ]
            ]
           }
          ],
          "contourcarpet": [
           {
            "type": "contourcarpet",
            "colorbar": {
             "outlinewidth": 0,
             "ticks": ""
            }
           }
          ],
          "contour": [
           {
            "type": "contour",
            "colorbar": {
             "outlinewidth": 0,
             "ticks": ""
            },
            "colorscale": [
             [
              0.0,
              "#0d0887"
             ],
             [
              0.1111111111111111,
              "#46039f"
             ],
             [
              0.2222222222222222,
              "#7201a8"
             ],
             [
              0.3333333333333333,
              "#9c179e"
             ],
             [
              0.4444444444444444,
              "#bd3786"
             ],
             [
              0.5555555555555556,
              "#d8576b"
             ],
             [
              0.6666666666666666,
              "#ed7953"
             ],
             [
              0.7777777777777778,
              "#fb9f3a"
             ],
             [
              0.8888888888888888,
              "#fdca26"
             ],
             [
              1.0,
              "#f0f921"
             ]
            ]
           }
          ],
          "surface": [
           {
            "type": "surface",
            "colorbar": {
             "outlinewidth": 0,
             "ticks": ""
            },
            "colorscale": [
             [
              0.0,
              "#0d0887"
             ],
             [
              0.1111111111111111,
              "#46039f"
             ],
             [
              0.2222222222222222,
              "#7201a8"
             ],
             [
              0.3333333333333333,
              "#9c179e"
             ],
             [
              0.4444444444444444,
              "#bd3786"
             ],
             [
              0.5555555555555556,
              "#d8576b"
             ],
             [
              0.6666666666666666,
              "#ed7953"
             ],
             [
              0.7777777777777778,
              "#fb9f3a"
             ],
             [
              0.8888888888888888,
              "#fdca26"
             ],
             [
              1.0,
              "#f0f921"
             ]
            ]
           }
          ],
          "mesh3d": [
           {
            "type": "mesh3d",
            "colorbar": {
             "outlinewidth": 0,
             "ticks": ""
            }
           }
          ],
          "scatter": [
           {
            "fillpattern": {
             "fillmode": "overlay",
             "size": 10,
             "solidity": 0.2
            },
            "type": "scatter"
           }
          ],
          "parcoords": [
           {
            "type": "parcoords",
            "line": {
             "colorbar": {
              "outlinewidth": 0,
              "ticks": ""
             }
            }
           }
          ],
          "scatterpolargl": [
           {
            "type": "scatterpolargl",
            "marker": {
             "colorbar": {
              "outlinewidth": 0,
              "ticks": ""
             }
            }
           }
          ],
          "bar": [
           {
            "error_x": {
             "color": "#2a3f5f"
            },
            "error_y": {
             "color": "#2a3f5f"
            },
            "marker": {
             "line": {
              "color": "#E5ECF6",
              "width": 0.5
             },
             "pattern": {
              "fillmode": "overlay",
              "size": 10,
              "solidity": 0.2
             }
            },
            "type": "bar"
           }
          ],
          "scattergeo": [
           {
            "type": "scattergeo",
            "marker": {
             "colorbar": {
              "outlinewidth": 0,
              "ticks": ""
             }
            }
           }
          ],
          "scatterpolar": [
           {
            "type": "scatterpolar",
            "marker": {
             "colorbar": {
              "outlinewidth": 0,
              "ticks": ""
             }
            }
           }
          ],
          "histogram": [
           {
            "marker": {
             "pattern": {
              "fillmode": "overlay",
              "size": 10,
              "solidity": 0.2
             }
            },
            "type": "histogram"
           }
          ],
          "scattergl": [
           {
            "type": "scattergl",
            "marker": {
             "colorbar": {
              "outlinewidth": 0,
              "ticks": ""
             }
            }
           }
          ],
          "scatter3d": [
           {
            "type": "scatter3d",
            "line": {
             "colorbar": {
              "outlinewidth": 0,
              "ticks": ""
             }
            },
            "marker": {
             "colorbar": {
              "outlinewidth": 0,
              "ticks": ""
             }
            }
           }
          ],
          "scattermapbox": [
           {
            "type": "scattermapbox",
            "marker": {
             "colorbar": {
              "outlinewidth": 0,
              "ticks": ""
             }
            }
           }
          ],
          "scatterternary": [
           {
            "type": "scatterternary",
            "marker": {
             "colorbar": {
              "outlinewidth": 0,
              "ticks": ""
             }
            }
           }
          ],
          "scattercarpet": [
           {
            "type": "scattercarpet",
            "marker": {
             "colorbar": {
              "outlinewidth": 0,
              "ticks": ""
             }
            }
           }
          ],
          "carpet": [
           {
            "aaxis": {
             "endlinecolor": "#2a3f5f",
             "gridcolor": "white",
             "linecolor": "white",
             "minorgridcolor": "white",
             "startlinecolor": "#2a3f5f"
            },
            "baxis": {
             "endlinecolor": "#2a3f5f",
             "gridcolor": "white",
             "linecolor": "white",
             "minorgridcolor": "white",
             "startlinecolor": "#2a3f5f"
            },
            "type": "carpet"
           }
          ],
          "table": [
           {
            "cells": {
             "fill": {
              "color": "#EBF0F8"
             },
             "line": {
              "color": "white"
             }
            },
            "header": {
             "fill": {
              "color": "#C8D4E3"
             },
             "line": {
              "color": "white"
             }
            },
            "type": "table"
           }
          ],
          "barpolar": [
           {
            "marker": {
             "line": {
              "color": "#E5ECF6",
              "width": 0.5
             },
             "pattern": {
              "fillmode": "overlay",
              "size": 10,
              "solidity": 0.2
             }
            },
            "type": "barpolar"
           }
          ],
          "pie": [
           {
            "automargin": true,
            "type": "pie"
           }
          ]
         },
         "layout": {
          "autotypenumbers": "strict",
          "colorway": [
           "#636efa",
           "#EF553B",
           "#00cc96",
           "#ab63fa",
           "#FFA15A",
           "#19d3f3",
           "#FF6692",
           "#B6E880",
           "#FF97FF",
           "#FECB52"
          ],
          "font": {
           "color": "#2a3f5f"
          },
          "hovermode": "closest",
          "hoverlabel": {
           "align": "left"
          },
          "paper_bgcolor": "white",
          "plot_bgcolor": "#E5ECF6",
          "polar": {
           "bgcolor": "#E5ECF6",
           "angularaxis": {
            "gridcolor": "white",
            "linecolor": "white",
            "ticks": ""
           },
           "radialaxis": {
            "gridcolor": "white",
            "linecolor": "white",
            "ticks": ""
           }
          },
          "ternary": {
           "bgcolor": "#E5ECF6",
           "aaxis": {
            "gridcolor": "white",
            "linecolor": "white",
            "ticks": ""
           },
           "baxis": {
            "gridcolor": "white",
            "linecolor": "white",
            "ticks": ""
           },
           "caxis": {
            "gridcolor": "white",
            "linecolor": "white",
            "ticks": ""
           }
          },
          "coloraxis": {
           "colorbar": {
            "outlinewidth": 0,
            "ticks": ""
           }
          },
          "colorscale": {
           "sequential": [
            [
             0.0,
             "#0d0887"
            ],
            [
             0.1111111111111111,
             "#46039f"
            ],
            [
             0.2222222222222222,
             "#7201a8"
            ],
            [
             0.3333333333333333,
             "#9c179e"
            ],
            [
             0.4444444444444444,
             "#bd3786"
            ],
            [
             0.5555555555555556,
             "#d8576b"
            ],
            [
             0.6666666666666666,
             "#ed7953"
            ],
            [
             0.7777777777777778,
             "#fb9f3a"
            ],
            [
             0.8888888888888888,
             "#fdca26"
            ],
            [
             1.0,
             "#f0f921"
            ]
           ],
           "sequentialminus": [
            [
             0.0,
             "#0d0887"
            ],
            [
             0.1111111111111111,
             "#46039f"
            ],
            [
             0.2222222222222222,
             "#7201a8"
            ],
            [
             0.3333333333333333,
             "#9c179e"
            ],
            [
             0.4444444444444444,
             "#bd3786"
            ],
            [
             0.5555555555555556,
             "#d8576b"
            ],
            [
             0.6666666666666666,
             "#ed7953"
            ],
            [
             0.7777777777777778,
             "#fb9f3a"
            ],
            [
             0.8888888888888888,
             "#fdca26"
            ],
            [
             1.0,
             "#f0f921"
            ]
           ],
           "diverging": [
            [
             0,
             "#8e0152"
            ],
            [
             0.1,
             "#c51b7d"
            ],
            [
             0.2,
             "#de77ae"
            ],
            [
             0.3,
             "#f1b6da"
            ],
            [
             0.4,
             "#fde0ef"
            ],
            [
             0.5,
             "#f7f7f7"
            ],
            [
             0.6,
             "#e6f5d0"
            ],
            [
             0.7,
             "#b8e186"
            ],
            [
             0.8,
             "#7fbc41"
            ],
            [
             0.9,
             "#4d9221"
            ],
            [
             1,
             "#276419"
            ]
           ]
          },
          "xaxis": {
           "gridcolor": "white",
           "linecolor": "white",
           "ticks": "",
           "title": {
            "standoff": 15
           },
           "zerolinecolor": "white",
           "automargin": true,
           "zerolinewidth": 2
          },
          "yaxis": {
           "gridcolor": "white",
           "linecolor": "white",
           "ticks": "",
           "title": {
            "standoff": 15
           },
           "zerolinecolor": "white",
           "automargin": true,
           "zerolinewidth": 2
          },
          "scene": {
           "xaxis": {
            "backgroundcolor": "#E5ECF6",
            "gridcolor": "white",
            "linecolor": "white",
            "showbackground": true,
            "ticks": "",
            "zerolinecolor": "white",
            "gridwidth": 2
           },
           "yaxis": {
            "backgroundcolor": "#E5ECF6",
            "gridcolor": "white",
            "linecolor": "white",
            "showbackground": true,
            "ticks": "",
            "zerolinecolor": "white",
            "gridwidth": 2
           },
           "zaxis": {
            "backgroundcolor": "#E5ECF6",
            "gridcolor": "white",
            "linecolor": "white",
            "showbackground": true,
            "ticks": "",
            "zerolinecolor": "white",
            "gridwidth": 2
           }
          },
          "shapedefaults": {
           "line": {
            "color": "#2a3f5f"
           }
          },
          "annotationdefaults": {
           "arrowcolor": "#2a3f5f",
           "arrowhead": 0,
           "arrowwidth": 1
          },
          "geo": {
           "bgcolor": "white",
           "landcolor": "#E5ECF6",
           "subunitcolor": "white",
           "showland": true,
           "showlakes": true,
           "lakecolor": "white"
          },
          "title": {
           "x": 0.05
          },
          "mapbox": {
           "style": "light"
          }
         }
        },
        "xaxis": {
         "anchor": "y",
         "domain": [
          0.0,
          1.0
         ],
         "title": {
          "text": "artist(s)_name"
         }
        },
        "yaxis": {
         "anchor": "x",
         "domain": [
          0.0,
          1.0
         ],
         "title": {
          "text": "Count"
         }
        },
        "legend": {
         "tracegroupgap": 0
        },
        "title": {
         "text": "Class imbalance for 'artist(s)_name'"
        },
        "barmode": "relative"
       },
       "config": {
        "plotlyServerURL": "https://plot.ly"
       }
      },
      "text/html": "<div>                            <div id=\"04a06201-7e6e-48b3-bb54-cd014c94bc07\" class=\"plotly-graph-div\" style=\"height:525px; width:100%;\"></div>            <script type=\"text/javascript\">                require([\"plotly\"], function(Plotly) {                    window.PLOTLYENV=window.PLOTLYENV || {};                                    if (document.getElementById(\"04a06201-7e6e-48b3-bb54-cd014c94bc07\")) {                    Plotly.newPlot(                        \"04a06201-7e6e-48b3-bb54-cd014c94bc07\",                        [{\"alignmentgroup\":\"True\",\"hovertemplate\":\"x=%{x}\\u003cbr\\u003ey=%{y}\\u003cextra\\u003e\\u003c\\u002fextra\\u003e\",\"legendgroup\":\"\",\"marker\":{\"color\":\"#636efa\",\"pattern\":{\"shape\":\"\"}},\"name\":\"\",\"offsetgroup\":\"\",\"orientation\":\"v\",\"showlegend\":false,\"textposition\":\"auto\",\"x\":[\"Taylor Swift\",\"SZA\",\"Bad Bunny\",\"The Weeknd\",\"Kendrick Lamar\",\"Harry Styles\",\"Feid\",\"Drake, 21 Savage\",\"Morgan Wallen\",\"BTS\",\"Ed Sheeran\",\"NewJeans\",\"Olivia Rodrigo\",\"Labrinth\",\"Doja Cat\",\"Drake\",\"Eminem\",\"M\\ufffd\\ufffdne\",\"IVE\",\"Quevedo\",\"Imagine Dragons\",\"Shawn Mendes\",\"Tyler, The Creator\",\"Beyonc\\ufffd\",\"Jack Harlow\",\"Coldplay\",\"Steve Lacy\",\"ENHYPEN\",\"Dua Lipa\",\"Joji\",\"Lizzo\",\"Lana Del Rey\",\"Kanye West\",\"Adele\",\"Daddy Yankee, Bad Bunny\",\"Michael Bubl\\ufffd\",\"Stray Kids\",\"RAYE, 070 Shake\",\"Lil Baby\",\"Hotel Ugly\",\"Frank Ocean\",\"James Arthur\",\"Arctic Monkeys\",\"Bruno Mars\",\"(G)I-DLE\",\"Justin Bieber\",\"Jasiel Nu\\ufffd\\ufffdez, Peso P\",\"Nat King Cole\",\"Mambo Kingz, DJ Luian, Anuel Aa\",\"Lil Nas X\",\"Future\",\"ThxSoMch\",\"Billie Eilish\",\"LE SSERAFIM\",\"Lewis Capaldi\",\"Bruno Mars, Anderson .Paak, Silk Sonic\",\"The Kid Laroi\",\"TWICE\",\"XXXTENTACION\",\"Lady Gaga\",\"Nicki Minaj\",\"Tate McRae\",\"Avicii\",\"Central Cee\",\"Nicki Minaj, Lil Baby\",\"Juice WRLD\",\"Rauw Alejandro\",\"Nirvana\",\"Linkin Park\",\"Dr. Dre, Snoop Dogg\",\"Charlie Puth\",\"The Weeknd, Gesaffelstein\",\"ROSAL\\ufffd\",\"Eminem, Dr. Dre\",\"Ryan Castro\",\"The Neighbourhood\",\"YEAT\",\"Bad Bunny, Jhay Cortez\",\"Post Malone\",\"Jung Kook\",\"Fifty Fifty\",\"d4vd\",\"Duki\",\"Troye Sivan\",\"Fuerza Regida\",\"David Kushner\",\"Karol G\",\"Burna Boy\",\"Rauw Alejandro, Bizarrap\",\"Jimin\",\"JVKE\",\"Junior H, Peso Pluma\",\"Yandel, Feid\",\"BYOR, Imanbek\",\"Melody, Ana Castela, Dj Chris No Beat\",\"David Guetta, Shakira, Black Eyed Peas\",\"Imagine Dragons, League of Legends, Arcane\",\"J Balvin, Maria Becerra\",\"Oxlade\",\"Drake, Future, Young Thug\",\"Armani White\",\"Luis R Conriquez, La Adictiva\",\"PnB Rock\",\"Anuel Aa, Jhay Cortez\",\"Masked Wolf\",\"Ovy On The Drums, Quevedo\",\"Sleepy hallow\",\"SALES\",\"Charli XCX, Jax Jones, Joel Corry, Saweetie\",\"Sean Paul, Dua Lipa\",\"Lil Yachty\",\"Marshmello, Juice WRLD\",\"Mar\\ufffd\\ufffdlia Mendon\\ufffd\\ufffda, George Henrique &\",\"John Legend\",\"SiM\",\"Calvin Harris, Halsey, Pharrell Williams, Justin Timberlake\",\"Drake, Travis Scott\",\"Ghost\",\"Yung Lean\",\"Mahmood, Blanco\",\"Kanye West, Alicia Keys, Fivio Foreign\",\"Rex Orange County\",\"Dove Cameron\",\"Sofia Carson\",\"Karol G, Becky G\",\"Anuel Aa, Myke Towers, Jhay Cortez\",\"Tini, Maria Becerra\",\"Mar\\ufffd\\ufffdlia Mendon\\ufffd\\ufffda, Maiara &\",\"Grupo Marca Registrada, Junior H\",\"Gunna, Lil Baby\",\"Arcangel, De La Ghetto, Justin Quiles, Lenny Tav\\ufffd\\ufffdrez, Sech, Dalex, Dimelo Flow, Rich Music\",\"Maroon 5\",\"Polo G\",\"Riton, Nightcrawlers, Mufasa & Hypeman, Dopamine\",\"Marshmello, Jonas Brothers\",\"Lady Gaga, Bradley Cooper\",\"J Balvin, Nio Garcia, Bad Bunny\",\"The Killers\",\"Kendrick Lamar, Baby Keem\",\"Tini, L-Gante\",\"Ti\\ufffd\\ufffd\",\"Maluma\",\"Fran C, Polima WestCoast, Nickoog Clk, Pablito Pesadilla\",\"Drake, Travis Scott, 21 Savage\",\"Emmy Meli\",\"Lit Killah, Maria Becerra, Tiago pzk, NICKI NICOLE\",\"Xam\\ufffd\\ufffd, Gustah, Neo B\",\"Ti\\ufffd\\ufffdsto, Ava\",\"Ludwig Goransson, Foudeqush\",\"Julieta Venegas, Bad Bunny, Tainy\",\"Aitana, zzoilo\",\"Jin\",\"The Weeknd, Post Malone\",\"Selena Gomez\",\"Jessica Darrow\",\"The Weeknd, Lil Wayne\",\"SZA, Doja Cat\",\"Feid, Paulo Londra\",\"The Weeknd, Tyler, The Creator\",\"Jaymes Young\",\"Cherish, ACRAZE\",\"Lauren Spencer Smith, Lauren Spencer Smith, Lauren Spencer Smith\",\"Maldy, Karol G\",\"John Legend, Metro Boomin\",\"Frank Sinatra\",\"Chuck Berry\",\"Bad Bunny, Rauw Alejandro\",\"Chencho Corleone, Rauw Alejandro\",\"Gwen Stefani, Blake Shelton\",\"Justin Quiles, Lenny Tav\\ufffd\\ufffdrez, BL\",\"Kodak Black\",\"Prezioso, Gabry Ponte, LUM!X\",\"Aventura, Bad Bunny\",\"Ed Sheeran, Fireboy DML\",\"The Rare Occasions\",\"Playboi Carti\",\"Southstar\",\"girl in red\",\"BLACKPINK\",\"Luciano, Aitch, B\\ufffd\",\"Stephanie Beatriz, Diane Guerrero\",\"21 Savage, Gunna\",\"Olga Merediz, Stephanie Beatriz, Encanto - Cast\",\"Edison Lighthouse\",\"Ti\\ufffd\\ufffdsto, Kar\",\"Drake, Project Pat, 21 Savage\",\"Sech, Bad Bunny, Mora\",\"Trueno, Tiago pzk\",\"Jnr Choi\",\"Doja Cat, The Weeknd\",\"Young Thug, Future, Gunna\",\"Kali Uchis, Amaarae, Moliy\",\"Chris Brown, Rvssian, Rauw Alejandro\",\"Stromae\",\"Bizarrap, Tiago pzk\",\"Sebastian Yatra\",\"THE ANXIETY, Willow, Tyler Cole\",\"MC Ryan SP, Love Funk, Mc Paiva ZS\",\"Labrinth, Zendaya\",\"Rels B\",\"Intense, AP Dhillon, Gurinder Gill\",\"Daddy Yankee\",\"Benson Boone\",\"PSY, Suga\",\"Kendrick Lamar, Tanna Leone\",\"Panic! At The Disco\",\"Bad Bunny, Tainy\",\"Polima WestCoast, Pailita\",\"Kendrick Lamar, Ghostface Killah, Summer Walker\",\"Bad Bunny, The Mar\\ufffd\\ufffd\",\"Kendrick Lamar, Sam Dew, Baby Keem\",\"Kendrick Lamar, Taylour Paige\",\"Buscabulla, Bad Bunny\",\"Sidhu Moose Wala\",\"Tony Dize, Bad Bunny\",\"Kendrick Lamar, Kodak Black\",\"Victor Cibrian\",\"Kendrick Lamar, Sampha\",\"Kendrick Lamar, Blxst, Amanda Reifer\",\"Metallica\",\"BIGBANG\",\"De La Ghetto, Feid, Polima WestCoast, Paloma Mami, Pailita\",\"Jordan Fisher, Josh Levi, Finneas O'Connell, 4*TOWN (From Disney and Pixar\\ufffd\\ufffd\\ufffds Turning Red), Topher Ngo, Grayson Vill\",\"Pharrell Williams, Nile Rodgers, Daft Punk\",\"Blackbear, BoyWithUke\",\"teto\",\"Ed Sheeran, J Balvin\",\"KALUSH\",\"Luciano\",\"Shae Gill, Ali Sethi\",\"Kevin Kaarl\",\"Sleepy hallow, 347aidan\",\"Paloma Faith\",\"Bizarrap, Villano Antillano\",\"Musical Youth\",\"Ozuna, Tiago pzk\",\"Kanye West, XXXTENTACION\",\"Nengo Flow, Anuel Aa, Chris Jedi, Chencho Corleone\",\"Calvin Harris, Dua Lipa, Young Thug\",\"Pharrell Williams, Tyler, The Creator, 21 Savage\",\"Lauren Spencer Smith\",\"Suki Waterhouse\",\"The Goo Goo Dolls\",\"Kendrick Lamar, Beth Gibbons\",\"HA SUNG WOON, Jimin\",\"Sam Ryder\",\"Childish Gambino\",\"Leah Kate\",\"Chanel\",\"Jessi\",\"David Guetta, Ella Henderson, Becky Hill\",\"Justin Bieber, Don Toliver\",\"Ugly Dray, Tesla Jnr\",\"MNEK, Jax Jones\",\"Sech, Mora\",\"Lu\\ufffd\\ufffdsa Sonza, MC Frog, Dj Gabriel do Borel, Davi K\",\"Yahritza Y Su Esencia\",\"Quevedo, La Pantera, Juseph, Cruz Cafun\\ufffd\\ufffd, B\\ufffd\\ufffdjo, Abhir Hathi\",\"Yung Gravy\",\"Anitta\",\"Cris Mj\",\"Camila Cabello, Ed Sheeran\",\"Dua Lipa, Megan Thee Stallion\",\"Shawn Mendes, Camila Cabello\",\"V\",\"Vundabar\",\"Muni Long\",\"Z\\ufffd\\ufffd Fe\",\"Kanye West, Lil Durk, Cardi B\",\"L7nnon, DJ Biel do Furduncinho, Bianca\",\"Anitta, Tini, Becky G\",\"Nessa Barrett\",\"Alvaro Diaz, Rauw Alejandro\",\"Mainstreet, Chefin\",\"Em Beihold\",\"Chase Atlantic\",\"GODZZ__-, Zakaria\",\"Eminem, Dido\",\"LF System\",\"Mc Vitin Da Igrejinha, MC Tairon, DJ Win\",\"Luude, Colin Hay\",\"Halsey\",\"Drake, DJ Khaled, Lil Baby\",\"Dr. Dre, 2Pac, Roger\",\"Dave\",\"Tulus\",\"Mc Pedrinho, Pedro Sampaio\",\"AnnenMayKantereit, Giant Rooks\",\"Lasso\",\"De La Ghetto, Duki, Quevedo\",\"Matu\\ufffd\\ufffd, Wiu,\",\"Camila Cabello, Willow\",\"Demi Lovato\",\"Paulo Londra\",\"Feid, Alejo, Robi\",\"Willow\",\"Nayeon\",\"Lil Tjay\",\"Danny Ocean\",\"NMIXX\",\"Zion & Lennox\",\"The Chainsmokers, Halsey\",\"The Chainsmokers, Coldplay\",\"C. Tangana\",\"Sch\\ufffd\\ufffdrze, DJ R\",\"Dj LK da Esc\\ufffd\\ufffdcia, Tchakabum, mc jhenny, M\",\"Tyga, Doja Cat\",\"Christian Nodal\",\"j-hope\",\"Eden Mu\\ufffd\\ufffd\",\"Guns N' Roses\",\"Residente, Bizarrap\",\"Latto, Jung Kook\",\"Travis Scott, 21 Savage, Metro Boomin\",\"Taylor Swift, Lana Del Rey\",\"Hozier\",\"Cigarettes After Sex\",\"Radiohead\",\"YOASOBI\",\"A$AP Rocky, Metro Boomin, Roisee\",\"Alec Benjamin\",\"Rihanna, Calvin Harris\",\"Lord Huron\",\"The Police\",\"Miguel\",\"Drake, WizKid, Kyla\",\"Natanael Cano, Peso Pluma\",\"OneRepublic\",\"Big One, FMK, Ke personajes\",\"Ana Castela, AgroPlay\",\"Natanael Cano\",\"Chino Pacas\",\"New West\",\"Keane\",\"Bomba Est\\ufffd\\ufffdreo, Bad B\",\"The Weeknd, Lana Del Rey\",\"Mc Pedrinho, DJ 900\",\"Veigh, Bvga Beatz, Supernova Ent, Prod Malax\",\"Sachin-Jigar, Shadab Faridi, Altamash Faridi, Amitabh Bhattacharya, Varun Jain\",\"Travis Scott, Young Thug, Metro Boomin\",\"Shakira, Bizarrap\",\"Billie Eilish, Khalid\",\"Ray Dalton, Ryan Lewis, Macklemore\",\"Shubh\",\"Plan B\",\"Sabrina Carpenter\",\"Feid, Mora, Saiko, Quevedo\",\"Sean Paul, Feid\",\"Nicky Jam, Feid\",\"Halsey, Suga\",\"Israel & Rodolffo, Mari Fernandez\",\"James Blake, Metro Boomin\",\"Lil Durk, Morgan Wallen\",\"Coi Leray\",\"Lana Del Rey, Taylor Swift\",\"Fuerza Regida, Natanael Cano\",\"BLESSD, Peso Pluma\",\"Future, Chris Brown, Metro Boomin\",\"Taylor Swift, Ice Spice\",\"Arcangel, Bad Bunny\",\"Future, Lil Uzi Vert, Metro Boomin\",\"JISOO\",\"Semicenk, Do\\ufffd\\ufffdu\",\"Abhijay Sharma, Riar Saab\",\"Junior H, Eden Mu\\ufffd\\ufffd\",\"Kaliii, Kaliii\",\"Metro Boomin, Coi Leray\",\"Becky G, Peso Pluma\",\"Arijit Singh, Sachin-Jigar, Amitabha Bhattacharya\",\"Natanael Cano, Gabito Ballesteros, Peso Pluma\",\"Shakira\",\"Kodak Black, NLE Choppa, Muni Long, JVKE, Jimin\",\"Swae Lee, Lil Wayne, Offset, Metro Boomin\",\"a-ha\",\"Carin Leon, Grupo Frontera\",\"Calvin Harris, Ellie Goulding\",\"WizKid, Toian, Metro Boomin, Don Toliver, Beam\",\"Charlie Puth, BTS, Jung Kook\",\"dennis, MC Kevin o Chris\",\"Manuel Turizo\",\"Kali Uchis\",\"Peggy Gou\",\"David Guetta, Anne-Marie, Coi Leray\",\"Feid, Myke Towers, Sky Rompiendo\",\"Ariana Grande, The Weeknd\",\"The Weeknd, Daft Punk\",\"Miley Cyrus\",\"Tyler, The Creator, Kali Uchis\",\"Bebe Rexha, David Guetta\",\"Post Malone, Swae Lee\",\"Yahritza Y Su Esencia, Grupo Frontera\",\"Karol G, Shakira\",\"The Weeknd, 21 Savage, Metro Boomin\",\"Peso Pluma, Grupo Frontera\",\"Tainy, Bad Bunny\",\"R\\ufffd\\ufffdma, Selena G\",\"The Weeknd, Madonna, Playboi Carti\",\"Bizarrap, Peso Pluma\",\"Gabito Ballesteros, Junior H, Peso Pluma\",\"Feid, Young Miko\",\"Bad Bunny, Grupo Frontera\",\"Peso Pluma, Yng Lvcas\",\"Gunna\",\"Eslabon Armado, Peso Pluma\",\"Dave, Central Cee\",\"PinkPantheress, Ice Spice\",\"Rauw Alejandro, ROSAL\\ufffd\",\"Sebastian Yatra, Manuel Turizo, Be\\ufffd\\ufffd\",\"Ozuna, Feid\",\"Taiu, Milo j\",\"Loreen\",\"J. Cole\",\"Tears For Fears\",\"Anggi Marito\",\"Kendrick Lamar, Jay Rock\",\"Ruth B.\",\"Dua Lipa, Elton John, Pnau\",\"Carin Leon\",\"Future, Metro Boomin, Don Toliver\",\"J. Cole, Lil Durk\",\"Bad Bunny, Eladio Carrion\",\"Doechii\",\"Luke Combs\",\"Ayparia, unxbected\",\"Jain\",\"Chencho Corleone, Bad Bunny\",\"Marshmello, Manuel Turizo\",\"Justin Bieber, The Kid Laroi\",\"Mc Livinho, DJ Matt D\",\"Em Beihold, Stephen Sanchez\",\"Vance Joy\",\"Maria Becerra\",\"Sam Smith, Kim Petras\",\"Bizarrap, Quevedo\",\"Libianca\",\"Chris Molitor\",\"Kendrick Lamar, Beyonc\\ufffd\",\"Simone Mendes\",\"Travis Scott, Metro Boomin\",\"Skrillex, Flowdan, Fred again..\",\"Dean Lewis\",\"DJ Escobar, MC MENOR SG, MC MENOR HR\",\"Seafret\",\"Elley Duh\\ufffd\",\"Mr.Kitty\",\"Drake, Future, Tems\",\"TOMORROW X TOGETHER\",\"Vishal-Shekhar, Shilpa Rao, Caralisa Monteiro, Kumaar, Vishal Dadlani, Shekhar Ravjiani\",\"Conan Gray\",\"Sam Smith\",\"Steve Aoki, Tini, La Joaqui\",\"Shakira, Rauw Alejandro\",\"Baby Tate\",\"Halsey, BTS\",\"Beach Weather\",\"Rihanna\",\"PinkPantheress\",\"P!nk\",\"Coldplay, BTS\",\"King\",\"Wisin & Yandel, ROSAL\\ufffd\",\"Fujii Kaze\",\"Yuridia, Angela Aguilar\",\"J Balvin, Bad Bunny\",\"Israel & Rodolffo, Ana Castela\",\"Imagine Dragons, League of Legends, JID, Arcane\",\"MC Xenon, Os Gemeos da Putaria\",\"Bellakath\",\"Myke Towers\",\"Treyce\",\"Kate Bush\",\"RM\",\"Mabel Matiz, Mert Demir\",\"Perry Como, The Fontane Sisters, Mitchell Ayres & His Orchestra\",\"Darlene Love\",\"Chris Rea\",\"Bing Crosby, John Scott Trotter & His Orchestra, Ken Darby Singers\",\"SZA, Travis Scott\",\"Frank Sinatra, B. Swanson Quartet\",\"Shakin' Stevens\",\"SZA, Phoebe Bridgers\",\"Paul McCartney\",\"SZA, Don Toliver\",\"John Lennon, The Harlem Community Choir, The Plastic Ono Band, Yoko Ono\",\"The Ronettes\",\"Jos\\ufffd\\ufffd Felic\",\"Kelly Clarkson\",\"Dean Martin\",\"Andy Williams\",\"Styrx, utku INC, Thezth\",\"James Hype, Miggy Dela Rosa\",\"Dua Lipa, DaBaby\",\"Omar Apollo\",\"Kenshi Yonezu\",\"Twisted, Oliver Tree\",\"Lost Frequencies, Calum Scott\",\"Freddie Dredd\",\"Aerosmith\",\"Post Malone, Doja Cat\",\"Karol G, Quevedo\",\"Tini\",\"Nengo Flow, Bad Bunny\",\"El Chachito, Junior H\",\"Quevedo, Jhayco\",\"INTERWORLD\",\"TV Girl\",\"sped up nightcore, ARIZONATEARS, Lil Uzi Vert\",\"Raim Laode\",\"TAEYANG, Lisa\",\"Fuerza Regida, Peso Pluma\",\"Grupo Marca Registrada, Grupo Frontera\",\"Nicki Minaj, Ice Spice\",\"The Weeknd, Future\",\"NLE Choppa\",\"SEVENTEEN\",\"Cartel De Santa, La Kelly\",\"sped up 8282\",\"Lizzy McAlpine\",\"Karol G, Romeo Santos\",\"Rich The Kid, Matu\\ufffd\",\"Agust D\",\"Nile Rodgers, LE SSERAFIM\",\"Tory Lanez\",\"Migrantes, LiL CaKe, Nico Valdi\",\"Z\\ufffd\\ufffd Neto & Crist\",\"Offset, JID\",\"MC Caverinha, KayBlack\",\"Stephen Sanchez\",\"Lil Uzi Vert\",\"RM, Colde\",\"Nicky Youre, Dazy\",\"Kaifi Khalil\",\"Eminem, Dina Rae\",\"Morgan Wallen, Eric Church\",\"Myke Towers, Quevedo\",\"Arijit Singh, Sachin-Jigar\",\"Mahalini\",\"Niall Horan\",\"Don Toliver, Future, Justin Bieber\",\"Robin Schulz, Oliver Tree\",\"j-hope, J. Cole\",\"Brray, Rauw Alejandro, Lyanno\",\"Duki, NICKI NICOLE, Cris Mj, Standly, Stars Music Chile\",\"Jack Black\",\"Mac DeMarco\",\"The Walters\",\"Karol G, Ovy On The Drums\",\"Kordhell\",\"Feid, Mora\",\"Mae Stephens\",\"Fuerza Regida, Chino Pacas\",\"Melanie Martinez\",\"Zach Bryan\",\"Mar\\ufffd\\ufffdlia Mendo\",\"Kanii, PR1ISVX\",\"Yng Lvcas\",\"NF\",\"Ti\\ufffd\\ufffdsto, Tate M\",\"Arcangel, Bizarrap\",\"IU, Agust D\",\"Feid, Sech, Jhayco\"],\"xaxis\":\"x\",\"y\":[29,17,16,15,12,11,8,8,8,7,7,6,5,5,4,4,4,4,3,3,3,3,3,3,3,3,3,3,3,3,3,3,3,3,2,2,2,2,2,2,2,2,2,2,2,2,2,2,2,2,2,2,2,2,2,2,2,2,2,2,2,2,2,2,2,2,2,2,2,2,2,2,2,2,2,2,2,2,2,2,2,2,2,2,2,2,2,2,2,2,2,2,2,1,1,1,1,1,1,1,1,1,1,1,1,1,1,1,1,1,1,1,1,1,1,1,1,1,1,1,1,1,1,1,1,1,1,1,1,1,1,1,1,1,1,1,1,1,1,1,1,1,1,1,1,1,1,1,1,1,1,1,1,1,1,1,1,1,1,1,1,1,1,1,1,1,1,1,1,1,1,1,1,1,1,1,1,1,1,1,1,1,1,1,1,1,1,1,1,1,1,1,1,1,1,1,1,1,1,1,1,1,1,1,1,1,1,1,1,1,1,1,1,1,1,1,1,1,1,1,1,1,1,1,1,1,1,1,1,1,1,1,1,1,1,1,1,1,1,1,1,1,1,1,1,1,1,1,1,1,1,1,1,1,1,1,1,1,1,1,1,1,1,1,1,1,1,1,1,1,1,1,1,1,1,1,1,1,1,1,1,1,1,1,1,1,1,1,1,1,1,1,1,1,1,1,1,1,1,1,1,1,1,1,1,1,1,1,1,1,1,1,1,1,1,1,1,1,1,1,1,1,1,1,1,1,1,1,1,1,1,1,1,1,1,1,1,1,1,1,1,1,1,1,1,1,1,1,1,1,1,1,1,1,1,1,1,1,1,1,1,1,1,1,1,1,1,1,1,1,1,1,1,1,1,1,1,1,1,1,1,1,1,1,1,1,1,1,1,1,1,1,1,1,1,1,1,1,1,1,1,1,1,1,1,1,1,1,1,1,1,1,1,1,1,1,1,1,1,1,1,1,1,1,1,1,1,1,1,1,1,1,1,1,1,1,1,1,1,1,1,1,1,1,1,1,1,1,1,1,1,1,1,1,1,1,1,1,1,1,1,1,1,1,1,1,1,1,1,1,1,1,1,1,1,1,1,1,1,1,1,1,1,1,1,1,1,1,1,1,1,1,1,1,1,1,1,1,1,1,1,1,1,1,1,1,1,1,1,1,1,1,1,1,1,1,1,1,1,1,1,1,1,1,1,1,1,1,1,1,1,1,1,1,1,1,1,1,1,1,1,1,1,1,1,1,1,1,1,1,1,1,1,1,1,1,1,1,1,1,1],\"yaxis\":\"y\",\"type\":\"bar\"}],                        {\"template\":{\"data\":{\"histogram2dcontour\":[{\"type\":\"histogram2dcontour\",\"colorbar\":{\"outlinewidth\":0,\"ticks\":\"\"},\"colorscale\":[[0.0,\"#0d0887\"],[0.1111111111111111,\"#46039f\"],[0.2222222222222222,\"#7201a8\"],[0.3333333333333333,\"#9c179e\"],[0.4444444444444444,\"#bd3786\"],[0.5555555555555556,\"#d8576b\"],[0.6666666666666666,\"#ed7953\"],[0.7777777777777778,\"#fb9f3a\"],[0.8888888888888888,\"#fdca26\"],[1.0,\"#f0f921\"]]}],\"choropleth\":[{\"type\":\"choropleth\",\"colorbar\":{\"outlinewidth\":0,\"ticks\":\"\"}}],\"histogram2d\":[{\"type\":\"histogram2d\",\"colorbar\":{\"outlinewidth\":0,\"ticks\":\"\"},\"colorscale\":[[0.0,\"#0d0887\"],[0.1111111111111111,\"#46039f\"],[0.2222222222222222,\"#7201a8\"],[0.3333333333333333,\"#9c179e\"],[0.4444444444444444,\"#bd3786\"],[0.5555555555555556,\"#d8576b\"],[0.6666666666666666,\"#ed7953\"],[0.7777777777777778,\"#fb9f3a\"],[0.8888888888888888,\"#fdca26\"],[1.0,\"#f0f921\"]]}],\"heatmap\":[{\"type\":\"heatmap\",\"colorbar\":{\"outlinewidth\":0,\"ticks\":\"\"},\"colorscale\":[[0.0,\"#0d0887\"],[0.1111111111111111,\"#46039f\"],[0.2222222222222222,\"#7201a8\"],[0.3333333333333333,\"#9c179e\"],[0.4444444444444444,\"#bd3786\"],[0.5555555555555556,\"#d8576b\"],[0.6666666666666666,\"#ed7953\"],[0.7777777777777778,\"#fb9f3a\"],[0.8888888888888888,\"#fdca26\"],[1.0,\"#f0f921\"]]}],\"heatmapgl\":[{\"type\":\"heatmapgl\",\"colorbar\":{\"outlinewidth\":0,\"ticks\":\"\"},\"colorscale\":[[0.0,\"#0d0887\"],[0.1111111111111111,\"#46039f\"],[0.2222222222222222,\"#7201a8\"],[0.3333333333333333,\"#9c179e\"],[0.4444444444444444,\"#bd3786\"],[0.5555555555555556,\"#d8576b\"],[0.6666666666666666,\"#ed7953\"],[0.7777777777777778,\"#fb9f3a\"],[0.8888888888888888,\"#fdca26\"],[1.0,\"#f0f921\"]]}],\"contourcarpet\":[{\"type\":\"contourcarpet\",\"colorbar\":{\"outlinewidth\":0,\"ticks\":\"\"}}],\"contour\":[{\"type\":\"contour\",\"colorbar\":{\"outlinewidth\":0,\"ticks\":\"\"},\"colorscale\":[[0.0,\"#0d0887\"],[0.1111111111111111,\"#46039f\"],[0.2222222222222222,\"#7201a8\"],[0.3333333333333333,\"#9c179e\"],[0.4444444444444444,\"#bd3786\"],[0.5555555555555556,\"#d8576b\"],[0.6666666666666666,\"#ed7953\"],[0.7777777777777778,\"#fb9f3a\"],[0.8888888888888888,\"#fdca26\"],[1.0,\"#f0f921\"]]}],\"surface\":[{\"type\":\"surface\",\"colorbar\":{\"outlinewidth\":0,\"ticks\":\"\"},\"colorscale\":[[0.0,\"#0d0887\"],[0.1111111111111111,\"#46039f\"],[0.2222222222222222,\"#7201a8\"],[0.3333333333333333,\"#9c179e\"],[0.4444444444444444,\"#bd3786\"],[0.5555555555555556,\"#d8576b\"],[0.6666666666666666,\"#ed7953\"],[0.7777777777777778,\"#fb9f3a\"],[0.8888888888888888,\"#fdca26\"],[1.0,\"#f0f921\"]]}],\"mesh3d\":[{\"type\":\"mesh3d\",\"colorbar\":{\"outlinewidth\":0,\"ticks\":\"\"}}],\"scatter\":[{\"fillpattern\":{\"fillmode\":\"overlay\",\"size\":10,\"solidity\":0.2},\"type\":\"scatter\"}],\"parcoords\":[{\"type\":\"parcoords\",\"line\":{\"colorbar\":{\"outlinewidth\":0,\"ticks\":\"\"}}}],\"scatterpolargl\":[{\"type\":\"scatterpolargl\",\"marker\":{\"colorbar\":{\"outlinewidth\":0,\"ticks\":\"\"}}}],\"bar\":[{\"error_x\":{\"color\":\"#2a3f5f\"},\"error_y\":{\"color\":\"#2a3f5f\"},\"marker\":{\"line\":{\"color\":\"#E5ECF6\",\"width\":0.5},\"pattern\":{\"fillmode\":\"overlay\",\"size\":10,\"solidity\":0.2}},\"type\":\"bar\"}],\"scattergeo\":[{\"type\":\"scattergeo\",\"marker\":{\"colorbar\":{\"outlinewidth\":0,\"ticks\":\"\"}}}],\"scatterpolar\":[{\"type\":\"scatterpolar\",\"marker\":{\"colorbar\":{\"outlinewidth\":0,\"ticks\":\"\"}}}],\"histogram\":[{\"marker\":{\"pattern\":{\"fillmode\":\"overlay\",\"size\":10,\"solidity\":0.2}},\"type\":\"histogram\"}],\"scattergl\":[{\"type\":\"scattergl\",\"marker\":{\"colorbar\":{\"outlinewidth\":0,\"ticks\":\"\"}}}],\"scatter3d\":[{\"type\":\"scatter3d\",\"line\":{\"colorbar\":{\"outlinewidth\":0,\"ticks\":\"\"}},\"marker\":{\"colorbar\":{\"outlinewidth\":0,\"ticks\":\"\"}}}],\"scattermapbox\":[{\"type\":\"scattermapbox\",\"marker\":{\"colorbar\":{\"outlinewidth\":0,\"ticks\":\"\"}}}],\"scatterternary\":[{\"type\":\"scatterternary\",\"marker\":{\"colorbar\":{\"outlinewidth\":0,\"ticks\":\"\"}}}],\"scattercarpet\":[{\"type\":\"scattercarpet\",\"marker\":{\"colorbar\":{\"outlinewidth\":0,\"ticks\":\"\"}}}],\"carpet\":[{\"aaxis\":{\"endlinecolor\":\"#2a3f5f\",\"gridcolor\":\"white\",\"linecolor\":\"white\",\"minorgridcolor\":\"white\",\"startlinecolor\":\"#2a3f5f\"},\"baxis\":{\"endlinecolor\":\"#2a3f5f\",\"gridcolor\":\"white\",\"linecolor\":\"white\",\"minorgridcolor\":\"white\",\"startlinecolor\":\"#2a3f5f\"},\"type\":\"carpet\"}],\"table\":[{\"cells\":{\"fill\":{\"color\":\"#EBF0F8\"},\"line\":{\"color\":\"white\"}},\"header\":{\"fill\":{\"color\":\"#C8D4E3\"},\"line\":{\"color\":\"white\"}},\"type\":\"table\"}],\"barpolar\":[{\"marker\":{\"line\":{\"color\":\"#E5ECF6\",\"width\":0.5},\"pattern\":{\"fillmode\":\"overlay\",\"size\":10,\"solidity\":0.2}},\"type\":\"barpolar\"}],\"pie\":[{\"automargin\":true,\"type\":\"pie\"}]},\"layout\":{\"autotypenumbers\":\"strict\",\"colorway\":[\"#636efa\",\"#EF553B\",\"#00cc96\",\"#ab63fa\",\"#FFA15A\",\"#19d3f3\",\"#FF6692\",\"#B6E880\",\"#FF97FF\",\"#FECB52\"],\"font\":{\"color\":\"#2a3f5f\"},\"hovermode\":\"closest\",\"hoverlabel\":{\"align\":\"left\"},\"paper_bgcolor\":\"white\",\"plot_bgcolor\":\"#E5ECF6\",\"polar\":{\"bgcolor\":\"#E5ECF6\",\"angularaxis\":{\"gridcolor\":\"white\",\"linecolor\":\"white\",\"ticks\":\"\"},\"radialaxis\":{\"gridcolor\":\"white\",\"linecolor\":\"white\",\"ticks\":\"\"}},\"ternary\":{\"bgcolor\":\"#E5ECF6\",\"aaxis\":{\"gridcolor\":\"white\",\"linecolor\":\"white\",\"ticks\":\"\"},\"baxis\":{\"gridcolor\":\"white\",\"linecolor\":\"white\",\"ticks\":\"\"},\"caxis\":{\"gridcolor\":\"white\",\"linecolor\":\"white\",\"ticks\":\"\"}},\"coloraxis\":{\"colorbar\":{\"outlinewidth\":0,\"ticks\":\"\"}},\"colorscale\":{\"sequential\":[[0.0,\"#0d0887\"],[0.1111111111111111,\"#46039f\"],[0.2222222222222222,\"#7201a8\"],[0.3333333333333333,\"#9c179e\"],[0.4444444444444444,\"#bd3786\"],[0.5555555555555556,\"#d8576b\"],[0.6666666666666666,\"#ed7953\"],[0.7777777777777778,\"#fb9f3a\"],[0.8888888888888888,\"#fdca26\"],[1.0,\"#f0f921\"]],\"sequentialminus\":[[0.0,\"#0d0887\"],[0.1111111111111111,\"#46039f\"],[0.2222222222222222,\"#7201a8\"],[0.3333333333333333,\"#9c179e\"],[0.4444444444444444,\"#bd3786\"],[0.5555555555555556,\"#d8576b\"],[0.6666666666666666,\"#ed7953\"],[0.7777777777777778,\"#fb9f3a\"],[0.8888888888888888,\"#fdca26\"],[1.0,\"#f0f921\"]],\"diverging\":[[0,\"#8e0152\"],[0.1,\"#c51b7d\"],[0.2,\"#de77ae\"],[0.3,\"#f1b6da\"],[0.4,\"#fde0ef\"],[0.5,\"#f7f7f7\"],[0.6,\"#e6f5d0\"],[0.7,\"#b8e186\"],[0.8,\"#7fbc41\"],[0.9,\"#4d9221\"],[1,\"#276419\"]]},\"xaxis\":{\"gridcolor\":\"white\",\"linecolor\":\"white\",\"ticks\":\"\",\"title\":{\"standoff\":15},\"zerolinecolor\":\"white\",\"automargin\":true,\"zerolinewidth\":2},\"yaxis\":{\"gridcolor\":\"white\",\"linecolor\":\"white\",\"ticks\":\"\",\"title\":{\"standoff\":15},\"zerolinecolor\":\"white\",\"automargin\":true,\"zerolinewidth\":2},\"scene\":{\"xaxis\":{\"backgroundcolor\":\"#E5ECF6\",\"gridcolor\":\"white\",\"linecolor\":\"white\",\"showbackground\":true,\"ticks\":\"\",\"zerolinecolor\":\"white\",\"gridwidth\":2},\"yaxis\":{\"backgroundcolor\":\"#E5ECF6\",\"gridcolor\":\"white\",\"linecolor\":\"white\",\"showbackground\":true,\"ticks\":\"\",\"zerolinecolor\":\"white\",\"gridwidth\":2},\"zaxis\":{\"backgroundcolor\":\"#E5ECF6\",\"gridcolor\":\"white\",\"linecolor\":\"white\",\"showbackground\":true,\"ticks\":\"\",\"zerolinecolor\":\"white\",\"gridwidth\":2}},\"shapedefaults\":{\"line\":{\"color\":\"#2a3f5f\"}},\"annotationdefaults\":{\"arrowcolor\":\"#2a3f5f\",\"arrowhead\":0,\"arrowwidth\":1},\"geo\":{\"bgcolor\":\"white\",\"landcolor\":\"#E5ECF6\",\"subunitcolor\":\"white\",\"showland\":true,\"showlakes\":true,\"lakecolor\":\"white\"},\"title\":{\"x\":0.05},\"mapbox\":{\"style\":\"light\"}}},\"xaxis\":{\"anchor\":\"y\",\"domain\":[0.0,1.0],\"title\":{\"text\":\"artist(s)_name\"}},\"yaxis\":{\"anchor\":\"x\",\"domain\":[0.0,1.0],\"title\":{\"text\":\"Count\"}},\"legend\":{\"tracegroupgap\":0},\"title\":{\"text\":\"Class imbalance for 'artist(s)_name'\"},\"barmode\":\"relative\"},                        {\"responsive\": true}                    ).then(function(){\n                            \nvar gd = document.getElementById('04a06201-7e6e-48b3-bb54-cd014c94bc07');\nvar x = new MutationObserver(function (mutations, observer) {{\n        var display = window.getComputedStyle(gd).display;\n        if (!display || display === 'none') {{\n            console.log([gd, 'removed!']);\n            Plotly.purge(gd);\n            observer.disconnect();\n        }}\n}});\n\n// Listen for the removal of the full notebook cells\nvar notebookContainer = gd.closest('#notebook-container');\nif (notebookContainer) {{\n    x.observe(notebookContainer, {childList: true});\n}}\n\n// Listen for the clearing of the current output cell\nvar outputEl = gd.closest('.output');\nif (outputEl) {{\n    x.observe(outputEl, {childList: true});\n}}\n\n                        })                };                });            </script>        </div>"
     },
     "metadata": {},
     "output_type": "display_data"
    }
   ],
   "source": [
    "# Write a function to check for class imbalance\n",
    "def check_class_imbalance(data_frame, target_column):\n",
    "    # Get the counts for each class\n",
    "    class_counts = data_frame[target_column].value_counts()\n",
    "\n",
    "    # Get the class names\n",
    "    class_names = class_counts.index\n",
    "\n",
    "    # Get the class counts\n",
    "    class_values = class_counts.values\n",
    "\n",
    "    # Create a bar plot\n",
    "    fig = px.bar(\n",
    "        x=class_names,\n",
    "        y=class_values,\n",
    "        title=f\"Class imbalance for '{target_column}'\"\n",
    "    )\n",
    "    fig.update_xaxes(title_text=target_column)  # Update x-axis title\n",
    "    fig.update_yaxes(title_text=\"Count\")  # Update y-axis title\n",
    "    # Show the plot\n",
    "    fig.show()\n",
    "\n",
    "list = [\"key\", \"mode\", \"danceability_%\", \"artist(s)_name\" ]\n",
    "for column in list:\n",
    "    check_class_imbalance(spotify_df, column)\n"
   ],
   "metadata": {
    "collapsed": false,
    "ExecuteTime": {
     "end_time": "2023-10-20T13:48:39.401335Z",
     "start_time": "2023-10-20T13:48:39.244275Z"
    }
   },
   "id": "3aa965a6b5490256"
  },
  {
   "cell_type": "code",
   "execution_count": 137,
   "outputs": [
    {
     "data": {
      "text/plain": "track_name              29\nartist(s)_name          29\nartist_count            29\nrelease_date            29\nin_spotify_playlists    29\nin_spotify_charts       29\nstreams                 29\nin_apple_playlists      29\nin_apple_charts         29\nin_deezer_playlists     29\nin_deezer_charts        29\nin_shazam_charts        29\nbpm                     29\nkey                     29\nmode                    29\ndanceability_%          29\nvalence_%               29\nenergy_%                29\nacousticness_%          29\ninstrumentalness_%      29\nliveness_%              29\nspeechiness_%           29\ndtype: int64"
     },
     "execution_count": 137,
     "metadata": {},
     "output_type": "execute_result"
    }
   ],
   "source": [
    "#count of all songs of Taylor Swift\n",
    "spotify_df[spotify_df[\"artist(s)_name\"] == \"Taylor Swift\"].count()"
   ],
   "metadata": {
    "collapsed": false,
    "ExecuteTime": {
     "end_time": "2023-10-20T13:50:24.159871Z",
     "start_time": "2023-10-20T13:50:24.084849Z"
    }
   },
   "id": "6c0a033739df095f"
  },
  {
   "cell_type": "markdown",
   "source": [
    "Looking at the count of classes in mode, there is a big difference in class count where 519 of the songs are major and only 285 are minor. \n",
    "Possible consequences: Bias in Model Performance, Overfitting, Poor Generalization\n"
   ],
   "metadata": {
    "collapsed": false
   },
   "id": "4c42117dc714590d"
  },
  {
   "cell_type": "markdown",
   "source": [
    "## Exercise 2\n"
   ],
   "metadata": {
    "collapsed": false
   },
   "id": "50bf4e6625d276d1"
  }
 ],
 "metadata": {
  "kernelspec": {
   "display_name": "Python 3",
   "language": "python",
   "name": "python3"
  },
  "language_info": {
   "codemirror_mode": {
    "name": "ipython",
    "version": 2
   },
   "file_extension": ".py",
   "mimetype": "text/x-python",
   "name": "python",
   "nbconvert_exporter": "python",
   "pygments_lexer": "ipython2",
   "version": "2.7.6"
  }
 },
 "nbformat": 4,
 "nbformat_minor": 5
}
